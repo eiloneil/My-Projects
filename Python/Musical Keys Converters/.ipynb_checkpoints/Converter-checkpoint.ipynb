{
 "cells": [
  {
   "cell_type": "markdown",
   "id": "b1214268",
   "metadata": {},
   "source": [
    "# Notes Converter!\n",
    "### Set your notes to any key you want!"
   ]
  },
  {
   "cell_type": "markdown",
   "id": "e8f9576c",
   "metadata": {},
   "source": [
    " "
   ]
  },
  {
   "cell_type": "markdown",
   "id": "ec5c7367",
   "metadata": {},
   "source": [
    "## Create Functions"
   ]
  },
  {
   "cell_type": "code",
   "execution_count": 79,
   "id": "ec80e26f",
   "metadata": {},
   "outputs": [],
   "source": [
    "all_notes = ['do', 'do#', 're', 're#', 'mi', 'fa', 'fa#', 'sol', 'sol#', 'la', 'la#', 'si']\n",
    "\n",
    "def get_notes_dict():\n",
    "    \n",
    "    tone_to_note = {}\n",
    "    note_to_tone = {}\n",
    "    t = 0\n",
    "\n",
    "    for note in all_notes:\n",
    "        tone_to_note[t] = note\n",
    "        note_to_tone[note] = t\n",
    "        t = t + 0.5\n",
    "    \n",
    "    return tone_to_note, note_to_tone\n",
    "\n",
    "\n",
    "tone_to_note, note_to_tone = get_notes_dict()\n",
    "\n",
    "\n",
    "def final_converter(notes, key):\n",
    "    notes_to_raise = get_diez(key[0], key[1])\n",
    "    \n",
    "    final = []\n",
    "    for note in notes:\n",
    "        \n",
    "        new_note = convert(note, notes_to_raise)\n",
    "        final.append(new_note)\n",
    "    return final\n",
    "        \n",
    "        \n",
    "def convert(n, k):\n",
    "    if n in k.keys():\n",
    "        n = k[n]\n",
    "        \n",
    "    return n\n",
    "\n",
    "\n",
    "\n",
    "def find_notes_to_raise(k):\n",
    "    if 'major' in k.lower():\n",
    "        pass\n",
    "       \n",
    "        \n",
    "def raise_note(n, t):\n",
    "    \n",
    "    n_ton = note_to_tone[n]\n",
    "    n_ton = (n_ton + t)\n",
    "    t_new = n_ton % 6\n",
    "    \n",
    "    return tone_to_note[t_new]\n",
    "\n",
    "\n",
    "\n",
    "def get_diez(k, k_type):\n",
    "    \n",
    "    if k_type == 'major' and k != 'fa' and '#' not in k:\n",
    "        new_list = []\n",
    "        first_note = k\n",
    "        new_list.append(first_note)\n",
    "        \n",
    "        new_note = first_note\n",
    "        new_note = raise_note(new_note, 1)\n",
    "        new_list.append(new_note)\n",
    "        \n",
    "        new_note = raise_note(new_note, 1)\n",
    "        new_list.append(new_note)\n",
    "        \n",
    "        new_note = raise_note(new_note, 0.5)\n",
    "        new_list.append(new_note)\n",
    "        \n",
    "        new_note = raise_note(new_note, 1)\n",
    "        new_list.append(new_note)\n",
    "        \n",
    "        new_note = raise_note(new_note, 1)\n",
    "        new_list.append(new_note)\n",
    "        \n",
    "        new_note = raise_note(new_note, 1)\n",
    "        new_list.append(new_note)\n",
    "        \n",
    "        new_note = raise_note(new_note, 0.5)\n",
    "        new_list.append(new_note)\n",
    "        \n",
    "        new_list = list(filter(lambda x: '#' in x, new_list))\n",
    "        \n",
    "        final_dict = {diez[:-1]:diez for diez in new_list}\n",
    "        \n",
    "        return final_dict\n",
    "    else:\n",
    "        return []\n"
   ]
  },
  {
   "cell_type": "markdown",
   "id": "1cbb03e5",
   "metadata": {},
   "source": [
    "## Time to Convert!"
   ]
  },
  {
   "cell_type": "code",
   "execution_count": 80,
   "id": "c2940461",
   "metadata": {},
   "outputs": [
    {
     "data": {
      "text/plain": [
       "['sol#', 'do#', 'do#', 'mi', 'sol#', 'sol#', 'sol#', 'si']"
      ]
     },
     "execution_count": 80,
     "metadata": {},
     "output_type": "execute_result"
    }
   ],
   "source": [
    "my_notes = ['sol','do','do','mi','sol','sol','sol', 'si']\n",
    "key = ['si', 'major']\n",
    "expected = ['do', 'fa#', 'fa#', 'mi']\n",
    "\n",
    "final_converter(my_notes, key)"
   ]
  },
  {
   "cell_type": "code",
   "execution_count": null,
   "id": "1188b5ec",
   "metadata": {},
   "outputs": [],
   "source": []
  },
  {
   "cell_type": "code",
   "execution_count": 67,
   "id": "2c94b545",
   "metadata": {},
   "outputs": [
    {
     "data": {
      "text/plain": [
       "{'fa': 'fa#'}"
      ]
     },
     "execution_count": 67,
     "metadata": {},
     "output_type": "execute_result"
    }
   ],
   "source": []
  },
  {
   "cell_type": "code",
   "execution_count": null,
   "id": "099de4dd",
   "metadata": {},
   "outputs": [],
   "source": []
  }
 ],
 "metadata": {
  "kernelspec": {
   "display_name": "Python 3",
   "language": "python",
   "name": "python3"
  },
  "language_info": {
   "codemirror_mode": {
    "name": "ipython",
    "version": 3
   },
   "file_extension": ".py",
   "mimetype": "text/x-python",
   "name": "python",
   "nbconvert_exporter": "python",
   "pygments_lexer": "ipython3",
   "version": "3.8.8"
  }
 },
 "nbformat": 4,
 "nbformat_minor": 5
}
