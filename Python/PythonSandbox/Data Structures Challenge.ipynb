{
 "cells": [
  {
   "cell_type": "code",
   "execution_count": 1,
   "id": "f74e6c3f",
   "metadata": {},
   "outputs": [],
   "source": [
    "import functools as f"
   ]
  },
  {
   "cell_type": "code",
   "execution_count": 2,
   "id": "647de08c",
   "metadata": {},
   "outputs": [],
   "source": [
    "customers = {'Nathan': [{'bananas':2}, {'apples':2}, {'melons':7, 'strawberries':10}]\n",
    "            ,'Dan': [{'bananas':10}, {'apples':2}, {'strawberries':6}]}\n"
   ]
  },
  {
   "cell_type": "code",
   "execution_count": 3,
   "id": "fb3f252d",
   "metadata": {},
   "outputs": [],
   "source": [
    "groceries_stock = {\n",
    "    'bananas':5\n",
    "    ,'apples':10\n",
    "    ,'melons':5\n",
    "    ,'strawberries':5\n",
    "}\n",
    "\n",
    "\n",
    "prices = {\n",
    "    'bananas':3\n",
    "    ,'apples':1\n",
    "    ,'melons':5\n",
    "    ,'strawberries':5\n",
    "}"
   ]
  },
  {
   "cell_type": "code",
   "execution_count": 15,
   "id": "ac2ef475",
   "metadata": {},
   "outputs": [
    {
     "name": "stdout",
     "output_type": "stream",
     "text": [
      "{'Nathan': {'melons': 2, 'strawberries': 5}, 'Dan': {'bananas': 5, 'strawberries': 1}}\n"
     ]
    }
   ],
   "source": [
    "def lst_to_dict(x1, x2):\n",
    "    x1.update(x2)\n",
    "    return x1\n",
    "        \n",
    "gaps = {}\n",
    "for name in customers.keys():\n",
    "    \n",
    "    # Get list of products' dictinaries per Customer\n",
    "    lst = customers[name][:]\n",
    "    \n",
    "    # Merge dictionaries to one unified dict\n",
    "    customer_dict = f.reduce(lst_to_dict, lst)    \n",
    "\n",
    "    # Create gaps dictionary per Customer for every product which demanded quantity surpasses the existing stock\n",
    "    gaps_per_customer = {k:qnt - groceries_stock[k] for (k, qnt) in customer_dict.items() if qnt - groceries_stock[k] > 0}\n",
    "    \n",
    "    # Update the final gaps dictionary\n",
    "    gaps.update({name:gaps_per_customer}) if len(gaps_per_customer) > 0 else None\n",
    "    \n",
    "\n",
    "print(gaps)\n",
    "\n",
    "        "
   ]
  },
  {
   "cell_type": "code",
   "execution_count": 16,
   "id": "e05fa17f",
   "metadata": {},
   "outputs": [
    {
     "data": {
      "text/plain": [
       "{'Nathan': 35, 'Dan': 20}"
      ]
     },
     "execution_count": 16,
     "metadata": {},
     "output_type": "execute_result"
    }
   ],
   "source": [
    "def qnt_dict_to_price(dct):\n",
    "    for pro, qnt in dct.items():\n",
    "        yield qnt * prices[pro]\n",
    "\n",
    "loss_per_name = {}\n",
    "for name, gap_lst in gaps.items():\n",
    "    loss_per_name.update({name: sum(qnt_dict_to_price(gap_lst))})\n",
    "    \n",
    "loss_per_name"
   ]
  },
  {
   "cell_type": "code",
   "execution_count": null,
   "id": "d609f570",
   "metadata": {},
   "outputs": [],
   "source": []
  },
  {
   "cell_type": "code",
   "execution_count": 24,
   "id": "d64286c3",
   "metadata": {},
   "outputs": [],
   "source": [
    "import functools as f\n",
    "\n",
    "shopping_list = {\"Nathan\":[{\"banana\":3}, {\"orange\":4}, {\"apple\":3}],\n",
    "                \"Jenifer\":[{\"banana\":5}, {\"pear\":6}, {\"orange\":11}],\n",
    "                \"Donna\":[ {\"orange\":4}, {\"apple\":10}]}\n",
    "\n",
    "groceries_stock = {\n",
    "    \"banana\": 6,\n",
    "    \"apple\": 5,\n",
    "    \"orange\": 32,\n",
    "    \"pear\": 15\n",
    "}\n",
    "\n",
    "prices = {\n",
    "    \"banana\": 4,\n",
    "    \"apple\": 2,\n",
    "    \"orange\": 1.5,\n",
    "    \"pear\": 3\n",
    "}\n",
    "\n",
    "\n"
   ]
  },
  {
   "cell_type": "code",
   "execution_count": 22,
   "id": "20d07127",
   "metadata": {},
   "outputs": [
    {
     "name": "stdout",
     "output_type": "stream",
     "text": [
      "('banana', 3)\n",
      "('orange', 4)\n",
      "('apple', 3)\n"
     ]
    }
   ],
   "source": [
    "for i in shopping_list['Nathan']:\n",
    "    for i1 in i.items():\n",
    "        print(i1)"
   ]
  },
  {
   "cell_type": "code",
   "execution_count": 23,
   "id": "0fea7ee0",
   "metadata": {},
   "outputs": [
    {
     "name": "stdout",
     "output_type": "stream",
     "text": [
      "{'banana': 6, 'apple': 5, 'orange': 32, 'pear': 15}\n"
     ]
    },
    {
     "data": {
      "text/plain": [
       "{'Nathan': 0, 'Jenifer': 0, 'Donna': 10}"
      ]
     },
     "execution_count": 23,
     "metadata": {},
     "output_type": "execute_result"
    }
   ],
   "source": [
    "def reducer(x1, x2):\n",
    "    x1.update(x2)\n",
    "    return x1\n",
    "\n",
    "def lst_to_dict(lst):\n",
    "    return f.reduce(reducer, lst)\n",
    "\n",
    "gaps_by_prod = groceries_stock.copy()\n",
    "gaps_by_customer = {name:{} for name in shopping_list.keys()}\n",
    "prices_by_customer = gaps_by_customer\n",
    "\n",
    "print(gaps_by_prod)\n",
    "\n",
    "for cus, lst in shopping_list.items():\n",
    "    shopping_dict = lst_to_dict(lst)\n",
    "    \n",
    "    for prod, qnt in shopping_dict.items():\n",
    "        gaps_by_prod[prod] -= qnt # deduct demands from stock per product\n",
    "        gaps_by_customer[cus].update({prod:qnt-groceries_stock[prod]})\n",
    "        \n",
    "    prices_gaps_only = {prod:(qnt * prices[prod]) for (prod, qnt) in gaps_by_customer[cus].items() if qnt > 0}\n",
    "    prices_by_customer.update({cus:sum(prices_gaps_only.values())})    \n",
    "\n",
    "    \n",
    "prices_by_customer\n"
   ]
  },
  {
   "cell_type": "code",
   "execution_count": 25,
   "id": "59d8c67b",
   "metadata": {},
   "outputs": [
    {
     "data": {
      "text/plain": [
       "(2, 2, 4)"
      ]
     },
     "execution_count": 25,
     "metadata": {},
     "output_type": "execute_result"
    }
   ],
   "source": [
    "str = '(1, 5, 8),(2, 2, 4)'\n",
    "eval(str)[1]"
   ]
  },
  {
   "cell_type": "code",
   "execution_count": 15,
   "id": "a46dbb76",
   "metadata": {},
   "outputs": [],
   "source": [
    "dic = (('a', 10))"
   ]
  },
  {
   "cell_type": "code",
   "execution_count": 19,
   "id": "ba4ea61c",
   "metadata": {},
   "outputs": [
    {
     "data": {
      "text/plain": [
       "('a', 10)"
      ]
     },
     "execution_count": 19,
     "metadata": {},
     "output_type": "execute_result"
    }
   ],
   "source": [
    "dic"
   ]
  },
  {
   "cell_type": "code",
   "execution_count": 23,
   "id": "55f35641",
   "metadata": {},
   "outputs": [
    {
     "name": "stdout",
     "output_type": "stream",
     "text": [
      "10 20\n"
     ]
    }
   ],
   "source": [
    "kw = {'a': 10, 'b':20}\n",
    "\n",
    "def foo(a, b):\n",
    "    print(a, b)\n",
    "    \n",
    "foo(**kw)"
   ]
  },
  {
   "cell_type": "code",
   "execution_count": 26,
   "id": "d2790ca1",
   "metadata": {},
   "outputs": [],
   "source": [
    "from operator import itemgetter as ig"
   ]
  },
  {
   "cell_type": "code",
   "execution_count": 29,
   "id": "1dcb7c8c",
   "metadata": {},
   "outputs": [
    {
     "data": {
      "text/plain": [
       "([{'banana': 3}, {'orange': 4}, {'apple': 3}], [{'orange': 4}, {'apple': 10}])"
      ]
     },
     "execution_count": 29,
     "metadata": {},
     "output_type": "execute_result"
    }
   ],
   "source": [
    "ig('Nathan', 'Donna')(shopping_list)"
   ]
  },
  {
   "cell_type": "code",
   "execution_count": 49,
   "id": "395e573b",
   "metadata": {},
   "outputs": [],
   "source": [
    "fl = filter(lambda x: x[0] in ('Nathan', 'Donna') , shopping_list.items())"
   ]
  },
  {
   "cell_type": "code",
   "execution_count": 50,
   "id": "b3f35a23",
   "metadata": {},
   "outputs": [
    {
     "data": {
      "text/plain": [
       "[('Nathan', [{'banana': 3}, {'orange': 4}, {'apple': 3}]),\n",
       " ('Donna', [{'orange': 4}, {'apple': 10}])]"
      ]
     },
     "execution_count": 50,
     "metadata": {},
     "output_type": "execute_result"
    }
   ],
   "source": [
    "\n",
    "list(fl)"
   ]
  },
  {
   "cell_type": "code",
   "execution_count": null,
   "id": "58a1683d",
   "metadata": {},
   "outputs": [],
   "source": []
  }
 ],
 "metadata": {
  "kernelspec": {
   "display_name": "Python 3",
   "language": "python",
   "name": "python3"
  },
  "language_info": {
   "codemirror_mode": {
    "name": "ipython",
    "version": 3
   },
   "file_extension": ".py",
   "mimetype": "text/x-python",
   "name": "python",
   "nbconvert_exporter": "python",
   "pygments_lexer": "ipython3",
   "version": "3.8.8"
  }
 },
 "nbformat": 4,
 "nbformat_minor": 5
}
