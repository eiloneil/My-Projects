{
 "cells": [
  {
   "cell_type": "code",
   "execution_count": null,
   "metadata": {},
   "outputs": [],
   "source": [
    "import pandas as pd"
   ]
  },
  {
   "cell_type": "code",
   "execution_count": 5,
   "metadata": {},
   "outputs": [],
   "source": [
    "\n",
    "def df_to_sql(df, rtrn='list', export=False):\n",
    "    \"\"\"\n",
    "    Turn Excel or any other Data-Frame into executable SQL\n",
    "    \n",
    "    Parameters:\n",
    "    df (pandas.DataFrame): DataFrame of any kind. This will be the desired Table over which the user wishes to query.\n",
    "    rtrn (str): Optionable for the user to chose whether the function will return the SQL query as a 'list' or a 'df'.\n",
    "    export (bool): Optionable for the user to chose whether the function will export the sql df or not.\n",
    "    \n",
    "    Return:\n",
    "    (list/pandas.DataFrame): Return the initial Table as a SQL query in the selected format (depends on the param 'rtrn')\n",
    "    \"\"\"\n",
    "    \n",
    "    df = df.fillna('NULL')\n",
    "    final_query_txt = []\n",
    "    \n",
    "    for i, row in df.iterrows():\n",
    "        txt = 'select '\n",
    "        for col in df.columns:\n",
    "            val = row[col]\n",
    "            \n",
    "            # IF STRING: Duplicate all apostrophes to preserve SQL syntax consistency\n",
    "            if type(val) == type('string') and val != 'NULL': \n",
    "                val = \"'\"+val.replace(\"'\", \"\\'\\'\")+\"'\"\n",
    "\n",
    "            txt += str(val) + ' as [' + col + '], '\n",
    "            \n",
    "        txt = txt[:-2] + ' UNION ALL'\n",
    "        final_query_txt.append(txt)\n",
    "\n",
    "        # Eliminate the last 'union all' statement\n",
    "    final_query_txt[-1] = final_query_txt[-1][:-10] \n",
    "        # Turn nan into NULL\n",
    "    for i in range(len(final_query_txt)):\n",
    "        final_query_txt[i] = final_query_txt[i].replace(' nan ', ' NULL ')\n",
    "        # Define optional formats for the function to return, based on the user's selection (param 'rtrn')\n",
    "    df_SQL = pd.DataFrame({'SQL':final_query_txt})\n",
    "    results = {'list': final_query_txt\n",
    "             , 'df':df_SQL}\n",
    "    if export: # OPTIONAL: Export pd.df of SQL statements to current Folder\n",
    "        df_SQL.to_excel('output_sql.xlsx')\n",
    "\n",
    "    return results[rtrn]\n",
    "\n",
    "\n",
    "\n",
    "df = pd.read_clipboard()\n",
    "df_sql = df_to_sql(df, 'df', export=True)\n",
    "df_sql.to_clipboard(index=False, header=False)\n"
   ]
  },
  {
   "cell_type": "code",
   "execution_count": 56,
   "metadata": {},
   "outputs": [
    {
     "data": {
      "text/plain": [
       "0"
      ]
     },
     "execution_count": 56,
     "metadata": {},
     "output_type": "execute_result"
    }
   ],
   "source": []
  }
 ],
 "metadata": {
  "kernelspec": {
   "display_name": "Python 3",
   "language": "python",
   "name": "python3"
  },
  "language_info": {
   "codemirror_mode": {
    "name": "ipython",
    "version": 3
   },
   "file_extension": ".py",
   "mimetype": "text/x-python",
   "name": "python",
   "nbconvert_exporter": "python",
   "pygments_lexer": "ipython3",
   "version": "3.8.3"
  }
 },
 "nbformat": 4,
 "nbformat_minor": 4
}
