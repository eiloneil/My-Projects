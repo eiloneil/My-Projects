{
 "cells": [
  {
   "cell_type": "code",
   "execution_count": 99,
   "metadata": {},
   "outputs": [],
   "source": [
    "import random as rd\n",
    "import pandas as pd\n",
    "\n",
    "\n",
    "events = pd.DataFrame({'hero_health':[], 'enemy_strike':[], 'hero_parry':[], 'damage_dealt':[], 'health_left':[]})\n",
    "\n",
    "class Enemy:\n",
    "    atkl = 50\n",
    "    atkh = 100\n",
    "    def attck(self):\n",
    "        damage = rd.randint(self.atkl, self.atkh+1)\n",
    "        return damage\n",
    "        \n",
    "enemy1 = Enemy()\n",
    "enemy1.attck()\n",
    "\n",
    "class Hero:\n",
    "    parryl = 0\n",
    "    parryh = 50\n",
    "    def parry(self):\n",
    "        damage_p = rd.randint(self.parryl, self.parryh+1)\n",
    "        return damage_p/100\n",
    "        \n",
    "enemy1 = Enemy()\n",
    "hero = Hero()"
   ]
  },
  {
   "cell_type": "code",
   "execution_count": 105,
   "metadata": {},
   "outputs": [
    {
     "name": "stdout",
     "output_type": "stream",
     "text": [
      "79\n"
     ]
    }
   ],
   "source": [
    "print(enemy1.attck())"
   ]
  },
  {
   "cell_type": "code",
   "execution_count": 111,
   "metadata": {},
   "outputs": [
    {
     "name": "stdout",
     "output_type": "stream",
     "text": [
      "0.02\n"
     ]
    }
   ],
   "source": [
    "print(hero.parry())"
   ]
  },
  {
   "cell_type": "code",
   "execution_count": 35,
   "metadata": {},
   "outputs": [],
   "source": [
    "HERO_HP = 90\n",
    "enemy_strike = None\n",
    "hero_parry = None\n",
    "damage_dealt = None\n",
    "health_left = None"
   ]
  },
  {
   "cell_type": "code",
   "execution_count": 114,
   "metadata": {},
   "outputs": [],
   "source": [
    "events = pd.DataFrame({'hero_health':[], 'enemy_strike':[], 'hero_parry':[], 'damage_dealt':[], 'health_left':[]})"
   ]
  },
  {
   "cell_type": "code",
   "execution_count": 113,
   "metadata": {},
   "outputs": [
    {
     "data": {
      "text/html": [
       "<div>\n",
       "<style scoped>\n",
       "    .dataframe tbody tr th:only-of-type {\n",
       "        vertical-align: middle;\n",
       "    }\n",
       "\n",
       "    .dataframe tbody tr th {\n",
       "        vertical-align: top;\n",
       "    }\n",
       "\n",
       "    .dataframe thead th {\n",
       "        text-align: right;\n",
       "    }\n",
       "</style>\n",
       "<table border=\"1\" class=\"dataframe\">\n",
       "  <thead>\n",
       "    <tr style=\"text-align: right;\">\n",
       "      <th></th>\n",
       "      <th>hero_health</th>\n",
       "      <th>enemy_strike</th>\n",
       "      <th>hero_parry</th>\n",
       "      <th>damage_dealt</th>\n",
       "      <th>health_left</th>\n",
       "    </tr>\n",
       "  </thead>\n",
       "  <tbody>\n",
       "    <tr>\n",
       "      <th>0</th>\n",
       "      <td>90.0</td>\n",
       "      <td>61.0</td>\n",
       "      <td>0.2</td>\n",
       "      <td>12.2</td>\n",
       "      <td>77.8</td>\n",
       "    </tr>\n",
       "  </tbody>\n",
       "</table>\n",
       "</div>"
      ],
      "text/plain": [
       "   hero_health  enemy_strike  hero_parry  damage_dealt  health_left\n",
       "0         90.0          61.0         0.2          12.2         77.8"
      ]
     },
     "execution_count": 113,
     "metadata": {},
     "output_type": "execute_result"
    }
   ],
   "source": [
    "events =  events.append({'hero_health':HERO_HP, 'enemy_strike':enemy_strike, 'hero_parry':hero_parry, 'damage_dealt':damage_dealt, 'health_left':health_left},ignore_index=True)\n",
    "events"
   ]
  },
  {
   "cell_type": "code",
   "execution_count": 115,
   "metadata": {},
   "outputs": [
    {
     "data": {
      "text/html": [
       "<div>\n",
       "<style scoped>\n",
       "    .dataframe tbody tr th:only-of-type {\n",
       "        vertical-align: middle;\n",
       "    }\n",
       "\n",
       "    .dataframe tbody tr th {\n",
       "        vertical-align: top;\n",
       "    }\n",
       "\n",
       "    .dataframe thead th {\n",
       "        text-align: right;\n",
       "    }\n",
       "</style>\n",
       "<table border=\"1\" class=\"dataframe\">\n",
       "  <thead>\n",
       "    <tr style=\"text-align: right;\">\n",
       "      <th></th>\n",
       "      <th>hero_health</th>\n",
       "      <th>enemy_strike</th>\n",
       "      <th>hero_parry</th>\n",
       "      <th>damage_dealt</th>\n",
       "      <th>health_left</th>\n",
       "    </tr>\n",
       "  </thead>\n",
       "  <tbody>\n",
       "    <tr>\n",
       "      <th>20</th>\n",
       "      <td>90.0</td>\n",
       "      <td>100.0</td>\n",
       "      <td>0.50</td>\n",
       "      <td>50.00</td>\n",
       "      <td>40.00</td>\n",
       "    </tr>\n",
       "    <tr>\n",
       "      <th>85</th>\n",
       "      <td>90.0</td>\n",
       "      <td>95.0</td>\n",
       "      <td>0.50</td>\n",
       "      <td>47.50</td>\n",
       "      <td>42.50</td>\n",
       "    </tr>\n",
       "    <tr>\n",
       "      <th>42</th>\n",
       "      <td>90.0</td>\n",
       "      <td>95.0</td>\n",
       "      <td>0.49</td>\n",
       "      <td>46.55</td>\n",
       "      <td>43.45</td>\n",
       "    </tr>\n",
       "    <tr>\n",
       "      <th>55</th>\n",
       "      <td>90.0</td>\n",
       "      <td>89.0</td>\n",
       "      <td>0.45</td>\n",
       "      <td>40.05</td>\n",
       "      <td>49.95</td>\n",
       "    </tr>\n",
       "    <tr>\n",
       "      <th>97</th>\n",
       "      <td>90.0</td>\n",
       "      <td>100.0</td>\n",
       "      <td>0.39</td>\n",
       "      <td>39.00</td>\n",
       "      <td>51.00</td>\n",
       "    </tr>\n",
       "    <tr>\n",
       "      <th>...</th>\n",
       "      <td>...</td>\n",
       "      <td>...</td>\n",
       "      <td>...</td>\n",
       "      <td>...</td>\n",
       "      <td>...</td>\n",
       "    </tr>\n",
       "    <tr>\n",
       "      <th>79</th>\n",
       "      <td>90.0</td>\n",
       "      <td>95.0</td>\n",
       "      <td>0.02</td>\n",
       "      <td>1.90</td>\n",
       "      <td>88.10</td>\n",
       "    </tr>\n",
       "    <tr>\n",
       "      <th>95</th>\n",
       "      <td>90.0</td>\n",
       "      <td>64.0</td>\n",
       "      <td>0.02</td>\n",
       "      <td>1.28</td>\n",
       "      <td>88.72</td>\n",
       "    </tr>\n",
       "    <tr>\n",
       "      <th>48</th>\n",
       "      <td>90.0</td>\n",
       "      <td>62.0</td>\n",
       "      <td>0.02</td>\n",
       "      <td>1.24</td>\n",
       "      <td>88.76</td>\n",
       "    </tr>\n",
       "    <tr>\n",
       "      <th>39</th>\n",
       "      <td>90.0</td>\n",
       "      <td>94.0</td>\n",
       "      <td>0.01</td>\n",
       "      <td>0.94</td>\n",
       "      <td>89.06</td>\n",
       "    </tr>\n",
       "    <tr>\n",
       "      <th>13</th>\n",
       "      <td>90.0</td>\n",
       "      <td>76.0</td>\n",
       "      <td>0.01</td>\n",
       "      <td>0.76</td>\n",
       "      <td>89.24</td>\n",
       "    </tr>\n",
       "  </tbody>\n",
       "</table>\n",
       "<p>100 rows × 5 columns</p>\n",
       "</div>"
      ],
      "text/plain": [
       "    hero_health  enemy_strike  hero_parry  damage_dealt  health_left\n",
       "20         90.0         100.0        0.50         50.00        40.00\n",
       "85         90.0          95.0        0.50         47.50        42.50\n",
       "42         90.0          95.0        0.49         46.55        43.45\n",
       "55         90.0          89.0        0.45         40.05        49.95\n",
       "97         90.0         100.0        0.39         39.00        51.00\n",
       "..          ...           ...         ...           ...          ...\n",
       "79         90.0          95.0        0.02          1.90        88.10\n",
       "95         90.0          64.0        0.02          1.28        88.72\n",
       "48         90.0          62.0        0.02          1.24        88.76\n",
       "39         90.0          94.0        0.01          0.94        89.06\n",
       "13         90.0          76.0        0.01          0.76        89.24\n",
       "\n",
       "[100 rows x 5 columns]"
      ]
     },
     "execution_count": 115,
     "metadata": {},
     "output_type": "execute_result"
    }
   ],
   "source": [
    "for i in range(100):\n",
    "    enemy_strike = enemy1.attck()\n",
    "    hero_parry = hero.parry()\n",
    "    damage_dealt = enemy_strike * hero_parry\n",
    "    health_left = HERO_HP - damage_dealt\n",
    "    \n",
    "    events =  events.append({'hero_health':HERO_HP, 'enemy_strike':enemy_strike, 'hero_parry':hero_parry, 'damage_dealt':damage_dealt, 'health_left':health_left},ignore_index=True)\n",
    "\n",
    "events.sort_values('health_left')    "
   ]
  },
  {
   "cell_type": "code",
   "execution_count": 86,
   "metadata": {},
   "outputs": [
    {
     "data": {
      "text/html": [
       "<div>\n",
       "<style scoped>\n",
       "    .dataframe tbody tr th:only-of-type {\n",
       "        vertical-align: middle;\n",
       "    }\n",
       "\n",
       "    .dataframe tbody tr th {\n",
       "        vertical-align: top;\n",
       "    }\n",
       "\n",
       "    .dataframe thead th {\n",
       "        text-align: right;\n",
       "    }\n",
       "</style>\n",
       "<table border=\"1\" class=\"dataframe\">\n",
       "  <thead>\n",
       "    <tr style=\"text-align: right;\">\n",
       "      <th></th>\n",
       "      <th>0</th>\n",
       "    </tr>\n",
       "  </thead>\n",
       "  <tbody>\n",
       "    <tr>\n",
       "      <th>hero_health</th>\n",
       "      <td>90.00000</td>\n",
       "    </tr>\n",
       "    <tr>\n",
       "      <th>enemy_strike</th>\n",
       "      <td>75.76750</td>\n",
       "    </tr>\n",
       "    <tr>\n",
       "      <th>hero_parry</th>\n",
       "      <td>0.25200</td>\n",
       "    </tr>\n",
       "    <tr>\n",
       "      <th>damage_dealt</th>\n",
       "      <td>19.37575</td>\n",
       "    </tr>\n",
       "    <tr>\n",
       "      <th>health_left</th>\n",
       "      <td>70.62425</td>\n",
       "    </tr>\n",
       "  </tbody>\n",
       "</table>\n",
       "</div>"
      ],
      "text/plain": [
       "                     0\n",
       "hero_health   90.00000\n",
       "enemy_strike  75.76750\n",
       "hero_parry     0.25200\n",
       "damage_dealt  19.37575\n",
       "health_left   70.62425"
      ]
     },
     "execution_count": 86,
     "metadata": {},
     "output_type": "execute_result"
    }
   ],
   "source": [
    "score = pd.DataFrame(events.mean())\n",
    "score"
   ]
  },
  {
   "cell_type": "markdown",
   "metadata": {},
   "source": [
    "# Regular Expressions"
   ]
  },
  {
   "cell_type": "code",
   "execution_count": 14,
   "metadata": {},
   "outputs": [
    {
     "name": "stdout",
     "output_type": "stream",
     "text": [
      "eilon eilstein\n",
      "e E R\n",
      "['eilon', 'eilstein'] \n",
      " ['e', 'E', 'R']\n"
     ]
    }
   ],
   "source": [
    "import re\n",
    "wordRegex = re.compile(r\"[\\w]+\") #ביטוי כללי של מילה, כלומר רצף של אותיות\n",
    "letterRegex = re.compile('[a-zA-Z]') #ביטוי כללי של אותיות בודדות\n",
    "a = input()\n",
    "b = input()\n",
    "\n",
    "a_words = wordRegex.findall(a) #מצא את כל הביטויים של ה\"מילים\" בתוך מחרוזת המילים והחזיר אותם כרשימה\n",
    "b_letters = letterRegex.findall(b) #מצא את כל הביטויים של ה\"אותיות\" בתוך מחרוזת האותיות והחזיר אותן כרשימה\n",
    "    \n",
    "\n",
    "print(a_words, '\\n', b_letters)"
   ]
  },
  {
   "cell_type": "markdown",
   "metadata": {},
   "source": [
    "# תרגיל 2.א"
   ]
  },
  {
   "cell_type": "code",
   "execution_count": 66,
   "metadata": {},
   "outputs": [
    {
     "name": "stdout",
     "output_type": "stream",
     "text": [
      "Number of rows: 4\n",
      "Row number 1: 5 4 66 7\n",
      "Row number 2: 98 664 3 1 1 09\n",
      "Row number 3: 89 9\n",
      "Row number 4: 0\n",
      "[[5.0, 4.0, 66.0, 7.0], [98.0, 664.0, 3.0, 1.0, 1.0, 9.0], [89.0, 9.0], [0.0]]\n"
     ]
    }
   ],
   "source": [
    "import re # ספרייה של ביטויים כלליים בטקסט\n",
    "numberRegex = re.compile(r\"\\d+\") # ביטוי כללי של מספר\n",
    "N = int(input('Number of rows: ')) # מספר השורות הרצוי\n",
    "matrix_list = [] # המטריצה אליה נכניס את רשימות המספרים\n",
    "\n",
    "# חזרה על קבלת הקלט כמספר הפעמים שהוזן\n",
    "for i in range(N): \n",
    "    empty_list = [] # כל פעם ניצור רשימה ריקה אליה נכניס את המספרים ונמיר לטיפוס של פלואוט ולא סטרינג\n",
    "    digit_list = numberRegex.findall(input('Row number %s: ' % (i+1))) # פונקציה שלוקחת את האינפוט ומוצאת בתוכו רק מה שנראה כמו מספר \n",
    "    for dgt in digit_list: # לכל מספר ברשימת המספרים שנמצאו באינפוט הרץ את הלולאה\n",
    "        empty_list.append(float(dgt)) # הכנס לרשימה הריקה את המספר כפלואוט (כי ברירת המחדל היא מחרוזת)\n",
    "    matrix_list.append(empty_list) # הוסף למטריצה את הרשימה עם הפלואוטס\n",
    "    \n",
    "print(matrix_list)"
   ]
  },
  {
   "cell_type": "markdown",
   "metadata": {},
   "source": [
    "# Group Divider"
   ]
  },
  {
   "cell_type": "code",
   "execution_count": 65,
   "metadata": {},
   "outputs": [
    {
     "name": "stdout",
     "output_type": "stream",
     "text": [
      "    0   1   2   3   4   5   6   7    8   9  10    11\n",
      "0  37  46  93  16  27  70  22  35   13   1  12   NaN\n",
      "1  84  15  98  24  36  81  71  96  100  63  99   NaN\n",
      "2  57  59  87  64  43  29  68  62   86  51  26   NaN\n",
      "3  44  72  20  31   3  80  52  77   83  19  50   NaN\n",
      "4  94  79  25  14  53   7  97  55   67  38  74   NaN\n",
      "5  73  69  90  45  21  23  39  40    5   4  88   NaN\n",
      "6  58  95  76  56   2  42  61  60    8  10  11  47.0\n",
      "7  33  92  54   6  82  65  18  34   85  75  78   NaN\n",
      "8  17  91  32  66  28  48  30  41    9  89  49   NaN \n",
      " [11, 11, 11, 11, 11, 11, 12, 11, 11]\n"
     ]
    }
   ],
   "source": [
    "import random\n",
    "import pandas as pd\n",
    "\n",
    "LIST = list(range(1,101))\n",
    "\n",
    "\n",
    "def partition(lst, g):\n",
    "    group_size = int(len(lst)/g)\n",
    "    groups = []\n",
    "    temp_lst = lst\n",
    "    for i in range(g):\n",
    "        empty_list = []\n",
    "        for b in range(group_size):\n",
    "            new_len = len(temp_lst)\n",
    "            index_num = random.randint(-1,new_len-1)\n",
    "            addition = temp_lst[index_num]\n",
    "            empty_list.append(addition)\n",
    "            temp_lst.remove(addition)\n",
    "        groups.append(empty_list)\n",
    "    if len(temp_lst) > 0: \n",
    "        groups[random.randint(0,g-1)].append(temp_lst[0])\n",
    "    return groups\n",
    "\n",
    "\n",
    "GROUPS = partition(LIST, 9) \n",
    "\n",
    "g_size = []\n",
    "for item in GROUPS:\n",
    "    g_size.append(len(item))\n",
    "df = pd.DataFrame(GROUPS)    \n",
    "\n",
    "print(df, '\\n', g_size)\n",
    "\n",
    "            "
   ]
  }
 ],
 "metadata": {
  "kernelspec": {
   "display_name": "Python 3",
   "language": "python",
   "name": "python3"
  },
  "language_info": {
   "codemirror_mode": {
    "name": "ipython",
    "version": 3
   },
   "file_extension": ".py",
   "mimetype": "text/x-python",
   "name": "python",
   "nbconvert_exporter": "python",
   "pygments_lexer": "ipython3",
   "version": "3.8.3"
  }
 },
 "nbformat": 4,
 "nbformat_minor": 4
}
