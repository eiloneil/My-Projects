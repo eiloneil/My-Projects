{
 "cells": [
  {
   "cell_type": "code",
   "execution_count": 1,
   "metadata": {},
   "outputs": [],
   "source": [
    "import pandas as pd\n",
    "import pptx\n",
    "from pptx.chart.data import ChartData"
   ]
  },
  {
   "cell_type": "markdown",
   "metadata": {},
   "source": [
    "# Functions"
   ]
  },
  {
   "cell_type": "markdown",
   "metadata": {},
   "source": [
    "### Get Map"
   ]
  },
  {
   "cell_type": "code",
   "execution_count": 2,
   "metadata": {},
   "outputs": [],
   "source": [
    "def get_map():\n",
    "    template_mapping_path = 'template_mapping.xlsx'\n",
    "    template_mapping = pd.read_excel(template_mapping_path, index_col=[0, 1, 2])\n",
    "    return template_mapping"
   ]
  },
  {
   "cell_type": "markdown",
   "metadata": {},
   "source": [
    "### Get DFs"
   ]
  },
  {
   "cell_type": "code",
   "execution_count": 3,
   "metadata": {},
   "outputs": [],
   "source": [
    "def get_dfs():\n",
    "    dfs = {}\n",
    "\n",
    "    paths = ['Sick over time', 'Sla over time by HMO']\n",
    "    for path in paths:\n",
    "        dfs[path] = pd.read_excel(path+'.xlsx', parse_dates=True, index_col=[0])\n",
    "\n",
    "    print(dfs[paths[0]].dtypes)\n",
    "    dfs[paths[0]].head()\n",
    "    return dfs"
   ]
  },
  {
   "cell_type": "markdown",
   "metadata": {},
   "source": [
    "### get charts as dictionary"
   ]
  },
  {
   "cell_type": "code",
   "execution_count": 4,
   "metadata": {},
   "outputs": [],
   "source": [
    "def get_children_charts_dict(shapes_parent):\n",
    "    charts_by_title = {}\n",
    "    for shape in shapes_parent.shapes:\n",
    "        try:\n",
    "            children_charts_by_title = get_children_charts_dict(shape)\n",
    "            charts_by_title.update(children_charts_by_title)\n",
    "        except:\n",
    "            pass\n",
    "\n",
    "        if not shape.has_chart:\n",
    "            continue\n",
    "        \n",
    "        title = shape.chart.chart_title.text_frame.text if shape.chart.has_title and shape.chart.chart_title.has_text_frame else ''\n",
    "        if title == '':\n",
    "            title = shape.chart.series[0].name\n",
    "\n",
    "        charts_by_title[title] = shape.chart\n",
    "    return charts_by_title\n",
    "\n",
    "\n",
    "charts_by_title = {}"
   ]
  },
  {
   "cell_type": "markdown",
   "metadata": {},
   "source": [
    "### modify charts content"
   ]
  },
  {
   "cell_type": "code",
   "execution_count": 5,
   "metadata": {},
   "outputs": [],
   "source": [
    "def insert_data(shapes_by_text, charts_by_title, mapping_row, dfs):\n",
    "    \n",
    "    key_to_replace = mapping_row['TEXT_TO_REPLACE']\n",
    "    script_name, column_name, row_id = mapping_row.name\n",
    "    if mapping_row['TYPE'] == 'text':\n",
    "        value = dfs[script_name].loc[row_id, column_name]\n",
    "\n",
    "        text = shapes_by_text[key_to_replace].text\n",
    "        shapes_by_text[key_to_replace].text = text.replace(key_to_replace, str(value))\n",
    "    elif (mapping_row['TYPE'] == 'chart') and (key_to_replace in charts_by_title.keys()):\n",
    "        chart_data = ChartData()\n",
    "        chart_data.categories = dfs[script_name].index # charts_by_title[key_to_replace].plots[0].categories\n",
    "        for column in dfs[script_name].columns:\n",
    "            chart_data.add_series(column, dfs[script_name][column].values)        \n",
    "\n",
    "        charts_by_title[key_to_replace].replace_data(chart_data)\n",
    "        "
   ]
  },
  {
   "cell_type": "markdown",
   "metadata": {},
   "source": [
    "# MAIN function"
   ]
  },
  {
   "cell_type": "code",
   "execution_count": 6,
   "metadata": {},
   "outputs": [],
   "source": [
    "def main():\n",
    "    template_mapping = get_map()\n",
    "    dfs = get_dfs()\n",
    "    charts_by_title = {}\n",
    "    prezi_path = 'prezi.pptx'\n",
    "    presentation = pptx.Presentation(prezi_path)\n",
    "\n",
    "    for slide in presentation.slides:\n",
    "        slide_charts_by_title = get_children_charts_dict(slide)\n",
    "        charts_by_title.update(slide_charts_by_title)\n",
    "\n",
    "    template_mapping.apply(lambda x: insert_data(None,charts_by_title, x, dfs), axis=1)\n",
    "    \n",
    "    # Save and Quit\n",
    "    presentation.save(prezi_path)\n",
    "   "
   ]
  },
  {
   "cell_type": "markdown",
   "metadata": {},
   "source": [
    "## Apply & Save"
   ]
  },
  {
   "cell_type": "code",
   "execution_count": 7,
   "metadata": {},
   "outputs": [
    {
     "name": "stdout",
     "output_type": "stream",
     "text": [
      "SICK    float64\n",
      "dtype: object\n"
     ]
    }
   ],
   "source": [
    "main()\n"
   ]
  },
  {
   "cell_type": "code",
   "execution_count": null,
   "metadata": {},
   "outputs": [],
   "source": []
  }
 ],
 "metadata": {
  "kernelspec": {
   "display_name": "Python 3",
   "language": "python",
   "name": "python3"
  },
  "language_info": {
   "codemirror_mode": {
    "name": "ipython",
    "version": 3
   },
   "file_extension": ".py",
   "mimetype": "text/x-python",
   "name": "python",
   "nbconvert_exporter": "python",
   "pygments_lexer": "ipython3",
   "version": "3.8.3"
  }
 },
 "nbformat": 4,
 "nbformat_minor": 4
}
