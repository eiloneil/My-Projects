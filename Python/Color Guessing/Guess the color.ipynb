{
 "cells": [
  {
   "cell_type": "code",
   "execution_count": 1,
   "metadata": {},
   "outputs": [],
   "source": [
    "import turtle as tt"
   ]
  },
  {
   "cell_type": "code",
   "execution_count": 5,
   "metadata": {},
   "outputs": [],
   "source": [
    "# imports\n",
    "import time\n",
    "import turtle as tt\n",
    "import random\n",
    "\n",
    "wn = tt.Screen()\n",
    "# wn.bgcolor('black')\n",
    "wn.title('Guess the color - Game')\n",
    "\n",
    "w = 800\n",
    "h = 600\n",
    "wn.setup(w, h)\n",
    "\n",
    "time.sleep(2)\n",
    "isClosed = 1\n",
    "\n",
    "\n",
    "if isClosed == 1:\n",
    "    wn.bye()\n",
    "else: \n",
    "    wn.mainloop()"
   ]
  },
  {
   "cell_type": "code",
   "execution_count": null,
   "metadata": {},
   "outputs": [],
   "source": []
  }
 ],
 "metadata": {
  "kernelspec": {
   "display_name": "Python 3",
   "language": "python",
   "name": "python3"
  },
  "language_info": {
   "codemirror_mode": {
    "name": "ipython",
    "version": 3
   },
   "file_extension": ".py",
   "mimetype": "text/x-python",
   "name": "python",
   "nbconvert_exporter": "python",
   "pygments_lexer": "ipython3",
   "version": "3.8.3"
  }
 },
 "nbformat": 4,
 "nbformat_minor": 4
}
