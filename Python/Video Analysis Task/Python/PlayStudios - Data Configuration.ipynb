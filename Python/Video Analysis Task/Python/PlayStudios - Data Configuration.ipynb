{
 "cells": [
  {
   "cell_type": "markdown",
   "metadata": {},
   "source": [
    "# Video Classification - HOT or NOT"
   ]
  },
  {
   "cell_type": "markdown",
   "metadata": {},
   "source": [
    "### Import stuff"
   ]
  },
  {
   "cell_type": "code",
   "execution_count": 124,
   "metadata": {},
   "outputs": [
    {
     "name": "stdout",
     "output_type": "stream",
     "text": [
      "Python: 3.8.3 (default, Jul  2 2020, 17:30:36) [MSC v.1916 64 bit (AMD64)]\n",
      "scipy: 1.5.0\n",
      "numpy: 1.18.5\n",
      "matplotlib: 3.2.2\n",
      "pandas: 1.0.5\n",
      "sklearn: 0.23.1\n"
     ]
    }
   ],
   "source": [
    "\n",
    "# Check the versions of libraries\n",
    " \n",
    "# Python version\n",
    "import sys\n",
    "print('Python: {}'.format(sys.version))\n",
    "# scipy\n",
    "import scipy\n",
    "print('scipy: {}'.format(scipy.__version__))\n",
    "# numpy\n",
    "import numpy as np\n",
    "print('numpy: {}'.format(np.__version__))\n",
    "# matplotlib\n",
    "import matplotlib\n",
    "print('matplotlib: {}'.format(matplotlib.__version__))\n",
    "# pandas\n",
    "import pandas as pd\n",
    "print('pandas: {}'.format(pd.__version__))\n",
    "# scikit-learn\n",
    "import sklearn\n",
    "print('sklearn: {}'.format(sklearn.__version__))\n",
    "\n",
    "\n",
    "# Import more stuff\n",
    "from matplotlib import pyplot as plt\n",
    "from sklearn.model_selection import train_test_split\n",
    "from sklearn.ensemble import RandomForestClassifier\n",
    "from sklearn.metrics import confusion_matrix\n",
    "from sklearn.metrics import accuracy_score\n",
    "import seaborn as sb\n",
    "import os\n",
    "import datetime as dt\n",
    "import random as rd"
   ]
  },
  {
   "cell_type": "markdown",
   "metadata": {},
   "source": [
    "### Import Data"
   ]
  },
  {
   "cell_type": "code",
   "execution_count": 125,
   "metadata": {},
   "outputs": [
    {
     "data": {
      "text/html": [
       "<div>\n",
       "<style scoped>\n",
       "    .dataframe tbody tr th:only-of-type {\n",
       "        vertical-align: middle;\n",
       "    }\n",
       "\n",
       "    .dataframe tbody tr th {\n",
       "        vertical-align: top;\n",
       "    }\n",
       "\n",
       "    .dataframe thead th {\n",
       "        text-align: right;\n",
       "    }\n",
       "</style>\n",
       "<table border=\"1\" class=\"dataframe\">\n",
       "  <thead>\n",
       "    <tr style=\"text-align: right;\">\n",
       "      <th></th>\n",
       "      <th>video_id</th>\n",
       "      <th>date</th>\n",
       "      <th>count</th>\n",
       "    </tr>\n",
       "  </thead>\n",
       "  <tbody>\n",
       "    <tr>\n",
       "      <th>0</th>\n",
       "      <td>3</td>\n",
       "      <td>27/01/2018</td>\n",
       "      <td>6</td>\n",
       "    </tr>\n",
       "    <tr>\n",
       "      <th>1</th>\n",
       "      <td>3</td>\n",
       "      <td>01/02/2018</td>\n",
       "      <td>6</td>\n",
       "    </tr>\n",
       "    <tr>\n",
       "      <th>2</th>\n",
       "      <td>3</td>\n",
       "      <td>31/01/2018</td>\n",
       "      <td>6</td>\n",
       "    </tr>\n",
       "  </tbody>\n",
       "</table>\n",
       "</div>"
      ],
      "text/plain": [
       "   video_id        date  count\n",
       "0         3  27/01/2018      6\n",
       "1         3  01/02/2018      6\n",
       "2         3  31/01/2018      6"
      ]
     },
     "execution_count": 125,
     "metadata": {},
     "output_type": "execute_result"
    }
   ],
   "source": [
    "path_folder = r\"..\\\\data\\\\\"\n",
    "\n",
    "df_vc = pd.read_csv(path_folder+'video_count.csv')#.set_index('video_id')\n",
    "df_vf = pd.read_csv(path_folder+'video_features.csv')#.set_index('video_id')\n",
    "\n",
    "# Convert Quality Value for str to int\n",
    "df_vf['video_quality'] = df_vf['video_quality'].apply(lambda x: int(x[:-1]))\n",
    "\n",
    "df_vc.head(3)"
   ]
  },
  {
   "cell_type": "markdown",
   "metadata": {},
   "source": [
    "### Clean and format"
   ]
  },
  {
   "cell_type": "code",
   "execution_count": 126,
   "metadata": {},
   "outputs": [
    {
     "data": {
      "text/html": [
       "<div>\n",
       "<style scoped>\n",
       "    .dataframe tbody tr th:only-of-type {\n",
       "        vertical-align: middle;\n",
       "    }\n",
       "\n",
       "    .dataframe tbody tr th {\n",
       "        vertical-align: top;\n",
       "    }\n",
       "\n",
       "    .dataframe thead th {\n",
       "        text-align: right;\n",
       "    }\n",
       "</style>\n",
       "<table border=\"1\" class=\"dataframe\">\n",
       "  <thead>\n",
       "    <tr style=\"text-align: right;\">\n",
       "      <th></th>\n",
       "      <th>video_id</th>\n",
       "      <th>video_length</th>\n",
       "      <th>video_language</th>\n",
       "      <th>video_upload_date</th>\n",
       "      <th>video_quality</th>\n",
       "    </tr>\n",
       "  </thead>\n",
       "  <tbody>\n",
       "    <tr>\n",
       "      <th>0</th>\n",
       "      <td>1</td>\n",
       "      <td>16</td>\n",
       "      <td>chineese</td>\n",
       "      <td>2017-09-11</td>\n",
       "      <td>480</td>\n",
       "    </tr>\n",
       "    <tr>\n",
       "      <th>1</th>\n",
       "      <td>2</td>\n",
       "      <td>27</td>\n",
       "      <td>spanish</td>\n",
       "      <td>2017-10-03</td>\n",
       "      <td>480</td>\n",
       "    </tr>\n",
       "    <tr>\n",
       "      <th>2</th>\n",
       "      <td>3</td>\n",
       "      <td>30</td>\n",
       "      <td>spanish</td>\n",
       "      <td>2017-10-06</td>\n",
       "      <td>240</td>\n",
       "    </tr>\n",
       "    <tr>\n",
       "      <th>3</th>\n",
       "      <td>4</td>\n",
       "      <td>15</td>\n",
       "      <td>spanish</td>\n",
       "      <td>2017-10-12</td>\n",
       "      <td>720</td>\n",
       "    </tr>\n",
       "    <tr>\n",
       "      <th>4</th>\n",
       "      <td>5</td>\n",
       "      <td>19</td>\n",
       "      <td>chineese</td>\n",
       "      <td>2017-09-14</td>\n",
       "      <td>720</td>\n",
       "    </tr>\n",
       "  </tbody>\n",
       "</table>\n",
       "</div>"
      ],
      "text/plain": [
       "   video_id  video_length video_language video_upload_date  video_quality\n",
       "0         1            16       chineese        2017-09-11            480\n",
       "1         2            27        spanish        2017-10-03            480\n",
       "2         3            30        spanish        2017-10-06            240\n",
       "3         4            15        spanish        2017-10-12            720\n",
       "4         5            19       chineese        2017-09-14            720"
      ]
     },
     "execution_count": 126,
     "metadata": {},
     "output_type": "execute_result"
    }
   ],
   "source": [
    "# Convert str into datetime type\n",
    "df_vc['date'] = pd.to_datetime(df_vc.date, format='%d/%m/%Y')\n",
    "df_vf['video_upload_date'] = pd.to_datetime(df_vf.video_upload_date, format='%d/%m/%Y')\n",
    "\n",
    "# Create Calculated Columns\n",
    "df_vc['week_start_date'] = df_vc.date - pd.to_timedelta((df_vc['date'].dt.dayofweek + 1) % 7, unit='d')\n",
    "\n",
    "\n",
    "df_vf.head()"
   ]
  },
  {
   "cell_type": "markdown",
   "metadata": {},
   "source": [
    "### Add Running Total"
   ]
  },
  {
   "cell_type": "code",
   "execution_count": 127,
   "metadata": {},
   "outputs": [
    {
     "data": {
      "text/html": [
       "<div>\n",
       "<style scoped>\n",
       "    .dataframe tbody tr th:only-of-type {\n",
       "        vertical-align: middle;\n",
       "    }\n",
       "\n",
       "    .dataframe tbody tr th {\n",
       "        vertical-align: top;\n",
       "    }\n",
       "\n",
       "    .dataframe thead th {\n",
       "        text-align: right;\n",
       "    }\n",
       "</style>\n",
       "<table border=\"1\" class=\"dataframe\">\n",
       "  <thead>\n",
       "    <tr style=\"text-align: right;\">\n",
       "      <th></th>\n",
       "      <th>video_id</th>\n",
       "      <th>date</th>\n",
       "      <th>count</th>\n",
       "      <th>week_start_date</th>\n",
       "      <th>Running_Total</th>\n",
       "    </tr>\n",
       "  </thead>\n",
       "  <tbody>\n",
       "    <tr>\n",
       "      <th>0</th>\n",
       "      <td>3</td>\n",
       "      <td>2018-01-27</td>\n",
       "      <td>6</td>\n",
       "      <td>2018-01-21</td>\n",
       "      <td>3396</td>\n",
       "    </tr>\n",
       "    <tr>\n",
       "      <th>1</th>\n",
       "      <td>3</td>\n",
       "      <td>2018-02-01</td>\n",
       "      <td>6</td>\n",
       "      <td>2018-01-28</td>\n",
       "      <td>3439</td>\n",
       "    </tr>\n",
       "    <tr>\n",
       "      <th>2</th>\n",
       "      <td>3</td>\n",
       "      <td>2018-01-31</td>\n",
       "      <td>6</td>\n",
       "      <td>2018-01-28</td>\n",
       "      <td>3433</td>\n",
       "    </tr>\n",
       "    <tr>\n",
       "      <th>3</th>\n",
       "      <td>3</td>\n",
       "      <td>2018-01-25</td>\n",
       "      <td>7</td>\n",
       "      <td>2018-01-21</td>\n",
       "      <td>3378</td>\n",
       "    </tr>\n",
       "    <tr>\n",
       "      <th>4</th>\n",
       "      <td>3</td>\n",
       "      <td>2018-02-03</td>\n",
       "      <td>7</td>\n",
       "      <td>2018-01-28</td>\n",
       "      <td>3454</td>\n",
       "    </tr>\n",
       "  </tbody>\n",
       "</table>\n",
       "</div>"
      ],
      "text/plain": [
       "   video_id       date  count week_start_date  Running_Total\n",
       "0         3 2018-01-27      6      2018-01-21           3396\n",
       "1         3 2018-02-01      6      2018-01-28           3439\n",
       "2         3 2018-01-31      6      2018-01-28           3433\n",
       "3         3 2018-01-25      7      2018-01-21           3378\n",
       "4         3 2018-02-03      7      2018-01-28           3454"
      ]
     },
     "execution_count": 127,
     "metadata": {},
     "output_type": "execute_result"
    }
   ],
   "source": [
    "df_vc_rt = df_vc[['video_id', 'date', 'count']].sort_values('date').groupby(['video_id', 'date']).sum().groupby(level=0).cumsum().reset_index()\n",
    "df_vc_rt.rename(columns={'count':'Running_Total'}, inplace=True)\n",
    "df_vc_rt.tail(200)\n",
    "\n",
    "df_vc = df_vc.merge(df_vc_rt, left_on=['video_id', 'date'], right_on=['video_id', 'date'])\n",
    "df_vc.head()"
   ]
  },
  {
   "cell_type": "markdown",
   "metadata": {},
   "source": [
    "### Calculate days from upload to each day"
   ]
  },
  {
   "cell_type": "code",
   "execution_count": 128,
   "metadata": {
    "scrolled": true
   },
   "outputs": [
    {
     "data": {
      "text/html": [
       "<div>\n",
       "<style scoped>\n",
       "    .dataframe tbody tr th:only-of-type {\n",
       "        vertical-align: middle;\n",
       "    }\n",
       "\n",
       "    .dataframe tbody tr th {\n",
       "        vertical-align: top;\n",
       "    }\n",
       "\n",
       "    .dataframe thead th {\n",
       "        text-align: right;\n",
       "    }\n",
       "</style>\n",
       "<table border=\"1\" class=\"dataframe\">\n",
       "  <thead>\n",
       "    <tr style=\"text-align: right;\">\n",
       "      <th></th>\n",
       "      <th>video_id</th>\n",
       "      <th>date</th>\n",
       "      <th>count</th>\n",
       "      <th>week_start_date</th>\n",
       "      <th>Running_Total</th>\n",
       "      <th>video_upload_date</th>\n",
       "      <th>days_from_upload</th>\n",
       "    </tr>\n",
       "  </thead>\n",
       "  <tbody>\n",
       "    <tr>\n",
       "      <th>0</th>\n",
       "      <td>3</td>\n",
       "      <td>2018-01-27</td>\n",
       "      <td>6</td>\n",
       "      <td>2018-01-21</td>\n",
       "      <td>3396</td>\n",
       "      <td>2017-10-06</td>\n",
       "      <td>113</td>\n",
       "    </tr>\n",
       "  </tbody>\n",
       "</table>\n",
       "</div>"
      ],
      "text/plain": [
       "   video_id       date  count week_start_date  Running_Total  \\\n",
       "0         3 2018-01-27      6      2018-01-21           3396   \n",
       "\n",
       "  video_upload_date  days_from_upload  \n",
       "0        2017-10-06               113  "
      ]
     },
     "execution_count": 128,
     "metadata": {},
     "output_type": "execute_result"
    }
   ],
   "source": [
    "df_vc_upload = df_vc.merge(df_vf[['video_id', 'video_upload_date']], left_on='video_id', right_on='video_id')\n",
    "df_vc_upload['days_from_upload'] = (df_vc_upload.date - df_vc_upload.video_upload_date).dt.days\n",
    "# df_vc_upload.to_excel(path_folder+'video_vc_RT.xlsx', index=False)\n",
    "df_vc = df_vc_upload\n",
    "df_vc_upload.head(1)"
   ]
  },
  {
   "cell_type": "markdown",
   "metadata": {},
   "source": [
    "# Adding Calculated Dimensions"
   ]
  },
  {
   "cell_type": "markdown",
   "metadata": {},
   "source": [
    "## 0 - Offset from weekly average"
   ]
  },
  {
   "cell_type": "markdown",
   "metadata": {},
   "source": [
    "### 0.1 - Weekly count per Video"
   ]
  },
  {
   "cell_type": "code",
   "execution_count": 102,
   "metadata": {},
   "outputs": [
    {
     "name": "stdout",
     "output_type": "stream",
     "text": [
      "(1813, 3)\n"
     ]
    },
    {
     "data": {
      "text/html": [
       "<div>\n",
       "<style scoped>\n",
       "    .dataframe tbody tr th:only-of-type {\n",
       "        vertical-align: middle;\n",
       "    }\n",
       "\n",
       "    .dataframe tbody tr th {\n",
       "        vertical-align: top;\n",
       "    }\n",
       "\n",
       "    .dataframe thead th {\n",
       "        text-align: right;\n",
       "    }\n",
       "</style>\n",
       "<table border=\"1\" class=\"dataframe\">\n",
       "  <thead>\n",
       "    <tr style=\"text-align: right;\">\n",
       "      <th></th>\n",
       "      <th>week_start_date</th>\n",
       "      <th>video_id</th>\n",
       "      <th>count</th>\n",
       "    </tr>\n",
       "  </thead>\n",
       "  <tbody>\n",
       "    <tr>\n",
       "      <th>0</th>\n",
       "      <td>2017-09-03</td>\n",
       "      <td>13</td>\n",
       "      <td>736</td>\n",
       "    </tr>\n",
       "    <tr>\n",
       "      <th>1</th>\n",
       "      <td>2017-09-03</td>\n",
       "      <td>16</td>\n",
       "      <td>260</td>\n",
       "    </tr>\n",
       "    <tr>\n",
       "      <th>2</th>\n",
       "      <td>2017-09-03</td>\n",
       "      <td>32</td>\n",
       "      <td>177</td>\n",
       "    </tr>\n",
       "    <tr>\n",
       "      <th>3</th>\n",
       "      <td>2017-09-03</td>\n",
       "      <td>70</td>\n",
       "      <td>838</td>\n",
       "    </tr>\n",
       "    <tr>\n",
       "      <th>4</th>\n",
       "      <td>2017-09-03</td>\n",
       "      <td>73</td>\n",
       "      <td>538</td>\n",
       "    </tr>\n",
       "  </tbody>\n",
       "</table>\n",
       "</div>"
      ],
      "text/plain": [
       "  week_start_date  video_id  count\n",
       "0      2017-09-03        13    736\n",
       "1      2017-09-03        16    260\n",
       "2      2017-09-03        32    177\n",
       "3      2017-09-03        70    838\n",
       "4      2017-09-03        73    538"
      ]
     },
     "execution_count": 102,
     "metadata": {},
     "output_type": "execute_result"
    }
   ],
   "source": [
    "df_weekly = df_vc.groupby(['week_start_date', 'video_id'])['count'].sum()\n",
    "df_weekly = pd.DataFrame(df_weekly).reset_index()\n",
    "print(df_weekly.shape)\n",
    "df_weekly.head()"
   ]
  },
  {
   "cell_type": "markdown",
   "metadata": {},
   "source": [
    "### 0.2 - Calculate Weekly AVG"
   ]
  },
  {
   "cell_type": "code",
   "execution_count": 103,
   "metadata": {},
   "outputs": [
    {
     "data": {
      "text/plain": [
       "week_start_date\n",
       "2017-09-03    391.625000\n",
       "2017-09-10    487.347826\n",
       "2017-09-17    578.162162\n",
       "Name: count, dtype: float64"
      ]
     },
     "execution_count": 103,
     "metadata": {},
     "output_type": "execute_result"
    }
   ],
   "source": [
    "df_wk_avg = df_weekly[['week_start_date', 'count']].groupby('week_start_date')['count'].mean()\n",
    "df_wk_avg.head(3)"
   ]
  },
  {
   "cell_type": "markdown",
   "metadata": {},
   "source": [
    "### 0.3 - Calculate Weekly AVGs offset"
   ]
  },
  {
   "cell_type": "code",
   "execution_count": 105,
   "metadata": {},
   "outputs": [
    {
     "name": "stdout",
     "output_type": "stream",
     "text": [
      "(1813, 7)\n"
     ]
    },
    {
     "data": {
      "text/html": [
       "<div>\n",
       "<style scoped>\n",
       "    .dataframe tbody tr th:only-of-type {\n",
       "        vertical-align: middle;\n",
       "    }\n",
       "\n",
       "    .dataframe tbody tr th {\n",
       "        vertical-align: top;\n",
       "    }\n",
       "\n",
       "    .dataframe thead th {\n",
       "        text-align: right;\n",
       "    }\n",
       "</style>\n",
       "<table border=\"1\" class=\"dataframe\">\n",
       "  <thead>\n",
       "    <tr style=\"text-align: right;\">\n",
       "      <th></th>\n",
       "      <th>week_start_date</th>\n",
       "      <th>video_id</th>\n",
       "      <th>count</th>\n",
       "      <th>count_week_AVG</th>\n",
       "      <th>Avg_Offset</th>\n",
       "      <th>Prc_Avg_Offset</th>\n",
       "      <th>is_Above_Avg</th>\n",
       "    </tr>\n",
       "  </thead>\n",
       "  <tbody>\n",
       "    <tr>\n",
       "      <th>1240</th>\n",
       "      <td>2017-12-24</td>\n",
       "      <td>1</td>\n",
       "      <td>621</td>\n",
       "      <td>451.740000</td>\n",
       "      <td>170</td>\n",
       "      <td>0.376323</td>\n",
       "      <td>1</td>\n",
       "    </tr>\n",
       "    <tr>\n",
       "      <th>840</th>\n",
       "      <td>2017-11-26</td>\n",
       "      <td>1</td>\n",
       "      <td>647</td>\n",
       "      <td>509.930000</td>\n",
       "      <td>138</td>\n",
       "      <td>0.270625</td>\n",
       "      <td>1</td>\n",
       "    </tr>\n",
       "    <tr>\n",
       "      <th>343</th>\n",
       "      <td>2017-10-22</td>\n",
       "      <td>1</td>\n",
       "      <td>805</td>\n",
       "      <td>594.989691</td>\n",
       "      <td>211</td>\n",
       "      <td>0.354628</td>\n",
       "      <td>1</td>\n",
       "    </tr>\n",
       "    <tr>\n",
       "      <th>740</th>\n",
       "      <td>2017-11-19</td>\n",
       "      <td>1</td>\n",
       "      <td>775</td>\n",
       "      <td>549.100000</td>\n",
       "      <td>226</td>\n",
       "      <td>0.411583</td>\n",
       "      <td>1</td>\n",
       "    </tr>\n",
       "    <tr>\n",
       "      <th>1140</th>\n",
       "      <td>2017-12-17</td>\n",
       "      <td>1</td>\n",
       "      <td>628</td>\n",
       "      <td>475.110000</td>\n",
       "      <td>153</td>\n",
       "      <td>0.322031</td>\n",
       "      <td>1</td>\n",
       "    </tr>\n",
       "  </tbody>\n",
       "</table>\n",
       "</div>"
      ],
      "text/plain": [
       "     week_start_date  video_id  count  count_week_AVG  Avg_Offset  \\\n",
       "1240      2017-12-24         1    621      451.740000         170   \n",
       "840       2017-11-26         1    647      509.930000         138   \n",
       "343       2017-10-22         1    805      594.989691         211   \n",
       "740       2017-11-19         1    775      549.100000         226   \n",
       "1140      2017-12-17         1    628      475.110000         153   \n",
       "\n",
       "      Prc_Avg_Offset  is_Above_Avg  \n",
       "1240        0.376323             1  \n",
       "840         0.270625             1  \n",
       "343         0.354628             1  \n",
       "740         0.411583             1  \n",
       "1140        0.322031             1  "
      ]
     },
     "execution_count": 105,
     "metadata": {},
     "output_type": "execute_result"
    }
   ],
   "source": [
    "df_joined_with_avg = df_weekly.merge(df_wk_avg, right_on='week_start_date', left_on='week_start_date', suffixes=('', '_week_AVG'))\n",
    "\n",
    "# Create Calculated Column: Difference from WAVG\n",
    "df_joined_with_avg['Avg_Offset'] = df_joined_with_avg['count'] - df_joined_with_avg.count_week_AVG.apply(lambda x: int(x))\n",
    "df_joined_with_avg['Prc_Avg_Offset'] = (df_joined_with_avg['Avg_Offset'] / df_joined_with_avg['count_week_AVG'])\n",
    "df_joined_with_avg['is_Above_Avg'] = (df_joined_with_avg['Prc_Avg_Offset'] > 0).apply(lambda x: int(x))\n",
    "print(df_joined_with_avg.shape)\n",
    "df_joined_with_avg.head(3)\n",
    "df_joined_with_avg.sort_values('video_id').head(5)\n"
   ]
  },
  {
   "cell_type": "markdown",
   "metadata": {},
   "source": [
    "### 0.4 Avg the Prc Offset"
   ]
  },
  {
   "cell_type": "code",
   "execution_count": 106,
   "metadata": {},
   "outputs": [
    {
     "name": "stdout",
     "output_type": "stream",
     "text": [
      "(100, 3)\n"
     ]
    },
    {
     "data": {
      "text/html": [
       "<div>\n",
       "<style scoped>\n",
       "    .dataframe tbody tr th:only-of-type {\n",
       "        vertical-align: middle;\n",
       "    }\n",
       "\n",
       "    .dataframe tbody tr th {\n",
       "        vertical-align: top;\n",
       "    }\n",
       "\n",
       "    .dataframe thead th {\n",
       "        text-align: right;\n",
       "    }\n",
       "</style>\n",
       "<table border=\"1\" class=\"dataframe\">\n",
       "  <thead>\n",
       "    <tr style=\"text-align: right;\">\n",
       "      <th></th>\n",
       "      <th>video_id</th>\n",
       "      <th>Avg_Offset_Prc</th>\n",
       "      <th>Avg_Offset_Prc_Rnk</th>\n",
       "    </tr>\n",
       "  </thead>\n",
       "  <tbody>\n",
       "    <tr>\n",
       "      <th>0</th>\n",
       "      <td>1</td>\n",
       "      <td>0.375732</td>\n",
       "      <td>15</td>\n",
       "    </tr>\n",
       "    <tr>\n",
       "      <th>1</th>\n",
       "      <td>2</td>\n",
       "      <td>-0.321200</td>\n",
       "      <td>78</td>\n",
       "    </tr>\n",
       "    <tr>\n",
       "      <th>2</th>\n",
       "      <td>3</td>\n",
       "      <td>-0.626815</td>\n",
       "      <td>100</td>\n",
       "    </tr>\n",
       "    <tr>\n",
       "      <th>3</th>\n",
       "      <td>4</td>\n",
       "      <td>0.679774</td>\n",
       "      <td>4</td>\n",
       "    </tr>\n",
       "    <tr>\n",
       "      <th>4</th>\n",
       "      <td>5</td>\n",
       "      <td>0.264207</td>\n",
       "      <td>26</td>\n",
       "    </tr>\n",
       "  </tbody>\n",
       "</table>\n",
       "</div>"
      ],
      "text/plain": [
       "   video_id  Avg_Offset_Prc  Avg_Offset_Prc_Rnk\n",
       "0         1        0.375732                  15\n",
       "1         2       -0.321200                  78\n",
       "2         3       -0.626815                 100\n",
       "3         4        0.679774                   4\n",
       "4         5        0.264207                  26"
      ]
     },
     "execution_count": 106,
     "metadata": {},
     "output_type": "execute_result"
    }
   ],
   "source": [
    "new_measure_name = 'Avg_Offset_Prc'\n",
    "\n",
    "df = df_joined_with_avg[['video_id', 'Prc_Avg_Offset']]\n",
    "df = df.groupby(['video_id'])['Prc_Avg_Offset'].mean()\n",
    "df = pd.DataFrame(df).reset_index()[['video_id', 'Prc_Avg_Offset']]\n",
    "df.rename(columns={'Prc_Avg_Offset':new_measure_name}, inplace=True)\n",
    "df[f'{new_measure_name}_Rnk'] = df[new_measure_name].rank(method='dense', ascending=False).astype(int)\n",
    "\n",
    "df_avg_offset = df\n",
    "print(df.shape)\n",
    "df.head()"
   ]
  },
  {
   "cell_type": "markdown",
   "metadata": {},
   "source": [
    "### 1. Total count per Video"
   ]
  },
  {
   "cell_type": "code",
   "execution_count": 107,
   "metadata": {},
   "outputs": [
    {
     "name": "stdout",
     "output_type": "stream",
     "text": [
      "(100, 3)\n"
     ]
    },
    {
     "data": {
      "text/html": [
       "<div>\n",
       "<style scoped>\n",
       "    .dataframe tbody tr th:only-of-type {\n",
       "        vertical-align: middle;\n",
       "    }\n",
       "\n",
       "    .dataframe tbody tr th {\n",
       "        vertical-align: top;\n",
       "    }\n",
       "\n",
       "    .dataframe thead th {\n",
       "        text-align: right;\n",
       "    }\n",
       "</style>\n",
       "<table border=\"1\" class=\"dataframe\">\n",
       "  <thead>\n",
       "    <tr style=\"text-align: right;\">\n",
       "      <th></th>\n",
       "      <th>video_id</th>\n",
       "      <th>Total_Count</th>\n",
       "      <th>Total_Count_Rnk</th>\n",
       "    </tr>\n",
       "  </thead>\n",
       "  <tbody>\n",
       "    <tr>\n",
       "      <th>0</th>\n",
       "      <td>1</td>\n",
       "      <td>13197</td>\n",
       "      <td>10</td>\n",
       "    </tr>\n",
       "    <tr>\n",
       "      <th>1</th>\n",
       "      <td>2</td>\n",
       "      <td>6163</td>\n",
       "      <td>79</td>\n",
       "    </tr>\n",
       "    <tr>\n",
       "      <th>2</th>\n",
       "      <td>3</td>\n",
       "      <td>3454</td>\n",
       "      <td>100</td>\n",
       "    </tr>\n",
       "    <tr>\n",
       "      <th>3</th>\n",
       "      <td>4</td>\n",
       "      <td>14192</td>\n",
       "      <td>5</td>\n",
       "    </tr>\n",
       "    <tr>\n",
       "      <th>4</th>\n",
       "      <td>5</td>\n",
       "      <td>12083</td>\n",
       "      <td>19</td>\n",
       "    </tr>\n",
       "  </tbody>\n",
       "</table>\n",
       "</div>"
      ],
      "text/plain": [
       "   video_id  Total_Count  Total_Count_Rnk\n",
       "0         1        13197               10\n",
       "1         2         6163               79\n",
       "2         3         3454              100\n",
       "3         4        14192                5\n",
       "4         5        12083               19"
      ]
     },
     "execution_count": 107,
     "metadata": {},
     "output_type": "execute_result"
    }
   ],
   "source": [
    "new_measure_name = 'Total_Count'\n",
    "\n",
    "df = df_vc\n",
    "df = df.groupby(['video_id'])['count'].sum()\n",
    "df = pd.DataFrame(df).reset_index()[['video_id', 'count']]\n",
    "df.rename(columns={'count':new_measure_name}, inplace=True)\n",
    "df[f'{new_measure_name}_Rnk'] = df[new_measure_name].rank(method='dense', ascending=False).astype(int)\n",
    "\n",
    "df_total_cnt = df\n",
    "print(df.shape)\n",
    "df.head()"
   ]
  },
  {
   "cell_type": "markdown",
   "metadata": {},
   "source": [
    "### 2. Daily views Avg per Video"
   ]
  },
  {
   "cell_type": "code",
   "execution_count": 108,
   "metadata": {},
   "outputs": [
    {
     "name": "stdout",
     "output_type": "stream",
     "text": [
      "(100, 3)\n"
     ]
    },
    {
     "data": {
      "text/html": [
       "<div>\n",
       "<style scoped>\n",
       "    .dataframe tbody tr th:only-of-type {\n",
       "        vertical-align: middle;\n",
       "    }\n",
       "\n",
       "    .dataframe tbody tr th {\n",
       "        vertical-align: top;\n",
       "    }\n",
       "\n",
       "    .dataframe thead th {\n",
       "        text-align: right;\n",
       "    }\n",
       "</style>\n",
       "<table border=\"1\" class=\"dataframe\">\n",
       "  <thead>\n",
       "    <tr style=\"text-align: right;\">\n",
       "      <th></th>\n",
       "      <th>video_id</th>\n",
       "      <th>Daily_views_Avg</th>\n",
       "      <th>Daily_views_Avg_Rnk</th>\n",
       "    </tr>\n",
       "  </thead>\n",
       "  <tbody>\n",
       "    <tr>\n",
       "      <th>0</th>\n",
       "      <td>1</td>\n",
       "      <td>109.975000</td>\n",
       "      <td>10</td>\n",
       "    </tr>\n",
       "    <tr>\n",
       "      <th>1</th>\n",
       "      <td>2</td>\n",
       "      <td>51.789916</td>\n",
       "      <td>78</td>\n",
       "    </tr>\n",
       "    <tr>\n",
       "      <th>2</th>\n",
       "      <td>3</td>\n",
       "      <td>29.025210</td>\n",
       "      <td>100</td>\n",
       "    </tr>\n",
       "    <tr>\n",
       "      <th>3</th>\n",
       "      <td>4</td>\n",
       "      <td>119.260504</td>\n",
       "      <td>7</td>\n",
       "    </tr>\n",
       "    <tr>\n",
       "      <th>4</th>\n",
       "      <td>5</td>\n",
       "      <td>101.537815</td>\n",
       "      <td>19</td>\n",
       "    </tr>\n",
       "  </tbody>\n",
       "</table>\n",
       "</div>"
      ],
      "text/plain": [
       "   video_id  Daily_views_Avg  Daily_views_Avg_Rnk\n",
       "0         1       109.975000                   10\n",
       "1         2        51.789916                   78\n",
       "2         3        29.025210                  100\n",
       "3         4       119.260504                    7\n",
       "4         5       101.537815                   19"
      ]
     },
     "execution_count": 108,
     "metadata": {},
     "output_type": "execute_result"
    }
   ],
   "source": [
    "new_measure_name = 'Daily_views_Avg'\n",
    "\n",
    "df = df_vc\n",
    "df = df.groupby(['video_id'])['count'].mean()\n",
    "df = pd.DataFrame(df).reset_index()[['video_id', 'count']]\n",
    "df.rename(columns={'count':new_measure_name}, inplace=True)\n",
    "df[f'{new_measure_name}_Rnk'] = df[new_measure_name].rank(method='dense', ascending=False).astype(int)\n",
    "\n",
    "df_daily_avg = df\n",
    "print(df.shape)\n",
    "df.head()"
   ]
  },
  {
   "cell_type": "markdown",
   "metadata": {},
   "source": [
    "### 3. Viewed days per Video"
   ]
  },
  {
   "cell_type": "code",
   "execution_count": 109,
   "metadata": {},
   "outputs": [
    {
     "name": "stdout",
     "output_type": "stream",
     "text": [
      "(100, 3)\n"
     ]
    },
    {
     "data": {
      "text/html": [
       "<div>\n",
       "<style scoped>\n",
       "    .dataframe tbody tr th:only-of-type {\n",
       "        vertical-align: middle;\n",
       "    }\n",
       "\n",
       "    .dataframe tbody tr th {\n",
       "        vertical-align: top;\n",
       "    }\n",
       "\n",
       "    .dataframe thead th {\n",
       "        text-align: right;\n",
       "    }\n",
       "</style>\n",
       "<table border=\"1\" class=\"dataframe\">\n",
       "  <thead>\n",
       "    <tr style=\"text-align: right;\">\n",
       "      <th></th>\n",
       "      <th>video_id</th>\n",
       "      <th>Viewed_Days_Count</th>\n",
       "      <th>Viewed_Days_Count_Rnk</th>\n",
       "    </tr>\n",
       "  </thead>\n",
       "  <tbody>\n",
       "    <tr>\n",
       "      <th>0</th>\n",
       "      <td>1</td>\n",
       "      <td>120</td>\n",
       "      <td>2</td>\n",
       "    </tr>\n",
       "    <tr>\n",
       "      <th>1</th>\n",
       "      <td>2</td>\n",
       "      <td>119</td>\n",
       "      <td>3</td>\n",
       "    </tr>\n",
       "    <tr>\n",
       "      <th>2</th>\n",
       "      <td>3</td>\n",
       "      <td>119</td>\n",
       "      <td>3</td>\n",
       "    </tr>\n",
       "    <tr>\n",
       "      <th>3</th>\n",
       "      <td>4</td>\n",
       "      <td>119</td>\n",
       "      <td>3</td>\n",
       "    </tr>\n",
       "    <tr>\n",
       "      <th>4</th>\n",
       "      <td>5</td>\n",
       "      <td>119</td>\n",
       "      <td>3</td>\n",
       "    </tr>\n",
       "  </tbody>\n",
       "</table>\n",
       "</div>"
      ],
      "text/plain": [
       "   video_id  Viewed_Days_Count  Viewed_Days_Count_Rnk\n",
       "0         1                120                      2\n",
       "1         2                119                      3\n",
       "2         3                119                      3\n",
       "3         4                119                      3\n",
       "4         5                119                      3"
      ]
     },
     "execution_count": 109,
     "metadata": {},
     "output_type": "execute_result"
    }
   ],
   "source": [
    "new_measure_name = 'Viewed_Days_Count'\n",
    "\n",
    "df = df_vc\n",
    "df = df.groupby(['video_id']).count()\n",
    "df = pd.DataFrame(df).reset_index()[['video_id', 'count']]\n",
    "df.rename(columns={'count':new_measure_name}, inplace=True)\n",
    "df[f'{new_measure_name}_Rnk'] = df[new_measure_name].rank(method='dense', ascending=False).astype(int)\n",
    "\n",
    "df_days_cnt = df\n",
    "print(df.shape)\n",
    "df.head()"
   ]
  },
  {
   "cell_type": "markdown",
   "metadata": {},
   "source": [
    "### 4. Above Avg Prc Video"
   ]
  },
  {
   "cell_type": "code",
   "execution_count": 110,
   "metadata": {},
   "outputs": [
    {
     "name": "stdout",
     "output_type": "stream",
     "text": [
      "(100, 3)\n"
     ]
    },
    {
     "data": {
      "text/html": [
       "<div>\n",
       "<style scoped>\n",
       "    .dataframe tbody tr th:only-of-type {\n",
       "        vertical-align: middle;\n",
       "    }\n",
       "\n",
       "    .dataframe tbody tr th {\n",
       "        vertical-align: top;\n",
       "    }\n",
       "\n",
       "    .dataframe thead th {\n",
       "        text-align: right;\n",
       "    }\n",
       "</style>\n",
       "<table border=\"1\" class=\"dataframe\">\n",
       "  <thead>\n",
       "    <tr style=\"text-align: right;\">\n",
       "      <th></th>\n",
       "      <th>video_id</th>\n",
       "      <th>Above_Avg_Prc</th>\n",
       "      <th>Above_Avg_Prc_Rnk</th>\n",
       "    </tr>\n",
       "  </thead>\n",
       "  <tbody>\n",
       "    <tr>\n",
       "      <th>0</th>\n",
       "      <td>1</td>\n",
       "      <td>0.944444</td>\n",
       "      <td>2</td>\n",
       "    </tr>\n",
       "    <tr>\n",
       "      <th>1</th>\n",
       "      <td>2</td>\n",
       "      <td>0.000000</td>\n",
       "      <td>23</td>\n",
       "    </tr>\n",
       "    <tr>\n",
       "      <th>2</th>\n",
       "      <td>3</td>\n",
       "      <td>0.000000</td>\n",
       "      <td>23</td>\n",
       "    </tr>\n",
       "    <tr>\n",
       "      <th>3</th>\n",
       "      <td>4</td>\n",
       "      <td>0.944444</td>\n",
       "      <td>2</td>\n",
       "    </tr>\n",
       "    <tr>\n",
       "      <th>4</th>\n",
       "      <td>5</td>\n",
       "      <td>0.944444</td>\n",
       "      <td>2</td>\n",
       "    </tr>\n",
       "  </tbody>\n",
       "</table>\n",
       "</div>"
      ],
      "text/plain": [
       "   video_id  Above_Avg_Prc  Above_Avg_Prc_Rnk\n",
       "0         1       0.944444                  2\n",
       "1         2       0.000000                 23\n",
       "2         3       0.000000                 23\n",
       "3         4       0.944444                  2\n",
       "4         5       0.944444                  2"
      ]
     },
     "execution_count": 110,
     "metadata": {},
     "output_type": "execute_result"
    }
   ],
   "source": [
    "new_measure_name = 'Above_Avg_Prc'\n",
    "\n",
    "df = df_joined_with_avg\n",
    "df = df.groupby(['video_id'])['is_Above_Avg'].sum() / df.groupby(['video_id'])['is_Above_Avg'].count()\n",
    "df = pd.DataFrame(df).reset_index()\n",
    "df.rename(columns={'is_Above_Avg':new_measure_name}, inplace=True)\n",
    "df[f'{new_measure_name}_Rnk'] = df[new_measure_name].rank(method='dense', ascending=False).astype(int)\n",
    "\n",
    "df_above_avg = df\n",
    "print(df.shape)\n",
    "df.head()"
   ]
  },
  {
   "cell_type": "markdown",
   "metadata": {},
   "source": [
    "# Merge to Features"
   ]
  },
  {
   "cell_type": "code",
   "execution_count": 117,
   "metadata": {},
   "outputs": [
    {
     "data": {
      "text/html": [
       "<div>\n",
       "<style scoped>\n",
       "    .dataframe tbody tr th:only-of-type {\n",
       "        vertical-align: middle;\n",
       "    }\n",
       "\n",
       "    .dataframe tbody tr th {\n",
       "        vertical-align: top;\n",
       "    }\n",
       "\n",
       "    .dataframe thead th {\n",
       "        text-align: right;\n",
       "    }\n",
       "</style>\n",
       "<table border=\"1\" class=\"dataframe\">\n",
       "  <thead>\n",
       "    <tr style=\"text-align: right;\">\n",
       "      <th></th>\n",
       "      <th>video_id</th>\n",
       "      <th>video_length</th>\n",
       "      <th>video_language</th>\n",
       "      <th>video_upload_date</th>\n",
       "      <th>video_quality</th>\n",
       "      <th>Total_Count</th>\n",
       "      <th>Total_Count_Rnk</th>\n",
       "      <th>Daily_views_Avg</th>\n",
       "      <th>Daily_views_Avg_Rnk</th>\n",
       "      <th>Viewed_Days_Count</th>\n",
       "      <th>Viewed_Days_Count_Rnk</th>\n",
       "      <th>Above_Avg_Prc</th>\n",
       "      <th>Above_Avg_Prc_Rnk</th>\n",
       "      <th>Avg_Offset_Prc</th>\n",
       "      <th>Avg_Offset_Prc_Rnk</th>\n",
       "    </tr>\n",
       "  </thead>\n",
       "  <tbody>\n",
       "    <tr>\n",
       "      <th>0</th>\n",
       "      <td>1</td>\n",
       "      <td>16</td>\n",
       "      <td>chineese</td>\n",
       "      <td>2017-09-11</td>\n",
       "      <td>480</td>\n",
       "      <td>13197</td>\n",
       "      <td>10</td>\n",
       "      <td>109.975000</td>\n",
       "      <td>10</td>\n",
       "      <td>120</td>\n",
       "      <td>2</td>\n",
       "      <td>0.944444</td>\n",
       "      <td>2</td>\n",
       "      <td>0.375732</td>\n",
       "      <td>15</td>\n",
       "    </tr>\n",
       "    <tr>\n",
       "      <th>1</th>\n",
       "      <td>2</td>\n",
       "      <td>27</td>\n",
       "      <td>spanish</td>\n",
       "      <td>2017-10-03</td>\n",
       "      <td>480</td>\n",
       "      <td>6163</td>\n",
       "      <td>79</td>\n",
       "      <td>51.789916</td>\n",
       "      <td>78</td>\n",
       "      <td>119</td>\n",
       "      <td>3</td>\n",
       "      <td>0.000000</td>\n",
       "      <td>23</td>\n",
       "      <td>-0.321200</td>\n",
       "      <td>78</td>\n",
       "    </tr>\n",
       "    <tr>\n",
       "      <th>2</th>\n",
       "      <td>3</td>\n",
       "      <td>30</td>\n",
       "      <td>spanish</td>\n",
       "      <td>2017-10-06</td>\n",
       "      <td>240</td>\n",
       "      <td>3454</td>\n",
       "      <td>100</td>\n",
       "      <td>29.025210</td>\n",
       "      <td>100</td>\n",
       "      <td>119</td>\n",
       "      <td>3</td>\n",
       "      <td>0.000000</td>\n",
       "      <td>23</td>\n",
       "      <td>-0.626815</td>\n",
       "      <td>100</td>\n",
       "    </tr>\n",
       "    <tr>\n",
       "      <th>3</th>\n",
       "      <td>4</td>\n",
       "      <td>15</td>\n",
       "      <td>spanish</td>\n",
       "      <td>2017-10-12</td>\n",
       "      <td>720</td>\n",
       "      <td>14192</td>\n",
       "      <td>5</td>\n",
       "      <td>119.260504</td>\n",
       "      <td>7</td>\n",
       "      <td>119</td>\n",
       "      <td>3</td>\n",
       "      <td>0.944444</td>\n",
       "      <td>2</td>\n",
       "      <td>0.679774</td>\n",
       "      <td>4</td>\n",
       "    </tr>\n",
       "    <tr>\n",
       "      <th>4</th>\n",
       "      <td>5</td>\n",
       "      <td>19</td>\n",
       "      <td>chineese</td>\n",
       "      <td>2017-09-14</td>\n",
       "      <td>720</td>\n",
       "      <td>12083</td>\n",
       "      <td>19</td>\n",
       "      <td>101.537815</td>\n",
       "      <td>19</td>\n",
       "      <td>119</td>\n",
       "      <td>3</td>\n",
       "      <td>0.944444</td>\n",
       "      <td>2</td>\n",
       "      <td>0.264207</td>\n",
       "      <td>26</td>\n",
       "    </tr>\n",
       "  </tbody>\n",
       "</table>\n",
       "</div>"
      ],
      "text/plain": [
       "   video_id  video_length video_language video_upload_date  video_quality  \\\n",
       "0         1            16       chineese        2017-09-11            480   \n",
       "1         2            27        spanish        2017-10-03            480   \n",
       "2         3            30        spanish        2017-10-06            240   \n",
       "3         4            15        spanish        2017-10-12            720   \n",
       "4         5            19       chineese        2017-09-14            720   \n",
       "\n",
       "   Total_Count  Total_Count_Rnk  Daily_views_Avg  Daily_views_Avg_Rnk  \\\n",
       "0        13197               10       109.975000                   10   \n",
       "1         6163               79        51.789916                   78   \n",
       "2         3454              100        29.025210                  100   \n",
       "3        14192                5       119.260504                    7   \n",
       "4        12083               19       101.537815                   19   \n",
       "\n",
       "   Viewed_Days_Count  Viewed_Days_Count_Rnk  Above_Avg_Prc  Above_Avg_Prc_Rnk  \\\n",
       "0                120                      2       0.944444                  2   \n",
       "1                119                      3       0.000000                 23   \n",
       "2                119                      3       0.000000                 23   \n",
       "3                119                      3       0.944444                  2   \n",
       "4                119                      3       0.944444                  2   \n",
       "\n",
       "   Avg_Offset_Prc  Avg_Offset_Prc_Rnk  \n",
       "0        0.375732                  15  \n",
       "1       -0.321200                  78  \n",
       "2       -0.626815                 100  \n",
       "3        0.679774                   4  \n",
       "4        0.264207                  26  "
      ]
     },
     "execution_count": 117,
     "metadata": {},
     "output_type": "execute_result"
    }
   ],
   "source": [
    "feats_df_lst = [df_total_cnt, df_daily_avg, df_days_cnt, df_above_avg, df_avg_offset]\n",
    "\n",
    "# Merge\n",
    "df_features_enriched = df_vf\n",
    "for feat in feats_df_lst:\n",
    "    df_features_enriched = df_features_enriched.merge(feat, left_on='video_id', right_on='video_id', how='left')\n",
    "\n",
    "df_features_enriched.head()"
   ]
  },
  {
   "cell_type": "code",
   "execution_count": 119,
   "metadata": {},
   "outputs": [],
   "source": [
    "df_features_enriched.to_excel(path_folder+'Features Enriched.xlsx', index=False)"
   ]
  },
  {
   "cell_type": "code",
   "execution_count": null,
   "metadata": {},
   "outputs": [],
   "source": []
  },
  {
   "cell_type": "code",
   "execution_count": null,
   "metadata": {},
   "outputs": [],
   "source": []
  }
 ],
 "metadata": {
  "kernelspec": {
   "display_name": "Python 3",
   "language": "python",
   "name": "python3"
  },
  "language_info": {
   "codemirror_mode": {
    "name": "ipython",
    "version": 3
   },
   "file_extension": ".py",
   "mimetype": "text/x-python",
   "name": "python",
   "nbconvert_exporter": "python",
   "pygments_lexer": "ipython3",
   "version": "3.8.3"
  }
 },
 "nbformat": 4,
 "nbformat_minor": 4
}
