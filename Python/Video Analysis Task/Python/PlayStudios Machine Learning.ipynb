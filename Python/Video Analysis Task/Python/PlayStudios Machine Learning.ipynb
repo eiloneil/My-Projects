{
 "cells": [
  {
   "cell_type": "markdown",
   "metadata": {},
   "source": [
    "https://machinelearningmastery.com/machine-learning-in-python-step-by-step/"
   ]
  },
  {
   "cell_type": "markdown",
   "metadata": {},
   "source": [
    "# Video Classification - HOT or NOT"
   ]
  },
  {
   "cell_type": "markdown",
   "metadata": {},
   "source": [
    "### Import stuff"
   ]
  },
  {
   "cell_type": "code",
   "execution_count": 1,
   "metadata": {},
   "outputs": [
    {
     "name": "stdout",
     "output_type": "stream",
     "text": [
      "Python: 3.8.3 (default, Jul  2 2020, 17:30:36) [MSC v.1916 64 bit (AMD64)]\n",
      "scipy: 1.5.0\n",
      "numpy: 1.18.5\n",
      "matplotlib: 3.2.2\n",
      "pandas: 1.0.5\n",
      "sklearn: 0.23.1\n"
     ]
    }
   ],
   "source": [
    "\n",
    "# Check the versions of libraries\n",
    " \n",
    "# Python version\n",
    "import sys\n",
    "print('Python: {}'.format(sys.version))\n",
    "# scipy\n",
    "import scipy\n",
    "print('scipy: {}'.format(scipy.__version__))\n",
    "# numpy\n",
    "import numpy as np\n",
    "print('numpy: {}'.format(np.__version__))\n",
    "# matplotlib\n",
    "import matplotlib\n",
    "print('matplotlib: {}'.format(matplotlib.__version__))\n",
    "# pandas\n",
    "import pandas as pd\n",
    "print('pandas: {}'.format(pd.__version__))\n",
    "# scikit-learn\n",
    "import sklearn\n",
    "print('sklearn: {}'.format(sklearn.__version__))\n",
    "\n",
    "\n",
    "# Import more stuff\n",
    "from matplotlib import pyplot as plt\n",
    "from sklearn.model_selection import train_test_split\n",
    "from sklearn.ensemble import RandomForestClassifier\n",
    "from sklearn.metrics import confusion_matrix\n",
    "from sklearn.metrics import accuracy_score\n",
    "import seaborn as sb\n",
    "import os\n",
    "import datetime as dt\n",
    "import random as rd"
   ]
  },
  {
   "cell_type": "markdown",
   "metadata": {},
   "source": [
    "### Import Data"
   ]
  },
  {
   "cell_type": "code",
   "execution_count": 2,
   "metadata": {},
   "outputs": [
    {
     "data": {
      "text/html": [
       "<div>\n",
       "<style scoped>\n",
       "    .dataframe tbody tr th:only-of-type {\n",
       "        vertical-align: middle;\n",
       "    }\n",
       "\n",
       "    .dataframe tbody tr th {\n",
       "        vertical-align: top;\n",
       "    }\n",
       "\n",
       "    .dataframe thead th {\n",
       "        text-align: right;\n",
       "    }\n",
       "</style>\n",
       "<table border=\"1\" class=\"dataframe\">\n",
       "  <thead>\n",
       "    <tr style=\"text-align: right;\">\n",
       "      <th></th>\n",
       "      <th>video_id</th>\n",
       "      <th>video_length</th>\n",
       "      <th>video_language</th>\n",
       "      <th>video_upload_date</th>\n",
       "      <th>video_quality</th>\n",
       "    </tr>\n",
       "  </thead>\n",
       "  <tbody>\n",
       "    <tr>\n",
       "      <th>0</th>\n",
       "      <td>1</td>\n",
       "      <td>16</td>\n",
       "      <td>chineese</td>\n",
       "      <td>11/09/2017</td>\n",
       "      <td>480</td>\n",
       "    </tr>\n",
       "    <tr>\n",
       "      <th>1</th>\n",
       "      <td>2</td>\n",
       "      <td>27</td>\n",
       "      <td>spanish</td>\n",
       "      <td>03/10/2017</td>\n",
       "      <td>480</td>\n",
       "    </tr>\n",
       "    <tr>\n",
       "      <th>2</th>\n",
       "      <td>3</td>\n",
       "      <td>30</td>\n",
       "      <td>spanish</td>\n",
       "      <td>06/10/2017</td>\n",
       "      <td>240</td>\n",
       "    </tr>\n",
       "  </tbody>\n",
       "</table>\n",
       "</div>"
      ],
      "text/plain": [
       "   video_id  video_length video_language video_upload_date  video_quality\n",
       "0         1            16       chineese        11/09/2017            480\n",
       "1         2            27        spanish        03/10/2017            480\n",
       "2         3            30        spanish        06/10/2017            240"
      ]
     },
     "execution_count": 2,
     "metadata": {},
     "output_type": "execute_result"
    }
   ],
   "source": [
    "path_folder = r\"..\\\\data\\\\\"\n",
    "\n",
    "df_vc = pd.read_csv(path_folder+'video_count.csv')#.set_index('video_id')\n",
    "df_vf = pd.read_csv(path_folder+'video_features.csv')#.set_index('video_id')\n",
    "\n",
    "# Convert Quality Value for str to int\n",
    "df_vf['video_quality'] = df_vf['video_quality'].apply(lambda x: int(x[:-1]))\n",
    "\n",
    "df_vf.head(3)"
   ]
  },
  {
   "cell_type": "markdown",
   "metadata": {},
   "source": [
    "### Clean and format"
   ]
  },
  {
   "cell_type": "code",
   "execution_count": 3,
   "metadata": {},
   "outputs": [
    {
     "data": {
      "text/html": [
       "<div>\n",
       "<style scoped>\n",
       "    .dataframe tbody tr th:only-of-type {\n",
       "        vertical-align: middle;\n",
       "    }\n",
       "\n",
       "    .dataframe tbody tr th {\n",
       "        vertical-align: top;\n",
       "    }\n",
       "\n",
       "    .dataframe thead th {\n",
       "        text-align: right;\n",
       "    }\n",
       "</style>\n",
       "<table border=\"1\" class=\"dataframe\">\n",
       "  <thead>\n",
       "    <tr style=\"text-align: right;\">\n",
       "      <th></th>\n",
       "      <th>video_id</th>\n",
       "      <th>date</th>\n",
       "      <th>count</th>\n",
       "      <th>CLASS</th>\n",
       "      <th>week_start_date</th>\n",
       "    </tr>\n",
       "  </thead>\n",
       "  <tbody>\n",
       "    <tr>\n",
       "      <th>0</th>\n",
       "      <td>3</td>\n",
       "      <td>2018-01-27</td>\n",
       "      <td>6</td>\n",
       "      <td>-1.0</td>\n",
       "      <td>2018-01-21</td>\n",
       "    </tr>\n",
       "    <tr>\n",
       "      <th>1</th>\n",
       "      <td>3</td>\n",
       "      <td>2018-02-01</td>\n",
       "      <td>6</td>\n",
       "      <td>-1.0</td>\n",
       "      <td>2018-01-28</td>\n",
       "    </tr>\n",
       "    <tr>\n",
       "      <th>2</th>\n",
       "      <td>3</td>\n",
       "      <td>2018-01-31</td>\n",
       "      <td>6</td>\n",
       "      <td>-1.0</td>\n",
       "      <td>2018-01-28</td>\n",
       "    </tr>\n",
       "    <tr>\n",
       "      <th>3</th>\n",
       "      <td>3</td>\n",
       "      <td>2018-01-25</td>\n",
       "      <td>7</td>\n",
       "      <td>-1.0</td>\n",
       "      <td>2018-01-21</td>\n",
       "    </tr>\n",
       "    <tr>\n",
       "      <th>4</th>\n",
       "      <td>3</td>\n",
       "      <td>2018-02-03</td>\n",
       "      <td>7</td>\n",
       "      <td>-1.0</td>\n",
       "      <td>2018-01-28</td>\n",
       "    </tr>\n",
       "  </tbody>\n",
       "</table>\n",
       "</div>"
      ],
      "text/plain": [
       "   video_id       date  count  CLASS week_start_date\n",
       "0         3 2018-01-27      6   -1.0      2018-01-21\n",
       "1         3 2018-02-01      6   -1.0      2018-01-28\n",
       "2         3 2018-01-31      6   -1.0      2018-01-28\n",
       "3         3 2018-01-25      7   -1.0      2018-01-21\n",
       "4         3 2018-02-03      7   -1.0      2018-01-28"
      ]
     },
     "execution_count": 3,
     "metadata": {},
     "output_type": "execute_result"
    }
   ],
   "source": [
    "# Convert str into datetime type\n",
    "df_vc['date'] = pd.to_datetime(df_vc.date, format='%d/%m/%Y')\n",
    "df_vf['video_upload_date'] = pd.to_datetime(df_vf.video_upload_date)\n",
    "\n",
    "# Create Calculated Columns\n",
    "df_vc['week_start_date'] = df_vc.date - pd.to_timedelta((df_vc['date'].dt.dayofweek + 1) % 7, unit='d')\n",
    "\n",
    "df_vc.head()"
   ]
  },
  {
   "cell_type": "markdown",
   "metadata": {},
   "source": [
    "### Merge Features with Count Data"
   ]
  },
  {
   "cell_type": "code",
   "execution_count": 8,
   "metadata": {},
   "outputs": [
    {
     "name": "stdout",
     "output_type": "stream",
     "text": [
      "video_id                      int64\n",
      "date                 datetime64[ns]\n",
      "count                         int64\n",
      "CLASS                       float64\n",
      "week_start_date      datetime64[ns]\n",
      "video_length                  int64\n",
      "video_language               object\n",
      "video_upload_date    datetime64[ns]\n",
      "video_quality                 int64\n",
      "days_from_upload              int64\n",
      "dtype: object\n"
     ]
    },
    {
     "data": {
      "text/html": [
       "<div>\n",
       "<style scoped>\n",
       "    .dataframe tbody tr th:only-of-type {\n",
       "        vertical-align: middle;\n",
       "    }\n",
       "\n",
       "    .dataframe tbody tr th {\n",
       "        vertical-align: top;\n",
       "    }\n",
       "\n",
       "    .dataframe thead th {\n",
       "        text-align: right;\n",
       "    }\n",
       "</style>\n",
       "<table border=\"1\" class=\"dataframe\">\n",
       "  <thead>\n",
       "    <tr style=\"text-align: right;\">\n",
       "      <th></th>\n",
       "      <th>video_id</th>\n",
       "      <th>date</th>\n",
       "      <th>count</th>\n",
       "      <th>CLASS</th>\n",
       "      <th>week_start_date</th>\n",
       "      <th>video_length</th>\n",
       "      <th>video_language</th>\n",
       "      <th>video_upload_date</th>\n",
       "      <th>video_quality</th>\n",
       "      <th>days_from_upload</th>\n",
       "    </tr>\n",
       "  </thead>\n",
       "  <tbody>\n",
       "    <tr>\n",
       "      <th>0</th>\n",
       "      <td>3</td>\n",
       "      <td>2018-01-27</td>\n",
       "      <td>6</td>\n",
       "      <td>-1.0</td>\n",
       "      <td>2018-01-21</td>\n",
       "      <td>30</td>\n",
       "      <td>spanish</td>\n",
       "      <td>2017-06-10</td>\n",
       "      <td>240</td>\n",
       "      <td>231</td>\n",
       "    </tr>\n",
       "    <tr>\n",
       "      <th>1</th>\n",
       "      <td>3</td>\n",
       "      <td>2018-02-01</td>\n",
       "      <td>6</td>\n",
       "      <td>-1.0</td>\n",
       "      <td>2018-01-28</td>\n",
       "      <td>30</td>\n",
       "      <td>spanish</td>\n",
       "      <td>2017-06-10</td>\n",
       "      <td>240</td>\n",
       "      <td>236</td>\n",
       "    </tr>\n",
       "    <tr>\n",
       "      <th>2</th>\n",
       "      <td>3</td>\n",
       "      <td>2018-01-31</td>\n",
       "      <td>6</td>\n",
       "      <td>-1.0</td>\n",
       "      <td>2018-01-28</td>\n",
       "      <td>30</td>\n",
       "      <td>spanish</td>\n",
       "      <td>2017-06-10</td>\n",
       "      <td>240</td>\n",
       "      <td>235</td>\n",
       "    </tr>\n",
       "    <tr>\n",
       "      <th>3</th>\n",
       "      <td>3</td>\n",
       "      <td>2018-01-25</td>\n",
       "      <td>7</td>\n",
       "      <td>-1.0</td>\n",
       "      <td>2018-01-21</td>\n",
       "      <td>30</td>\n",
       "      <td>spanish</td>\n",
       "      <td>2017-06-10</td>\n",
       "      <td>240</td>\n",
       "      <td>229</td>\n",
       "    </tr>\n",
       "    <tr>\n",
       "      <th>4</th>\n",
       "      <td>3</td>\n",
       "      <td>2018-02-03</td>\n",
       "      <td>7</td>\n",
       "      <td>-1.0</td>\n",
       "      <td>2018-01-28</td>\n",
       "      <td>30</td>\n",
       "      <td>spanish</td>\n",
       "      <td>2017-06-10</td>\n",
       "      <td>240</td>\n",
       "      <td>238</td>\n",
       "    </tr>\n",
       "  </tbody>\n",
       "</table>\n",
       "</div>"
      ],
      "text/plain": [
       "   video_id       date  count  CLASS week_start_date  video_length  \\\n",
       "0         3 2018-01-27      6   -1.0      2018-01-21            30   \n",
       "1         3 2018-02-01      6   -1.0      2018-01-28            30   \n",
       "2         3 2018-01-31      6   -1.0      2018-01-28            30   \n",
       "3         3 2018-01-25      7   -1.0      2018-01-21            30   \n",
       "4         3 2018-02-03      7   -1.0      2018-01-28            30   \n",
       "\n",
       "  video_language video_upload_date  video_quality  days_from_upload  \n",
       "0        spanish        2017-06-10            240               231  \n",
       "1        spanish        2017-06-10            240               236  \n",
       "2        spanish        2017-06-10            240               235  \n",
       "3        spanish        2017-06-10            240               229  \n",
       "4        spanish        2017-06-10            240               238  "
      ]
     },
     "execution_count": 8,
     "metadata": {},
     "output_type": "execute_result"
    }
   ],
   "source": [
    "# Merge\n",
    "df_joined = df_vc.merge(df_vf, left_on='video_id', right_on='video_id', how='left')\n",
    "\n",
    "# Create Calculated Columns\n",
    "df_joined['days_from_upload'] = df_joined.date - df_joined.video_upload_date\n",
    "df_joined['days_from_upload'] = df_joined['days_from_upload'].apply(lambda x: int(x.days))\n",
    "\n",
    "# Sort\n",
    "df_joined.sort_values('date')\n",
    "\n",
    "print(df_joined.dtypes)\n",
    "df_joined.head()"
   ]
  },
  {
   "cell_type": "markdown",
   "metadata": {},
   "source": [
    "### Calculate Weekly AVG"
   ]
  },
  {
   "cell_type": "code",
   "execution_count": 4,
   "metadata": {},
   "outputs": [
    {
     "data": {
      "text/plain": [
       "week_start_date\n",
       "2017-09-03    101.064516\n",
       "2017-09-10    100.981982\n",
       "2017-09-17    101.383886\n",
       "Name: count, dtype: float64"
      ]
     },
     "execution_count": 4,
     "metadata": {},
     "output_type": "execute_result"
    }
   ],
   "source": [
    "df_wk_avg = df_joined[['week_start_date', 'count']].groupby('week_start_date')['count'].mean()\n",
    "df_wk_avg.head(3)"
   ]
  },
  {
   "cell_type": "markdown",
   "metadata": {},
   "source": [
    "### Append Weekly AVGs to Main Dataframe"
   ]
  },
  {
   "cell_type": "code",
   "execution_count": 5,
   "metadata": {},
   "outputs": [
    {
     "data": {
      "text/html": [
       "<div>\n",
       "<style scoped>\n",
       "    .dataframe tbody tr th:only-of-type {\n",
       "        vertical-align: middle;\n",
       "    }\n",
       "\n",
       "    .dataframe tbody tr th {\n",
       "        vertical-align: top;\n",
       "    }\n",
       "\n",
       "    .dataframe thead th {\n",
       "        text-align: right;\n",
       "    }\n",
       "</style>\n",
       "<table border=\"1\" class=\"dataframe\">\n",
       "  <thead>\n",
       "    <tr style=\"text-align: right;\">\n",
       "      <th></th>\n",
       "      <th>video_id</th>\n",
       "      <th>date</th>\n",
       "      <th>count</th>\n",
       "      <th>CLASS</th>\n",
       "      <th>video_length</th>\n",
       "      <th>video_language</th>\n",
       "      <th>video_upload_date</th>\n",
       "      <th>video_quality</th>\n",
       "      <th>week_start_date</th>\n",
       "      <th>days_from_upload</th>\n",
       "      <th>count_week_AVG</th>\n",
       "      <th>Avg_Offset</th>\n",
       "    </tr>\n",
       "  </thead>\n",
       "  <tbody>\n",
       "    <tr>\n",
       "      <th>0</th>\n",
       "      <td>3</td>\n",
       "      <td>2018-01-27</td>\n",
       "      <td>6</td>\n",
       "      <td>-1.0</td>\n",
       "      <td>30</td>\n",
       "      <td>spanish</td>\n",
       "      <td>2017-06-10</td>\n",
       "      <td>240</td>\n",
       "      <td>2018-01-21</td>\n",
       "      <td>231</td>\n",
       "      <td>55.857494</td>\n",
       "      <td>-49</td>\n",
       "    </tr>\n",
       "    <tr>\n",
       "      <th>1</th>\n",
       "      <td>3</td>\n",
       "      <td>2018-02-01</td>\n",
       "      <td>6</td>\n",
       "      <td>-1.0</td>\n",
       "      <td>30</td>\n",
       "      <td>spanish</td>\n",
       "      <td>2017-06-10</td>\n",
       "      <td>240</td>\n",
       "      <td>2018-01-28</td>\n",
       "      <td>236</td>\n",
       "      <td>54.736677</td>\n",
       "      <td>-48</td>\n",
       "    </tr>\n",
       "    <tr>\n",
       "      <th>2</th>\n",
       "      <td>3</td>\n",
       "      <td>2018-01-31</td>\n",
       "      <td>6</td>\n",
       "      <td>-1.0</td>\n",
       "      <td>30</td>\n",
       "      <td>spanish</td>\n",
       "      <td>2017-06-10</td>\n",
       "      <td>240</td>\n",
       "      <td>2018-01-28</td>\n",
       "      <td>235</td>\n",
       "      <td>54.736677</td>\n",
       "      <td>-48</td>\n",
       "    </tr>\n",
       "  </tbody>\n",
       "</table>\n",
       "</div>"
      ],
      "text/plain": [
       "   video_id       date  count  CLASS  video_length video_language  \\\n",
       "0         3 2018-01-27      6   -1.0            30        spanish   \n",
       "1         3 2018-02-01      6   -1.0            30        spanish   \n",
       "2         3 2018-01-31      6   -1.0            30        spanish   \n",
       "\n",
       "  video_upload_date  video_quality week_start_date  days_from_upload  \\\n",
       "0        2017-06-10            240      2018-01-21               231   \n",
       "1        2017-06-10            240      2018-01-28               236   \n",
       "2        2017-06-10            240      2018-01-28               235   \n",
       "\n",
       "   count_week_AVG  Avg_Offset  \n",
       "0       55.857494         -49  \n",
       "1       54.736677         -48  \n",
       "2       54.736677         -48  "
      ]
     },
     "execution_count": 5,
     "metadata": {},
     "output_type": "execute_result"
    }
   ],
   "source": [
    "df_joined_with_avg = df_joined.join(df_wk_avg, on='week_start_date', rsuffix='_week_AVG')\n",
    "\n",
    "# Create Calculated Column: Difference from WAVG\n",
    "df_joined_with_avg['Avg_Offset'] = df_joined_with_avg['count'] - df_joined_with_avg.count_week_AVG.apply(lambda x: int(x))\n",
    "df_joined_with_avg.head(3)"
   ]
  },
  {
   "cell_type": "markdown",
   "metadata": {},
   "source": [
    "### Encode non-numeric Dimentions"
   ]
  },
  {
   "cell_type": "code",
   "execution_count": 6,
   "metadata": {},
   "outputs": [
    {
     "data": {
      "text/html": [
       "<div>\n",
       "<style scoped>\n",
       "    .dataframe tbody tr th:only-of-type {\n",
       "        vertical-align: middle;\n",
       "    }\n",
       "\n",
       "    .dataframe tbody tr th {\n",
       "        vertical-align: top;\n",
       "    }\n",
       "\n",
       "    .dataframe thead th {\n",
       "        text-align: right;\n",
       "    }\n",
       "</style>\n",
       "<table border=\"1\" class=\"dataframe\">\n",
       "  <thead>\n",
       "    <tr style=\"text-align: right;\">\n",
       "      <th></th>\n",
       "      <th>video_id</th>\n",
       "      <th>date</th>\n",
       "      <th>count</th>\n",
       "      <th>CLASS</th>\n",
       "      <th>video_length</th>\n",
       "      <th>video_upload_date</th>\n",
       "      <th>video_quality</th>\n",
       "      <th>week_start_date</th>\n",
       "      <th>days_from_upload</th>\n",
       "      <th>count_week_AVG</th>\n",
       "      <th>Avg_Offset</th>\n",
       "      <th>video_language_chineese</th>\n",
       "      <th>video_language_english</th>\n",
       "      <th>video_language_spanish</th>\n",
       "    </tr>\n",
       "  </thead>\n",
       "  <tbody>\n",
       "    <tr>\n",
       "      <th>0</th>\n",
       "      <td>3</td>\n",
       "      <td>2018-01-27</td>\n",
       "      <td>6</td>\n",
       "      <td>-1.0</td>\n",
       "      <td>30</td>\n",
       "      <td>2017-06-10</td>\n",
       "      <td>240</td>\n",
       "      <td>2018-01-21</td>\n",
       "      <td>231</td>\n",
       "      <td>55.857494</td>\n",
       "      <td>-49</td>\n",
       "      <td>0</td>\n",
       "      <td>0</td>\n",
       "      <td>1</td>\n",
       "    </tr>\n",
       "    <tr>\n",
       "      <th>1</th>\n",
       "      <td>3</td>\n",
       "      <td>2018-02-01</td>\n",
       "      <td>6</td>\n",
       "      <td>-1.0</td>\n",
       "      <td>30</td>\n",
       "      <td>2017-06-10</td>\n",
       "      <td>240</td>\n",
       "      <td>2018-01-28</td>\n",
       "      <td>236</td>\n",
       "      <td>54.736677</td>\n",
       "      <td>-48</td>\n",
       "      <td>0</td>\n",
       "      <td>0</td>\n",
       "      <td>1</td>\n",
       "    </tr>\n",
       "    <tr>\n",
       "      <th>2</th>\n",
       "      <td>3</td>\n",
       "      <td>2018-01-31</td>\n",
       "      <td>6</td>\n",
       "      <td>-1.0</td>\n",
       "      <td>30</td>\n",
       "      <td>2017-06-10</td>\n",
       "      <td>240</td>\n",
       "      <td>2018-01-28</td>\n",
       "      <td>235</td>\n",
       "      <td>54.736677</td>\n",
       "      <td>-48</td>\n",
       "      <td>0</td>\n",
       "      <td>0</td>\n",
       "      <td>1</td>\n",
       "    </tr>\n",
       "  </tbody>\n",
       "</table>\n",
       "</div>"
      ],
      "text/plain": [
       "   video_id       date  count  CLASS  video_length video_upload_date  \\\n",
       "0         3 2018-01-27      6   -1.0            30        2017-06-10   \n",
       "1         3 2018-02-01      6   -1.0            30        2017-06-10   \n",
       "2         3 2018-01-31      6   -1.0            30        2017-06-10   \n",
       "\n",
       "   video_quality week_start_date  days_from_upload  count_week_AVG  \\\n",
       "0            240      2018-01-21               231       55.857494   \n",
       "1            240      2018-01-28               236       54.736677   \n",
       "2            240      2018-01-28               235       54.736677   \n",
       "\n",
       "   Avg_Offset  video_language_chineese  video_language_english  \\\n",
       "0         -49                        0                       0   \n",
       "1         -48                        0                       0   \n",
       "2         -48                        0                       0   \n",
       "\n",
       "   video_language_spanish  \n",
       "0                       1  \n",
       "1                       1  \n",
       "2                       1  "
      ]
     },
     "execution_count": 6,
     "metadata": {},
     "output_type": "execute_result"
    }
   ],
   "source": [
    "encode = ['video_language']\n",
    "\n",
    "df_with_dummies = df_joined_with_avg\n",
    "dum_cols = []\n",
    "for col in encode:\n",
    "    dummy = pd.get_dummies(df_joined_with_avg[col], prefix=col)\n",
    "    dum_cols += list(dummy.columns)\n",
    "    df_with_dummies = pd.concat([df_with_dummies,dummy], axis=1)\n",
    "    del df_with_dummies[col]\n",
    "\n",
    "df_with_dummies.head(3)\n"
   ]
  },
  {
   "cell_type": "markdown",
   "metadata": {},
   "source": [
    "### Determine Prediction Target Dim and Features Dims"
   ]
  },
  {
   "cell_type": "code",
   "execution_count": 21,
   "metadata": {},
   "outputs": [
    {
     "data": {
      "text/html": [
       "<div>\n",
       "<style scoped>\n",
       "    .dataframe tbody tr th:only-of-type {\n",
       "        vertical-align: middle;\n",
       "    }\n",
       "\n",
       "    .dataframe tbody tr th {\n",
       "        vertical-align: top;\n",
       "    }\n",
       "\n",
       "    .dataframe thead th {\n",
       "        text-align: right;\n",
       "    }\n",
       "</style>\n",
       "<table border=\"1\" class=\"dataframe\">\n",
       "  <thead>\n",
       "    <tr style=\"text-align: right;\">\n",
       "      <th></th>\n",
       "      <th>video_length</th>\n",
       "      <th>video_quality</th>\n",
       "      <th>days_from_upload</th>\n",
       "      <th>Avg_Offset</th>\n",
       "      <th>video_language_chineese</th>\n",
       "      <th>video_language_english</th>\n",
       "      <th>video_language_spanish</th>\n",
       "      <th>CLASS</th>\n",
       "    </tr>\n",
       "  </thead>\n",
       "  <tbody>\n",
       "    <tr>\n",
       "      <th>0</th>\n",
       "      <td>30</td>\n",
       "      <td>240</td>\n",
       "      <td>231</td>\n",
       "      <td>-49</td>\n",
       "      <td>0</td>\n",
       "      <td>0</td>\n",
       "      <td>1</td>\n",
       "      <td>-1.0</td>\n",
       "    </tr>\n",
       "    <tr>\n",
       "      <th>1</th>\n",
       "      <td>30</td>\n",
       "      <td>240</td>\n",
       "      <td>236</td>\n",
       "      <td>-48</td>\n",
       "      <td>0</td>\n",
       "      <td>0</td>\n",
       "      <td>1</td>\n",
       "      <td>-1.0</td>\n",
       "    </tr>\n",
       "    <tr>\n",
       "      <th>2</th>\n",
       "      <td>30</td>\n",
       "      <td>240</td>\n",
       "      <td>235</td>\n",
       "      <td>-48</td>\n",
       "      <td>0</td>\n",
       "      <td>0</td>\n",
       "      <td>1</td>\n",
       "      <td>-1.0</td>\n",
       "    </tr>\n",
       "    <tr>\n",
       "      <th>3</th>\n",
       "      <td>30</td>\n",
       "      <td>240</td>\n",
       "      <td>229</td>\n",
       "      <td>-48</td>\n",
       "      <td>0</td>\n",
       "      <td>0</td>\n",
       "      <td>1</td>\n",
       "      <td>-1.0</td>\n",
       "    </tr>\n",
       "    <tr>\n",
       "      <th>4</th>\n",
       "      <td>30</td>\n",
       "      <td>240</td>\n",
       "      <td>238</td>\n",
       "      <td>-47</td>\n",
       "      <td>0</td>\n",
       "      <td>0</td>\n",
       "      <td>1</td>\n",
       "      <td>-1.0</td>\n",
       "    </tr>\n",
       "  </tbody>\n",
       "</table>\n",
       "</div>"
      ],
      "text/plain": [
       "   video_length  video_quality  days_from_upload  Avg_Offset  \\\n",
       "0            30            240               231         -49   \n",
       "1            30            240               236         -48   \n",
       "2            30            240               235         -48   \n",
       "3            30            240               229         -48   \n",
       "4            30            240               238         -47   \n",
       "\n",
       "   video_language_chineese  video_language_english  video_language_spanish  \\\n",
       "0                        0                       0                       1   \n",
       "1                        0                       0                       1   \n",
       "2                        0                       0                       1   \n",
       "3                        0                       0                       1   \n",
       "4                        0                       0                       1   \n",
       "\n",
       "   CLASS  \n",
       "0   -1.0  \n",
       "1   -1.0  \n",
       "2   -1.0  \n",
       "3   -1.0  \n",
       "4   -1.0  "
      ]
     },
     "execution_count": 21,
     "metadata": {},
     "output_type": "execute_result"
    }
   ],
   "source": [
    "target_col_name = 'CLASS'    \n",
    "cols = ['video_length', 'video_quality', 'days_from_upload', 'Avg_Offset'] + dum_cols\n",
    "df_test = df_with_dummies[df_with_dummies['CLASS'] > -2][cols + [target_col_name]]\n",
    "df_test.head()"
   ]
  },
  {
   "cell_type": "markdown",
   "metadata": {},
   "source": [
    "### Display distribution of DF Dimentions by Boxplots"
   ]
  },
  {
   "cell_type": "code",
   "execution_count": 22,
   "metadata": {},
   "outputs": [
    {
     "data": {
      "image/png": "[encoded data removed]",
      "text/plain": [
       "<Figure size 1080x504 with 8 Axes>"
      ]
     },
     "metadata": {
      "needs_background": "light"
     },
     "output_type": "display_data"
    }
   ],
   "source": [
    "\n",
    "df_with_dummies[cols].drop(columns=dum_cols).plot(kind='box', subplots=True, layout=(2,4), sharex=False, sharey=False, figsize=(15,7))\n",
    "plt.show()"
   ]
  },
  {
   "cell_type": "markdown",
   "metadata": {},
   "source": [
    "### Split dataset to train and validation"
   ]
  },
  {
   "cell_type": "code",
   "execution_count": 23,
   "metadata": {},
   "outputs": [
    {
     "name": "stdout",
     "output_type": "stream",
     "text": [
      "Train size      : 3000\n",
      "Validation size : 1000\n",
      "[ 26 240  58 -46   0   0   1]\n"
     ]
    }
   ],
   "source": [
    "X = df_test.drop(columns=target_col_name).values\n",
    "y = df_test[target_col_name].values\n",
    "X_train, X_validation, Y_train, Y_validation = train_test_split(X, y, test_size=0.25, random_state=1)\n",
    "print('Train size      :', len(X_train))\n",
    "print('Validation size :', len(X_validation))\n",
    "print(X_train[1])"
   ]
  },
  {
   "cell_type": "markdown",
   "metadata": {},
   "source": [
    "### Fit into Random Forest Model"
   ]
  },
  {
   "cell_type": "code",
   "execution_count": 24,
   "metadata": {},
   "outputs": [
    {
     "name": "stdout",
     "output_type": "stream",
     "text": [
      "Model's Accuracy Score: 0.992\n"
     ]
    }
   ],
   "source": [
    "clf = RandomForestClassifier(n_estimators=15)\n",
    "clf.fit(X_train, Y_train)\n",
    "Y_pred = clf.predict(X_validation)\n",
    "\n",
    "# Test the model's accuracy\n",
    "score = accuracy_score(Y_validation, Y_pred)\n",
    "print(\"Model's Accuracy Score:\", score)"
   ]
  },
  {
   "cell_type": "markdown",
   "metadata": {},
   "source": [
    "### Display Model's Accuracy as a Matrix"
   ]
  },
  {
   "cell_type": "code",
   "execution_count": 25,
   "metadata": {},
   "outputs": [
    {
     "data": {
      "text/plain": [
       "array([[522,   3,   0],\n",
       "       [  5, 243,   0],\n",
       "       [  0,   0, 227]], dtype=int64)"
      ]
     },
     "execution_count": 25,
     "metadata": {},
     "output_type": "execute_result"
    }
   ],
   "source": [
    "lbls = list(df_test[target_col_name].unique())\n",
    "cm = confusion_matrix(Y_validation, Y_pred, labels=lbls)\n",
    "cm"
   ]
  },
  {
   "cell_type": "code",
   "execution_count": 26,
   "metadata": {},
   "outputs": [
    {
     "data": {
      "image/png": "[encoded data removed]",
      "text/plain": [
       "<Figure size 720x504 with 2 Axes>"
      ]
     },
     "metadata": {
      "needs_background": "light"
     },
     "output_type": "display_data"
    }
   ],
   "source": [
    "%matplotlib inline\n",
    "plt.figure(figsize=(10, 7))\n",
    "sb.heatmap(cm, annot=True, fmt='g', annot_kws={\"fontsize\":18}, xticklabels=lbls, yticklabels=lbls)\n",
    "plt.xlabel('Prediction', size=15)\n",
    "plt.ylabel('Test Value', size=15)\n",
    "plt.show()"
   ]
  },
  {
   "cell_type": "markdown",
   "metadata": {},
   "source": [
    "### Single Testing"
   ]
  },
  {
   "cell_type": "code",
   "execution_count": 147,
   "metadata": {},
   "outputs": [
    {
     "name": "stdout",
     "output_type": "stream",
     "text": [
      "video_length                30.0\n",
      "video_quality              240.0\n",
      "days_from_upload           231.0\n",
      "video_language_chineese      0.0\n",
      "video_language_english       0.0\n",
      "video_language_spanish       1.0\n",
      "CLASS                       -1.0\n",
      "Name: 0, dtype: float64\n"
     ]
    }
   ],
   "source": [
    "# Using input\n",
    "# data_to_test = np.array([int(input(x+': ')) for x in cols]).reshape(1, -1)\n",
    "\n",
    "# Manually\n",
    "print(df_test.loc[0])\n",
    "data_to_test = np.array([18, 1080, 300, 0, 1, 0]).reshape(1, -1)"
   ]
  },
  {
   "cell_type": "code",
   "execution_count": 148,
   "metadata": {},
   "outputs": [
    {
     "data": {
      "text/plain": [
       "array([0.])"
      ]
     },
     "execution_count": 148,
     "metadata": {},
     "output_type": "execute_result"
    }
   ],
   "source": [
    "clf.predict(data_to_test)"
   ]
  },
  {
   "cell_type": "markdown",
   "metadata": {},
   "source": [
    "# Second Approach - Weekly Agg"
   ]
  },
  {
   "cell_type": "code",
   "execution_count": 4,
   "metadata": {},
   "outputs": [
    {
     "name": "stdout",
     "output_type": "stream",
     "text": [
      "(1813, 3)\n"
     ]
    },
    {
     "data": {
      "text/html": [
       "<div>\n",
       "<style scoped>\n",
       "    .dataframe tbody tr th:only-of-type {\n",
       "        vertical-align: middle;\n",
       "    }\n",
       "\n",
       "    .dataframe tbody tr th {\n",
       "        vertical-align: top;\n",
       "    }\n",
       "\n",
       "    .dataframe thead th {\n",
       "        text-align: right;\n",
       "    }\n",
       "</style>\n",
       "<table border=\"1\" class=\"dataframe\">\n",
       "  <thead>\n",
       "    <tr style=\"text-align: right;\">\n",
       "      <th></th>\n",
       "      <th>week_start_date</th>\n",
       "      <th>video_id</th>\n",
       "      <th>count</th>\n",
       "    </tr>\n",
       "  </thead>\n",
       "  <tbody>\n",
       "    <tr>\n",
       "      <th>0</th>\n",
       "      <td>2017-09-03</td>\n",
       "      <td>13</td>\n",
       "      <td>736</td>\n",
       "    </tr>\n",
       "    <tr>\n",
       "      <th>1</th>\n",
       "      <td>2017-09-03</td>\n",
       "      <td>16</td>\n",
       "      <td>260</td>\n",
       "    </tr>\n",
       "    <tr>\n",
       "      <th>2</th>\n",
       "      <td>2017-09-03</td>\n",
       "      <td>32</td>\n",
       "      <td>177</td>\n",
       "    </tr>\n",
       "    <tr>\n",
       "      <th>3</th>\n",
       "      <td>2017-09-03</td>\n",
       "      <td>70</td>\n",
       "      <td>838</td>\n",
       "    </tr>\n",
       "    <tr>\n",
       "      <th>4</th>\n",
       "      <td>2017-09-03</td>\n",
       "      <td>73</td>\n",
       "      <td>538</td>\n",
       "    </tr>\n",
       "  </tbody>\n",
       "</table>\n",
       "</div>"
      ],
      "text/plain": [
       "  week_start_date  video_id  count\n",
       "0      2017-09-03        13    736\n",
       "1      2017-09-03        16    260\n",
       "2      2017-09-03        32    177\n",
       "3      2017-09-03        70    838\n",
       "4      2017-09-03        73    538"
      ]
     },
     "execution_count": 4,
     "metadata": {},
     "output_type": "execute_result"
    }
   ],
   "source": [
    "df_weekly = df_vc.groupby(['week_start_date', 'video_id'])['count'].sum()\n",
    "df_weekly = pd.DataFrame(df_weekly).reset_index()\n",
    "print(df_weekly.shape)\n",
    "df_weekly.head()"
   ]
  },
  {
   "cell_type": "code",
   "execution_count": 5,
   "metadata": {},
   "outputs": [
    {
     "name": "stdout",
     "output_type": "stream",
     "text": [
      "week_start_date      datetime64[ns]\n",
      "video_id                      int64\n",
      "count                         int64\n",
      "video_length                  int64\n",
      "video_language               object\n",
      "video_upload_date    datetime64[ns]\n",
      "video_quality                 int64\n",
      "days_from_upload              int64\n",
      "dtype: object\n"
     ]
    },
    {
     "data": {
      "text/html": [
       "<div>\n",
       "<style scoped>\n",
       "    .dataframe tbody tr th:only-of-type {\n",
       "        vertical-align: middle;\n",
       "    }\n",
       "\n",
       "    .dataframe tbody tr th {\n",
       "        vertical-align: top;\n",
       "    }\n",
       "\n",
       "    .dataframe thead th {\n",
       "        text-align: right;\n",
       "    }\n",
       "</style>\n",
       "<table border=\"1\" class=\"dataframe\">\n",
       "  <thead>\n",
       "    <tr style=\"text-align: right;\">\n",
       "      <th></th>\n",
       "      <th>week_start_date</th>\n",
       "      <th>video_id</th>\n",
       "      <th>count</th>\n",
       "      <th>video_length</th>\n",
       "      <th>video_language</th>\n",
       "      <th>video_upload_date</th>\n",
       "      <th>video_quality</th>\n",
       "      <th>days_from_upload</th>\n",
       "    </tr>\n",
       "  </thead>\n",
       "  <tbody>\n",
       "    <tr>\n",
       "      <th>0</th>\n",
       "      <td>2017-09-03</td>\n",
       "      <td>13</td>\n",
       "      <td>736</td>\n",
       "      <td>18</td>\n",
       "      <td>english</td>\n",
       "      <td>2017-03-09</td>\n",
       "      <td>720</td>\n",
       "      <td>178</td>\n",
       "    </tr>\n",
       "    <tr>\n",
       "      <th>1</th>\n",
       "      <td>2017-09-03</td>\n",
       "      <td>16</td>\n",
       "      <td>260</td>\n",
       "      <td>24</td>\n",
       "      <td>spanish</td>\n",
       "      <td>2017-08-09</td>\n",
       "      <td>1080</td>\n",
       "      <td>25</td>\n",
       "    </tr>\n",
       "    <tr>\n",
       "      <th>2</th>\n",
       "      <td>2017-09-03</td>\n",
       "      <td>32</td>\n",
       "      <td>177</td>\n",
       "      <td>29</td>\n",
       "      <td>english</td>\n",
       "      <td>2017-07-09</td>\n",
       "      <td>240</td>\n",
       "      <td>56</td>\n",
       "    </tr>\n",
       "    <tr>\n",
       "      <th>3</th>\n",
       "      <td>2017-09-03</td>\n",
       "      <td>70</td>\n",
       "      <td>838</td>\n",
       "      <td>18</td>\n",
       "      <td>english</td>\n",
       "      <td>2017-03-09</td>\n",
       "      <td>480</td>\n",
       "      <td>178</td>\n",
       "    </tr>\n",
       "    <tr>\n",
       "      <th>4</th>\n",
       "      <td>2017-09-03</td>\n",
       "      <td>73</td>\n",
       "      <td>538</td>\n",
       "      <td>25</td>\n",
       "      <td>chineese</td>\n",
       "      <td>2017-03-09</td>\n",
       "      <td>480</td>\n",
       "      <td>178</td>\n",
       "    </tr>\n",
       "  </tbody>\n",
       "</table>\n",
       "</div>"
      ],
      "text/plain": [
       "  week_start_date  video_id  count  video_length video_language  \\\n",
       "0      2017-09-03        13    736            18        english   \n",
       "1      2017-09-03        16    260            24        spanish   \n",
       "2      2017-09-03        32    177            29        english   \n",
       "3      2017-09-03        70    838            18        english   \n",
       "4      2017-09-03        73    538            25       chineese   \n",
       "\n",
       "  video_upload_date  video_quality  days_from_upload  \n",
       "0        2017-03-09            720               178  \n",
       "1        2017-08-09           1080                25  \n",
       "2        2017-07-09            240                56  \n",
       "3        2017-03-09            480               178  \n",
       "4        2017-03-09            480               178  "
      ]
     },
     "execution_count": 5,
     "metadata": {},
     "output_type": "execute_result"
    }
   ],
   "source": [
    "# Merge\n",
    "df_weekly_joined = df_weekly.merge(df_vf, left_on='video_id', right_on='video_id', how='left')\n",
    "\n",
    "# Create Calculated Columns\n",
    "df_weekly_joined['days_from_upload'] = df_weekly_joined.week_start_date - df_weekly_joined.video_upload_date\n",
    "df_weekly_joined['days_from_upload'] = df_weekly_joined['days_from_upload'].apply(lambda x: int(x.days))\n",
    "\n",
    "# Sort\n",
    "df_weekly_joined.sort_values('week_start_date')\n",
    "\n",
    "print(df_weekly_joined.dtypes)\n",
    "df_weekly_joined.head()"
   ]
  },
  {
   "cell_type": "markdown",
   "metadata": {},
   "source": [
    "### Calculate Weekly AVG"
   ]
  },
  {
   "cell_type": "code",
   "execution_count": 6,
   "metadata": {},
   "outputs": [
    {
     "data": {
      "text/plain": [
       "week_start_date\n",
       "2017-09-03    391.625000\n",
       "2017-09-10    487.347826\n",
       "2017-09-17    578.162162\n",
       "Name: count, dtype: float64"
      ]
     },
     "execution_count": 6,
     "metadata": {},
     "output_type": "execute_result"
    }
   ],
   "source": [
    "df_wk_avg = df_weekly_joined[['week_start_date', 'count']].groupby('week_start_date')['count'].mean()\n",
    "df_wk_avg.head(3)"
   ]
  },
  {
   "cell_type": "markdown",
   "metadata": {},
   "source": [
    "### Append Weekly AVGs to Main Dataframe"
   ]
  },
  {
   "cell_type": "code",
   "execution_count": 7,
   "metadata": {},
   "outputs": [
    {
     "data": {
      "text/html": [
       "<div>\n",
       "<style scoped>\n",
       "    .dataframe tbody tr th:only-of-type {\n",
       "        vertical-align: middle;\n",
       "    }\n",
       "\n",
       "    .dataframe tbody tr th {\n",
       "        vertical-align: top;\n",
       "    }\n",
       "\n",
       "    .dataframe thead th {\n",
       "        text-align: right;\n",
       "    }\n",
       "</style>\n",
       "<table border=\"1\" class=\"dataframe\">\n",
       "  <thead>\n",
       "    <tr style=\"text-align: right;\">\n",
       "      <th></th>\n",
       "      <th>week_start_date</th>\n",
       "      <th>video_id</th>\n",
       "      <th>count</th>\n",
       "      <th>video_length</th>\n",
       "      <th>video_language</th>\n",
       "      <th>video_upload_date</th>\n",
       "      <th>video_quality</th>\n",
       "      <th>days_from_upload</th>\n",
       "      <th>count_week_AVG</th>\n",
       "      <th>Avg_Offset</th>\n",
       "    </tr>\n",
       "  </thead>\n",
       "  <tbody>\n",
       "    <tr>\n",
       "      <th>0</th>\n",
       "      <td>2017-09-03</td>\n",
       "      <td>13</td>\n",
       "      <td>736</td>\n",
       "      <td>18</td>\n",
       "      <td>english</td>\n",
       "      <td>2017-03-09</td>\n",
       "      <td>720</td>\n",
       "      <td>178</td>\n",
       "      <td>391.625</td>\n",
       "      <td>345</td>\n",
       "    </tr>\n",
       "    <tr>\n",
       "      <th>1</th>\n",
       "      <td>2017-09-03</td>\n",
       "      <td>16</td>\n",
       "      <td>260</td>\n",
       "      <td>24</td>\n",
       "      <td>spanish</td>\n",
       "      <td>2017-08-09</td>\n",
       "      <td>1080</td>\n",
       "      <td>25</td>\n",
       "      <td>391.625</td>\n",
       "      <td>-131</td>\n",
       "    </tr>\n",
       "    <tr>\n",
       "      <th>2</th>\n",
       "      <td>2017-09-03</td>\n",
       "      <td>32</td>\n",
       "      <td>177</td>\n",
       "      <td>29</td>\n",
       "      <td>english</td>\n",
       "      <td>2017-07-09</td>\n",
       "      <td>240</td>\n",
       "      <td>56</td>\n",
       "      <td>391.625</td>\n",
       "      <td>-214</td>\n",
       "    </tr>\n",
       "  </tbody>\n",
       "</table>\n",
       "</div>"
      ],
      "text/plain": [
       "  week_start_date  video_id  count  video_length video_language  \\\n",
       "0      2017-09-03        13    736            18        english   \n",
       "1      2017-09-03        16    260            24        spanish   \n",
       "2      2017-09-03        32    177            29        english   \n",
       "\n",
       "  video_upload_date  video_quality  days_from_upload  count_week_AVG  \\\n",
       "0        2017-03-09            720               178         391.625   \n",
       "1        2017-08-09           1080                25         391.625   \n",
       "2        2017-07-09            240                56         391.625   \n",
       "\n",
       "   Avg_Offset  \n",
       "0         345  \n",
       "1        -131  \n",
       "2        -214  "
      ]
     },
     "execution_count": 7,
     "metadata": {},
     "output_type": "execute_result"
    }
   ],
   "source": [
    "df_joined_with_avg = df_weekly_joined.join(df_wk_avg, on='week_start_date', rsuffix='_week_AVG')\n",
    "\n",
    "# Create Calculated Column: Difference from WAVG\n",
    "df_joined_with_avg['Avg_Offset'] = df_joined_with_avg['count'] - df_joined_with_avg.count_week_AVG.apply(lambda x: int(x))\n",
    "df_joined_with_avg.head(3)"
   ]
  },
  {
   "cell_type": "markdown",
   "metadata": {},
   "source": [
    "### Encode non-numeric Dimentions"
   ]
  },
  {
   "cell_type": "code",
   "execution_count": 8,
   "metadata": {},
   "outputs": [
    {
     "data": {
      "text/html": [
       "<div>\n",
       "<style scoped>\n",
       "    .dataframe tbody tr th:only-of-type {\n",
       "        vertical-align: middle;\n",
       "    }\n",
       "\n",
       "    .dataframe tbody tr th {\n",
       "        vertical-align: top;\n",
       "    }\n",
       "\n",
       "    .dataframe thead th {\n",
       "        text-align: right;\n",
       "    }\n",
       "</style>\n",
       "<table border=\"1\" class=\"dataframe\">\n",
       "  <thead>\n",
       "    <tr style=\"text-align: right;\">\n",
       "      <th></th>\n",
       "      <th>week_start_date</th>\n",
       "      <th>video_id</th>\n",
       "      <th>count</th>\n",
       "      <th>video_length</th>\n",
       "      <th>video_upload_date</th>\n",
       "      <th>video_quality</th>\n",
       "      <th>days_from_upload</th>\n",
       "      <th>count_week_AVG</th>\n",
       "      <th>Avg_Offset</th>\n",
       "      <th>video_language_chineese</th>\n",
       "      <th>video_language_english</th>\n",
       "      <th>video_language_spanish</th>\n",
       "    </tr>\n",
       "  </thead>\n",
       "  <tbody>\n",
       "    <tr>\n",
       "      <th>0</th>\n",
       "      <td>2017-09-03</td>\n",
       "      <td>13</td>\n",
       "      <td>736</td>\n",
       "      <td>18</td>\n",
       "      <td>2017-03-09</td>\n",
       "      <td>720</td>\n",
       "      <td>178</td>\n",
       "      <td>391.625</td>\n",
       "      <td>345</td>\n",
       "      <td>0</td>\n",
       "      <td>1</td>\n",
       "      <td>0</td>\n",
       "    </tr>\n",
       "    <tr>\n",
       "      <th>1</th>\n",
       "      <td>2017-09-03</td>\n",
       "      <td>16</td>\n",
       "      <td>260</td>\n",
       "      <td>24</td>\n",
       "      <td>2017-08-09</td>\n",
       "      <td>1080</td>\n",
       "      <td>25</td>\n",
       "      <td>391.625</td>\n",
       "      <td>-131</td>\n",
       "      <td>0</td>\n",
       "      <td>0</td>\n",
       "      <td>1</td>\n",
       "    </tr>\n",
       "    <tr>\n",
       "      <th>2</th>\n",
       "      <td>2017-09-03</td>\n",
       "      <td>32</td>\n",
       "      <td>177</td>\n",
       "      <td>29</td>\n",
       "      <td>2017-07-09</td>\n",
       "      <td>240</td>\n",
       "      <td>56</td>\n",
       "      <td>391.625</td>\n",
       "      <td>-214</td>\n",
       "      <td>0</td>\n",
       "      <td>1</td>\n",
       "      <td>0</td>\n",
       "    </tr>\n",
       "  </tbody>\n",
       "</table>\n",
       "</div>"
      ],
      "text/plain": [
       "  week_start_date  video_id  count  video_length video_upload_date  \\\n",
       "0      2017-09-03        13    736            18        2017-03-09   \n",
       "1      2017-09-03        16    260            24        2017-08-09   \n",
       "2      2017-09-03        32    177            29        2017-07-09   \n",
       "\n",
       "   video_quality  days_from_upload  count_week_AVG  Avg_Offset  \\\n",
       "0            720               178         391.625         345   \n",
       "1           1080                25         391.625        -131   \n",
       "2            240                56         391.625        -214   \n",
       "\n",
       "   video_language_chineese  video_language_english  video_language_spanish  \n",
       "0                        0                       1                       0  \n",
       "1                        0                       0                       1  \n",
       "2                        0                       1                       0  "
      ]
     },
     "execution_count": 8,
     "metadata": {},
     "output_type": "execute_result"
    }
   ],
   "source": [
    "encode = ['video_language']\n",
    "\n",
    "df_with_dummies = df_joined_with_avg\n",
    "dum_cols = []\n",
    "for col in encode:\n",
    "    dummy = pd.get_dummies(df_joined_with_avg[col], prefix=col)\n",
    "    dum_cols += list(dummy.columns)\n",
    "    df_with_dummies = pd.concat([df_with_dummies,dummy], axis=1)\n",
    "    del df_with_dummies[col]\n",
    "\n",
    "df_joined_with_avg.to_excel(path_folder+'df before class.xlsx', index=False)\n",
    "df_with_dummies.head(3)\n"
   ]
  },
  {
   "cell_type": "markdown",
   "metadata": {},
   "source": [
    "### Determine Prediction Target Dim and Features Dims"
   ]
  },
  {
   "cell_type": "code",
   "execution_count": 33,
   "metadata": {},
   "outputs": [
    {
     "ename": "KeyError",
     "evalue": "'CLASS'",
     "output_type": "error",
     "traceback": [
      "\u001b[1;31m---------------------------------------------------------------------------\u001b[0m",
      "\u001b[1;31mKeyError\u001b[0m                                  Traceback (most recent call last)",
      "\u001b[1;32m~\\Anaconda3\\lib\\site-packages\\pandas\\core\\indexes\\base.py\u001b[0m in \u001b[0;36mget_loc\u001b[1;34m(self, key, method, tolerance)\u001b[0m\n\u001b[0;32m   2645\u001b[0m             \u001b[1;32mtry\u001b[0m\u001b[1;33m:\u001b[0m\u001b[1;33m\u001b[0m\u001b[1;33m\u001b[0m\u001b[0m\n\u001b[1;32m-> 2646\u001b[1;33m                 \u001b[1;32mreturn\u001b[0m \u001b[0mself\u001b[0m\u001b[1;33m.\u001b[0m\u001b[0m_engine\u001b[0m\u001b[1;33m.\u001b[0m\u001b[0mget_loc\u001b[0m\u001b[1;33m(\u001b[0m\u001b[0mkey\u001b[0m\u001b[1;33m)\u001b[0m\u001b[1;33m\u001b[0m\u001b[1;33m\u001b[0m\u001b[0m\n\u001b[0m\u001b[0;32m   2647\u001b[0m             \u001b[1;32mexcept\u001b[0m \u001b[0mKeyError\u001b[0m\u001b[1;33m:\u001b[0m\u001b[1;33m\u001b[0m\u001b[1;33m\u001b[0m\u001b[0m\n",
      "\u001b[1;32mpandas\\_libs\\index.pyx\u001b[0m in \u001b[0;36mpandas._libs.index.IndexEngine.get_loc\u001b[1;34m()\u001b[0m\n",
      "\u001b[1;32mpandas\\_libs\\index.pyx\u001b[0m in \u001b[0;36mpandas._libs.index.IndexEngine.get_loc\u001b[1;34m()\u001b[0m\n",
      "\u001b[1;32mpandas\\_libs\\hashtable_class_helper.pxi\u001b[0m in \u001b[0;36mpandas._libs.hashtable.PyObjectHashTable.get_item\u001b[1;34m()\u001b[0m\n",
      "\u001b[1;32mpandas\\_libs\\hashtable_class_helper.pxi\u001b[0m in \u001b[0;36mpandas._libs.hashtable.PyObjectHashTable.get_item\u001b[1;34m()\u001b[0m\n",
      "\u001b[1;31mKeyError\u001b[0m: 'CLASS'",
      "\nDuring handling of the above exception, another exception occurred:\n",
      "\u001b[1;31mKeyError\u001b[0m                                  Traceback (most recent call last)",
      "\u001b[1;32m<ipython-input-33-af89dd42d5ff>\u001b[0m in \u001b[0;36m<module>\u001b[1;34m\u001b[0m\n\u001b[0;32m      1\u001b[0m \u001b[0mtarget_col_name\u001b[0m \u001b[1;33m=\u001b[0m \u001b[1;34m'CLASS'\u001b[0m\u001b[1;33m\u001b[0m\u001b[1;33m\u001b[0m\u001b[0m\n\u001b[0;32m      2\u001b[0m \u001b[0mcols\u001b[0m \u001b[1;33m=\u001b[0m \u001b[1;33m[\u001b[0m\u001b[1;34m'video_length'\u001b[0m\u001b[1;33m,\u001b[0m \u001b[1;34m'video_quality'\u001b[0m\u001b[1;33m,\u001b[0m \u001b[1;34m'days_from_upload'\u001b[0m\u001b[1;33m,\u001b[0m \u001b[1;34m'Avg_Offset'\u001b[0m\u001b[1;33m]\u001b[0m \u001b[1;33m+\u001b[0m \u001b[0mdum_cols\u001b[0m\u001b[1;33m\u001b[0m\u001b[1;33m\u001b[0m\u001b[0m\n\u001b[1;32m----> 3\u001b[1;33m \u001b[0mdf_test\u001b[0m \u001b[1;33m=\u001b[0m \u001b[0mdf_with_dummies\u001b[0m\u001b[1;33m[\u001b[0m\u001b[0mdf_with_dummies\u001b[0m\u001b[1;33m[\u001b[0m\u001b[1;34m'CLASS'\u001b[0m\u001b[1;33m]\u001b[0m \u001b[1;33m>\u001b[0m \u001b[1;33m-\u001b[0m\u001b[1;36m2\u001b[0m\u001b[1;33m]\u001b[0m\u001b[1;33m[\u001b[0m\u001b[0mcols\u001b[0m \u001b[1;33m+\u001b[0m \u001b[1;33m[\u001b[0m\u001b[0mtarget_col_name\u001b[0m\u001b[1;33m]\u001b[0m\u001b[1;33m]\u001b[0m\u001b[1;33m\u001b[0m\u001b[1;33m\u001b[0m\u001b[0m\n\u001b[0m\u001b[0;32m      4\u001b[0m \u001b[0mdf_test\u001b[0m\u001b[1;33m.\u001b[0m\u001b[0mhead\u001b[0m\u001b[1;33m(\u001b[0m\u001b[1;33m)\u001b[0m\u001b[1;33m\u001b[0m\u001b[1;33m\u001b[0m\u001b[0m\n",
      "\u001b[1;32m~\\Anaconda3\\lib\\site-packages\\pandas\\core\\frame.py\u001b[0m in \u001b[0;36m__getitem__\u001b[1;34m(self, key)\u001b[0m\n\u001b[0;32m   2798\u001b[0m             \u001b[1;32mif\u001b[0m \u001b[0mself\u001b[0m\u001b[1;33m.\u001b[0m\u001b[0mcolumns\u001b[0m\u001b[1;33m.\u001b[0m\u001b[0mnlevels\u001b[0m \u001b[1;33m>\u001b[0m \u001b[1;36m1\u001b[0m\u001b[1;33m:\u001b[0m\u001b[1;33m\u001b[0m\u001b[1;33m\u001b[0m\u001b[0m\n\u001b[0;32m   2799\u001b[0m                 \u001b[1;32mreturn\u001b[0m \u001b[0mself\u001b[0m\u001b[1;33m.\u001b[0m\u001b[0m_getitem_multilevel\u001b[0m\u001b[1;33m(\u001b[0m\u001b[0mkey\u001b[0m\u001b[1;33m)\u001b[0m\u001b[1;33m\u001b[0m\u001b[1;33m\u001b[0m\u001b[0m\n\u001b[1;32m-> 2800\u001b[1;33m             \u001b[0mindexer\u001b[0m \u001b[1;33m=\u001b[0m \u001b[0mself\u001b[0m\u001b[1;33m.\u001b[0m\u001b[0mcolumns\u001b[0m\u001b[1;33m.\u001b[0m\u001b[0mget_loc\u001b[0m\u001b[1;33m(\u001b[0m\u001b[0mkey\u001b[0m\u001b[1;33m)\u001b[0m\u001b[1;33m\u001b[0m\u001b[1;33m\u001b[0m\u001b[0m\n\u001b[0m\u001b[0;32m   2801\u001b[0m             \u001b[1;32mif\u001b[0m \u001b[0mis_integer\u001b[0m\u001b[1;33m(\u001b[0m\u001b[0mindexer\u001b[0m\u001b[1;33m)\u001b[0m\u001b[1;33m:\u001b[0m\u001b[1;33m\u001b[0m\u001b[1;33m\u001b[0m\u001b[0m\n\u001b[0;32m   2802\u001b[0m                 \u001b[0mindexer\u001b[0m \u001b[1;33m=\u001b[0m \u001b[1;33m[\u001b[0m\u001b[0mindexer\u001b[0m\u001b[1;33m]\u001b[0m\u001b[1;33m\u001b[0m\u001b[1;33m\u001b[0m\u001b[0m\n",
      "\u001b[1;32m~\\Anaconda3\\lib\\site-packages\\pandas\\core\\indexes\\base.py\u001b[0m in \u001b[0;36mget_loc\u001b[1;34m(self, key, method, tolerance)\u001b[0m\n\u001b[0;32m   2646\u001b[0m                 \u001b[1;32mreturn\u001b[0m \u001b[0mself\u001b[0m\u001b[1;33m.\u001b[0m\u001b[0m_engine\u001b[0m\u001b[1;33m.\u001b[0m\u001b[0mget_loc\u001b[0m\u001b[1;33m(\u001b[0m\u001b[0mkey\u001b[0m\u001b[1;33m)\u001b[0m\u001b[1;33m\u001b[0m\u001b[1;33m\u001b[0m\u001b[0m\n\u001b[0;32m   2647\u001b[0m             \u001b[1;32mexcept\u001b[0m \u001b[0mKeyError\u001b[0m\u001b[1;33m:\u001b[0m\u001b[1;33m\u001b[0m\u001b[1;33m\u001b[0m\u001b[0m\n\u001b[1;32m-> 2648\u001b[1;33m                 \u001b[1;32mreturn\u001b[0m \u001b[0mself\u001b[0m\u001b[1;33m.\u001b[0m\u001b[0m_engine\u001b[0m\u001b[1;33m.\u001b[0m\u001b[0mget_loc\u001b[0m\u001b[1;33m(\u001b[0m\u001b[0mself\u001b[0m\u001b[1;33m.\u001b[0m\u001b[0m_maybe_cast_indexer\u001b[0m\u001b[1;33m(\u001b[0m\u001b[0mkey\u001b[0m\u001b[1;33m)\u001b[0m\u001b[1;33m)\u001b[0m\u001b[1;33m\u001b[0m\u001b[1;33m\u001b[0m\u001b[0m\n\u001b[0m\u001b[0;32m   2649\u001b[0m         \u001b[0mindexer\u001b[0m \u001b[1;33m=\u001b[0m \u001b[0mself\u001b[0m\u001b[1;33m.\u001b[0m\u001b[0mget_indexer\u001b[0m\u001b[1;33m(\u001b[0m\u001b[1;33m[\u001b[0m\u001b[0mkey\u001b[0m\u001b[1;33m]\u001b[0m\u001b[1;33m,\u001b[0m \u001b[0mmethod\u001b[0m\u001b[1;33m=\u001b[0m\u001b[0mmethod\u001b[0m\u001b[1;33m,\u001b[0m \u001b[0mtolerance\u001b[0m\u001b[1;33m=\u001b[0m\u001b[0mtolerance\u001b[0m\u001b[1;33m)\u001b[0m\u001b[1;33m\u001b[0m\u001b[1;33m\u001b[0m\u001b[0m\n\u001b[0;32m   2650\u001b[0m         \u001b[1;32mif\u001b[0m \u001b[0mindexer\u001b[0m\u001b[1;33m.\u001b[0m\u001b[0mndim\u001b[0m \u001b[1;33m>\u001b[0m \u001b[1;36m1\u001b[0m \u001b[1;32mor\u001b[0m \u001b[0mindexer\u001b[0m\u001b[1;33m.\u001b[0m\u001b[0msize\u001b[0m \u001b[1;33m>\u001b[0m \u001b[1;36m1\u001b[0m\u001b[1;33m:\u001b[0m\u001b[1;33m\u001b[0m\u001b[1;33m\u001b[0m\u001b[0m\n",
      "\u001b[1;32mpandas\\_libs\\index.pyx\u001b[0m in \u001b[0;36mpandas._libs.index.IndexEngine.get_loc\u001b[1;34m()\u001b[0m\n",
      "\u001b[1;32mpandas\\_libs\\index.pyx\u001b[0m in \u001b[0;36mpandas._libs.index.IndexEngine.get_loc\u001b[1;34m()\u001b[0m\n",
      "\u001b[1;32mpandas\\_libs\\hashtable_class_helper.pxi\u001b[0m in \u001b[0;36mpandas._libs.hashtable.PyObjectHashTable.get_item\u001b[1;34m()\u001b[0m\n",
      "\u001b[1;32mpandas\\_libs\\hashtable_class_helper.pxi\u001b[0m in \u001b[0;36mpandas._libs.hashtable.PyObjectHashTable.get_item\u001b[1;34m()\u001b[0m\n",
      "\u001b[1;31mKeyError\u001b[0m: 'CLASS'"
     ]
    }
   ],
   "source": [
    "target_col_name = 'CLASS'    \n",
    "cols = ['video_length', 'video_quality', 'days_from_upload', 'Avg_Offset'] + dum_cols\n",
    "df_test = df_with_dummies[df_with_dummies['CLASS'] > -2][cols + [target_col_name]]\n",
    "df_test.head()"
   ]
  },
  {
   "cell_type": "markdown",
   "metadata": {},
   "source": [
    "### Display distribution of DF Dimentions by Boxplots"
   ]
  },
  {
   "cell_type": "code",
   "execution_count": 22,
   "metadata": {},
   "outputs": [
    {
     "data": {
      "image/png": "[encoded data removed]",
      "text/plain": [
       "<Figure size 1080x504 with 8 Axes>"
      ]
     },
     "metadata": {
      "needs_background": "light"
     },
     "output_type": "display_data"
    }
   ],
   "source": [
    "\n",
    "df_with_dummies[cols].drop(columns=dum_cols).plot(kind='box', subplots=True, layout=(2,4), sharex=False, sharey=False, figsize=(15,7))\n",
    "plt.show()"
   ]
  },
  {
   "cell_type": "markdown",
   "metadata": {},
   "source": [
    "### Split dataset to train and validation"
   ]
  },
  {
   "cell_type": "code",
   "execution_count": 23,
   "metadata": {},
   "outputs": [
    {
     "name": "stdout",
     "output_type": "stream",
     "text": [
      "Train size      : 3000\n",
      "Validation size : 1000\n",
      "[ 26 240  58 -46   0   0   1]\n"
     ]
    }
   ],
   "source": [
    "X = df_test.drop(columns=target_col_name).values\n",
    "y = df_test[target_col_name].values\n",
    "X_train, X_validation, Y_train, Y_validation = train_test_split(X, y, test_size=0.25, random_state=1)\n",
    "print('Train size      :', len(X_train))\n",
    "print('Validation size :', len(X_validation))\n",
    "print(X_train[1])"
   ]
  },
  {
   "cell_type": "markdown",
   "metadata": {},
   "source": [
    "### Fit into Random Forest Model"
   ]
  },
  {
   "cell_type": "code",
   "execution_count": 24,
   "metadata": {},
   "outputs": [
    {
     "name": "stdout",
     "output_type": "stream",
     "text": [
      "Model's Accuracy Score: 0.992\n"
     ]
    }
   ],
   "source": [
    "clf = RandomForestClassifier(n_estimators=15)\n",
    "clf.fit(X_train, Y_train)\n",
    "Y_pred = clf.predict(X_validation)\n",
    "\n",
    "# Test the model's accuracy\n",
    "score = accuracy_score(Y_validation, Y_pred)\n",
    "print(\"Model's Accuracy Score:\", score)"
   ]
  },
  {
   "cell_type": "markdown",
   "metadata": {},
   "source": [
    "### Display Model's Accuracy as a Matrix"
   ]
  },
  {
   "cell_type": "code",
   "execution_count": 25,
   "metadata": {},
   "outputs": [
    {
     "data": {
      "text/plain": [
       "array([[522,   3,   0],\n",
       "       [  5, 243,   0],\n",
       "       [  0,   0, 227]], dtype=int64)"
      ]
     },
     "execution_count": 25,
     "metadata": {},
     "output_type": "execute_result"
    }
   ],
   "source": [
    "lbls = list(df_test[target_col_name].unique())\n",
    "cm = confusion_matrix(Y_validation, Y_pred, labels=lbls)\n",
    "cm"
   ]
  },
  {
   "cell_type": "code",
   "execution_count": 26,
   "metadata": {},
   "outputs": [
    {
     "data": {
      "image/png": "[encoded data removed]",
      "text/plain": [
       "<Figure size 720x504 with 2 Axes>"
      ]
     },
     "metadata": {
      "needs_background": "light"
     },
     "output_type": "display_data"
    }
   ],
   "source": [
    "%matplotlib inline\n",
    "plt.figure(figsize=(10, 7))\n",
    "sb.heatmap(cm, annot=True, fmt='g', annot_kws={\"fontsize\":18}, xticklabels=lbls, yticklabels=lbls)\n",
    "plt.xlabel('Prediction', size=15)\n",
    "plt.ylabel('Test Value', size=15)\n",
    "plt.show()"
   ]
  },
  {
   "cell_type": "code",
   "execution_count": null,
   "metadata": {},
   "outputs": [],
   "source": []
  }
 ],
 "metadata": {
  "kernelspec": {
   "display_name": "Python 3",
   "language": "python",
   "name": "python3"
  },
  "language_info": {
   "codemirror_mode": {
    "name": "ipython",
    "version": 3
   },
   "file_extension": ".py",
   "mimetype": "text/x-python",
   "name": "python",
   "nbconvert_exporter": "python",
   "pygments_lexer": "ipython3",
   "version": "3.8.3"
  }
 },
 "nbformat": 4,
 "nbformat_minor": 4
}
