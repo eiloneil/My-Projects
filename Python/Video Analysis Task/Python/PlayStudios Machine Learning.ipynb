{
 "cells": [
  {
   "cell_type": "code",
   "execution_count": null,
   "metadata": {},
   "outputs": [],
   "source": []
  },
  {
   "cell_type": "code",
   "execution_count": 1,
   "metadata": {},
   "outputs": [
    {
     "name": "stdout",
     "output_type": "stream",
     "text": [
      "Python: 3.8.3 (default, Jul  2 2020, 17:30:36) [MSC v.1916 64 bit (AMD64)]\n",
      "scipy: 1.5.0\n",
      "numpy: 1.18.5\n",
      "matplotlib: 3.2.2\n",
      "pandas: 1.0.5\n",
      "sklearn: 0.23.1\n"
     ]
    }
   ],
   "source": [
    "\n",
    "# Check the versions of libraries\n",
    " \n",
    "# Python version\n",
    "import sys\n",
    "print('Python: {}'.format(sys.version))\n",
    "# scipy\n",
    "import scipy\n",
    "print('scipy: {}'.format(scipy.__version__))\n",
    "# numpy\n",
    "import numpy\n",
    "print('numpy: {}'.format(numpy.__version__))\n",
    "# matplotlib\n",
    "import matplotlib\n",
    "print('matplotlib: {}'.format(matplotlib.__version__))\n",
    "# pandas\n",
    "import pandas as pd\n",
    "print('pandas: {}'.format(pandas.__version__))\n",
    "# scikit-learn\n",
    "import sklearn\n",
    "print('sklearn: {}'.format(sklearn.__version__))"
   ]
  },
  {
   "cell_type": "code",
   "execution_count": null,
   "metadata": {},
   "outputs": [],
   "source": [
    "# Load libraries\n",
    "from pandas.plotting import scatter_matrix\n",
    "from matplotlib import pyplot\n",
    "from sklearn.model_selection import train_test_split\n",
    "from sklearn.model_selection import cross_val_score\n",
    "from sklearn.model_selection import StratifiedKFold\n",
    "from sklearn.metrics import classification_report\n",
    "from sklearn.metrics import confusion_matrix\n",
    "from sklearn.metrics import accuracy_score\n",
    "from sklearn.linear_model import LogisticRegression\n",
    "from sklearn.tree import DecisionTreeClassifier\n",
    "from sklearn.neighbors import KNeighborsClassifier\n",
    "from sklearn.discriminant_analysis import LinearDiscriminantAnalysis\n",
    "from sklearn.naive_bayes import GaussianNB\n",
    "from sklearn.svm import SVC"
   ]
  },
  {
   "cell_type": "code",
   "execution_count": 327,
   "metadata": {},
   "outputs": [
    {
     "data": {
      "text/html": [
       "<div>\n",
       "<style scoped>\n",
       "    .dataframe tbody tr th:only-of-type {\n",
       "        vertical-align: middle;\n",
       "    }\n",
       "\n",
       "    .dataframe tbody tr th {\n",
       "        vertical-align: top;\n",
       "    }\n",
       "\n",
       "    .dataframe thead th {\n",
       "        text-align: right;\n",
       "    }\n",
       "</style>\n",
       "<table border=\"1\" class=\"dataframe\">\n",
       "  <thead>\n",
       "    <tr style=\"text-align: right;\">\n",
       "      <th></th>\n",
       "      <th>video_id</th>\n",
       "      <th>video_length</th>\n",
       "      <th>video_language</th>\n",
       "      <th>video_upload_date</th>\n",
       "      <th>video_quality</th>\n",
       "    </tr>\n",
       "  </thead>\n",
       "  <tbody>\n",
       "    <tr>\n",
       "      <th>69</th>\n",
       "      <td>70</td>\n",
       "      <td>18</td>\n",
       "      <td>english</td>\n",
       "      <td>03/09/2017</td>\n",
       "      <td>480</td>\n",
       "    </tr>\n",
       "  </tbody>\n",
       "</table>\n",
       "</div>"
      ],
      "text/plain": [
       "    video_id  video_length video_language video_upload_date video_quality\n",
       "69        70            18        english        03/09/2017           480"
      ]
     },
     "execution_count": 327,
     "metadata": {},
     "output_type": "execute_result"
    }
   ],
   "source": [
    "path_folder = r\"C:\\Users\\eilon.eilstein\\Desktop\\Eilon\\SQL\\PlayStudios_Home_Task\\Data\\\\\"\n",
    "\n",
    "df_vc = pd.read_csv(path_folder+'video_count.csv')#.set_index('video_id')\n",
    "df_vf = pd.read_csv(path_folder+'video_features.csv')#.set_index('video_id')\n",
    "df_vf['video_quality'] = df_vf['video_quality'].apply(lambda x: x[:-1])\n",
    "\n",
    "df_vf[df_vf.video_id == 70]"
   ]
  },
  {
   "cell_type": "code",
   "execution_count": 328,
   "metadata": {},
   "outputs": [
    {
     "data": {
      "text/html": [
       "<div>\n",
       "<style scoped>\n",
       "    .dataframe tbody tr th:only-of-type {\n",
       "        vertical-align: middle;\n",
       "    }\n",
       "\n",
       "    .dataframe tbody tr th {\n",
       "        vertical-align: top;\n",
       "    }\n",
       "\n",
       "    .dataframe thead th {\n",
       "        text-align: right;\n",
       "    }\n",
       "</style>\n",
       "<table border=\"1\" class=\"dataframe\">\n",
       "  <thead>\n",
       "    <tr style=\"text-align: right;\">\n",
       "      <th></th>\n",
       "      <th>video_id</th>\n",
       "      <th>date</th>\n",
       "      <th>count</th>\n",
       "      <th>CLASS</th>\n",
       "      <th>video_length</th>\n",
       "      <th>video_language</th>\n",
       "      <th>video_upload_date</th>\n",
       "      <th>video_quality</th>\n",
       "      <th>week_start_date</th>\n",
       "      <th>days_from_upload</th>\n",
       "    </tr>\n",
       "  </thead>\n",
       "  <tbody>\n",
       "    <tr>\n",
       "      <th>2956</th>\n",
       "      <td>70</td>\n",
       "      <td>2017-12-28</td>\n",
       "      <td>51</td>\n",
       "      <td>NaN</td>\n",
       "      <td>18</td>\n",
       "      <td>english</td>\n",
       "      <td>2017-03-09</td>\n",
       "      <td>480</td>\n",
       "      <td>2017-12-24</td>\n",
       "      <td>294.0</td>\n",
       "    </tr>\n",
       "    <tr>\n",
       "      <th>3185</th>\n",
       "      <td>70</td>\n",
       "      <td>2018-01-01</td>\n",
       "      <td>52</td>\n",
       "      <td>NaN</td>\n",
       "      <td>18</td>\n",
       "      <td>english</td>\n",
       "      <td>2017-03-09</td>\n",
       "      <td>480</td>\n",
       "      <td>2017-12-31</td>\n",
       "      <td>298.0</td>\n",
       "    </tr>\n",
       "    <tr>\n",
       "      <th>3433</th>\n",
       "      <td>70</td>\n",
       "      <td>2017-12-18</td>\n",
       "      <td>54</td>\n",
       "      <td>NaN</td>\n",
       "      <td>18</td>\n",
       "      <td>english</td>\n",
       "      <td>2017-03-09</td>\n",
       "      <td>480</td>\n",
       "      <td>2017-12-17</td>\n",
       "      <td>284.0</td>\n",
       "    </tr>\n",
       "    <tr>\n",
       "      <th>3761</th>\n",
       "      <td>70</td>\n",
       "      <td>2017-12-07</td>\n",
       "      <td>57</td>\n",
       "      <td>NaN</td>\n",
       "      <td>18</td>\n",
       "      <td>english</td>\n",
       "      <td>2017-03-09</td>\n",
       "      <td>480</td>\n",
       "      <td>2017-12-03</td>\n",
       "      <td>273.0</td>\n",
       "    </tr>\n",
       "    <tr>\n",
       "      <th>4288</th>\n",
       "      <td>70</td>\n",
       "      <td>2017-12-22</td>\n",
       "      <td>61</td>\n",
       "      <td>NaN</td>\n",
       "      <td>18</td>\n",
       "      <td>english</td>\n",
       "      <td>2017-03-09</td>\n",
       "      <td>480</td>\n",
       "      <td>2017-12-17</td>\n",
       "      <td>288.0</td>\n",
       "    </tr>\n",
       "    <tr>\n",
       "      <th>...</th>\n",
       "      <td>...</td>\n",
       "      <td>...</td>\n",
       "      <td>...</td>\n",
       "      <td>...</td>\n",
       "      <td>...</td>\n",
       "      <td>...</td>\n",
       "      <td>...</td>\n",
       "      <td>...</td>\n",
       "      <td>...</td>\n",
       "      <td>...</td>\n",
       "    </tr>\n",
       "    <tr>\n",
       "      <th>11401</th>\n",
       "      <td>70</td>\n",
       "      <td>2017-09-04</td>\n",
       "      <td>138</td>\n",
       "      <td>NaN</td>\n",
       "      <td>18</td>\n",
       "      <td>english</td>\n",
       "      <td>2017-03-09</td>\n",
       "      <td>480</td>\n",
       "      <td>2017-09-03</td>\n",
       "      <td>179.0</td>\n",
       "    </tr>\n",
       "    <tr>\n",
       "      <th>11568</th>\n",
       "      <td>70</td>\n",
       "      <td>2017-09-14</td>\n",
       "      <td>145</td>\n",
       "      <td>1.0</td>\n",
       "      <td>18</td>\n",
       "      <td>english</td>\n",
       "      <td>2017-03-09</td>\n",
       "      <td>480</td>\n",
       "      <td>2017-09-10</td>\n",
       "      <td>189.0</td>\n",
       "    </tr>\n",
       "    <tr>\n",
       "      <th>11569</th>\n",
       "      <td>70</td>\n",
       "      <td>2017-09-24</td>\n",
       "      <td>145</td>\n",
       "      <td>1.0</td>\n",
       "      <td>18</td>\n",
       "      <td>english</td>\n",
       "      <td>2017-03-09</td>\n",
       "      <td>480</td>\n",
       "      <td>2017-09-24</td>\n",
       "      <td>199.0</td>\n",
       "    </tr>\n",
       "    <tr>\n",
       "      <th>11633</th>\n",
       "      <td>70</td>\n",
       "      <td>2017-09-07</td>\n",
       "      <td>148</td>\n",
       "      <td>1.0</td>\n",
       "      <td>18</td>\n",
       "      <td>english</td>\n",
       "      <td>2017-03-09</td>\n",
       "      <td>480</td>\n",
       "      <td>2017-09-03</td>\n",
       "      <td>182.0</td>\n",
       "    </tr>\n",
       "    <tr>\n",
       "      <th>11757</th>\n",
       "      <td>70</td>\n",
       "      <td>2017-09-06</td>\n",
       "      <td>158</td>\n",
       "      <td>1.0</td>\n",
       "      <td>18</td>\n",
       "      <td>english</td>\n",
       "      <td>2017-03-09</td>\n",
       "      <td>480</td>\n",
       "      <td>2017-09-03</td>\n",
       "      <td>181.0</td>\n",
       "    </tr>\n",
       "  </tbody>\n",
       "</table>\n",
       "<p>119 rows × 10 columns</p>\n",
       "</div>"
      ],
      "text/plain": [
       "       video_id       date  count  CLASS  video_length video_language  \\\n",
       "2956         70 2017-12-28     51    NaN            18        english   \n",
       "3185         70 2018-01-01     52    NaN            18        english   \n",
       "3433         70 2017-12-18     54    NaN            18        english   \n",
       "3761         70 2017-12-07     57    NaN            18        english   \n",
       "4288         70 2017-12-22     61    NaN            18        english   \n",
       "...         ...        ...    ...    ...           ...            ...   \n",
       "11401        70 2017-09-04    138    NaN            18        english   \n",
       "11568        70 2017-09-14    145    1.0            18        english   \n",
       "11569        70 2017-09-24    145    1.0            18        english   \n",
       "11633        70 2017-09-07    148    1.0            18        english   \n",
       "11757        70 2017-09-06    158    1.0            18        english   \n",
       "\n",
       "      video_upload_date video_quality week_start_date  days_from_upload  \n",
       "2956         2017-03-09           480      2017-12-24             294.0  \n",
       "3185         2017-03-09           480      2017-12-31             298.0  \n",
       "3433         2017-03-09           480      2017-12-17             284.0  \n",
       "3761         2017-03-09           480      2017-12-03             273.0  \n",
       "4288         2017-03-09           480      2017-12-17             288.0  \n",
       "...                 ...           ...             ...               ...  \n",
       "11401        2017-03-09           480      2017-09-03             179.0  \n",
       "11568        2017-03-09           480      2017-09-10             189.0  \n",
       "11569        2017-03-09           480      2017-09-24             199.0  \n",
       "11633        2017-03-09           480      2017-09-03             182.0  \n",
       "11757        2017-03-09           480      2017-09-03             181.0  \n",
       "\n",
       "[119 rows x 10 columns]"
      ]
     },
     "execution_count": 328,
     "metadata": {},
     "output_type": "execute_result"
    }
   ],
   "source": [
    "import datetime as dt\n",
    "\n",
    "\n",
    "\n",
    "df_joined = df_vc.merge(df_vf, left_on='video_id', right_on='video_id', how='left')#.drop(columns=['video_id_FEAT'])\n",
    "df_joined['date'] = pd.to_datetime(df_joined.date, format='%d/%m/%Y')\n",
    "df_joined['week_start_date'] = df_joined.date - pd.to_timedelta((df_joined['date'].dt.dayofweek + 1) % 7, unit='d')\n",
    "df_joined['video_upload_date'] = pd.to_datetime(df_joined.video_upload_date)\n",
    "df_joined['days_from_upload'] = df_joined.date - df_joined.video_upload_date\n",
    "df_joined['days_from_upload'] = df_joined['days_from_upload'].apply(lambda x: float(x.days))\n",
    "df_joined.sort_values('date')\n",
    "# df_joined.dtypes\n",
    "df_joined[df_joined.video_id == 70]"
   ]
  },
  {
   "cell_type": "code",
   "execution_count": 329,
   "metadata": {},
   "outputs": [
    {
     "data": {
      "text/plain": [
       "week_start_date\n",
       "2017-09-03    101.064516\n",
       "2017-09-10    100.981982\n",
       "2017-09-17    101.383886\n",
       "2017-09-24    100.910596\n",
       "2017-10-01     94.012788\n",
       "2017-10-08     93.652439\n",
       "Name: count, dtype: float64"
      ]
     },
     "execution_count": 329,
     "metadata": {},
     "output_type": "execute_result"
    }
   ],
   "source": [
    "df_wk_avg = df_joined[['week_start_date', 'count']].groupby('week_start_date')['count'].mean()\n",
    "df_wk_avg.head(6)"
   ]
  },
  {
   "cell_type": "code",
   "execution_count": 330,
   "metadata": {},
   "outputs": [
    {
     "data": {
      "text/html": [
       "<div>\n",
       "<style scoped>\n",
       "    .dataframe tbody tr th:only-of-type {\n",
       "        vertical-align: middle;\n",
       "    }\n",
       "\n",
       "    .dataframe tbody tr th {\n",
       "        vertical-align: top;\n",
       "    }\n",
       "\n",
       "    .dataframe thead th {\n",
       "        text-align: right;\n",
       "    }\n",
       "</style>\n",
       "<table border=\"1\" class=\"dataframe\">\n",
       "  <thead>\n",
       "    <tr style=\"text-align: right;\">\n",
       "      <th></th>\n",
       "      <th>video_id</th>\n",
       "      <th>date</th>\n",
       "      <th>count</th>\n",
       "      <th>CLASS</th>\n",
       "      <th>video_length</th>\n",
       "      <th>video_language</th>\n",
       "      <th>video_upload_date</th>\n",
       "      <th>video_quality</th>\n",
       "      <th>week_start_date</th>\n",
       "      <th>days_from_upload</th>\n",
       "      <th>count_week_AVG</th>\n",
       "      <th>Avg_Offset</th>\n",
       "    </tr>\n",
       "  </thead>\n",
       "  <tbody>\n",
       "    <tr>\n",
       "      <th>6974</th>\n",
       "      <td>70</td>\n",
       "      <td>2017-09-03</td>\n",
       "      <td>80</td>\n",
       "      <td>NaN</td>\n",
       "      <td>18</td>\n",
       "      <td>english</td>\n",
       "      <td>2017-03-09</td>\n",
       "      <td>480</td>\n",
       "      <td>2017-09-03</td>\n",
       "      <td>178.0</td>\n",
       "      <td>101.064516</td>\n",
       "      <td>-21.064516</td>\n",
       "    </tr>\n",
       "    <tr>\n",
       "      <th>11345</th>\n",
       "      <td>16</td>\n",
       "      <td>2017-09-09</td>\n",
       "      <td>137</td>\n",
       "      <td>NaN</td>\n",
       "      <td>24</td>\n",
       "      <td>spanish</td>\n",
       "      <td>2017-08-09</td>\n",
       "      <td>1080</td>\n",
       "      <td>2017-09-03</td>\n",
       "      <td>31.0</td>\n",
       "      <td>101.064516</td>\n",
       "      <td>35.935484</td>\n",
       "    </tr>\n",
       "    <tr>\n",
       "      <th>10177</th>\n",
       "      <td>70</td>\n",
       "      <td>2017-09-05</td>\n",
       "      <td>112</td>\n",
       "      <td>NaN</td>\n",
       "      <td>18</td>\n",
       "      <td>english</td>\n",
       "      <td>2017-03-09</td>\n",
       "      <td>480</td>\n",
       "      <td>2017-09-03</td>\n",
       "      <td>180.0</td>\n",
       "      <td>101.064516</td>\n",
       "      <td>10.935484</td>\n",
       "    </tr>\n",
       "    <tr>\n",
       "      <th>2897</th>\n",
       "      <td>32</td>\n",
       "      <td>2017-09-08</td>\n",
       "      <td>50</td>\n",
       "      <td>NaN</td>\n",
       "      <td>29</td>\n",
       "      <td>english</td>\n",
       "      <td>2017-07-09</td>\n",
       "      <td>240</td>\n",
       "      <td>2017-09-03</td>\n",
       "      <td>61.0</td>\n",
       "      <td>101.064516</td>\n",
       "      <td>-51.064516</td>\n",
       "    </tr>\n",
       "    <tr>\n",
       "      <th>9627</th>\n",
       "      <td>73</td>\n",
       "      <td>2017-09-03</td>\n",
       "      <td>105</td>\n",
       "      <td>NaN</td>\n",
       "      <td>25</td>\n",
       "      <td>chineese</td>\n",
       "      <td>2017-03-09</td>\n",
       "      <td>480</td>\n",
       "      <td>2017-09-03</td>\n",
       "      <td>178.0</td>\n",
       "      <td>101.064516</td>\n",
       "      <td>3.935484</td>\n",
       "    </tr>\n",
       "    <tr>\n",
       "      <th>...</th>\n",
       "      <td>...</td>\n",
       "      <td>...</td>\n",
       "      <td>...</td>\n",
       "      <td>...</td>\n",
       "      <td>...</td>\n",
       "      <td>...</td>\n",
       "      <td>...</td>\n",
       "      <td>...</td>\n",
       "      <td>...</td>\n",
       "      <td>...</td>\n",
       "      <td>...</td>\n",
       "      <td>...</td>\n",
       "    </tr>\n",
       "    <tr>\n",
       "      <th>1702</th>\n",
       "      <td>36</td>\n",
       "      <td>2018-02-25</td>\n",
       "      <td>40</td>\n",
       "      <td>NaN</td>\n",
       "      <td>21</td>\n",
       "      <td>chineese</td>\n",
       "      <td>2017-10-30</td>\n",
       "      <td>480</td>\n",
       "      <td>2018-02-25</td>\n",
       "      <td>118.0</td>\n",
       "      <td>39.750000</td>\n",
       "      <td>0.250000</td>\n",
       "    </tr>\n",
       "    <tr>\n",
       "      <th>3189</th>\n",
       "      <td>23</td>\n",
       "      <td>2018-02-26</td>\n",
       "      <td>52</td>\n",
       "      <td>NaN</td>\n",
       "      <td>26</td>\n",
       "      <td>spanish</td>\n",
       "      <td>2017-10-29</td>\n",
       "      <td>720</td>\n",
       "      <td>2018-02-25</td>\n",
       "      <td>120.0</td>\n",
       "      <td>39.750000</td>\n",
       "      <td>12.250000</td>\n",
       "    </tr>\n",
       "    <tr>\n",
       "      <th>1152</th>\n",
       "      <td>92</td>\n",
       "      <td>2018-02-25</td>\n",
       "      <td>34</td>\n",
       "      <td>NaN</td>\n",
       "      <td>26</td>\n",
       "      <td>english</td>\n",
       "      <td>2017-10-30</td>\n",
       "      <td>240</td>\n",
       "      <td>2018-02-25</td>\n",
       "      <td>118.0</td>\n",
       "      <td>39.750000</td>\n",
       "      <td>-5.750000</td>\n",
       "    </tr>\n",
       "    <tr>\n",
       "      <th>878</th>\n",
       "      <td>92</td>\n",
       "      <td>2018-02-26</td>\n",
       "      <td>31</td>\n",
       "      <td>NaN</td>\n",
       "      <td>26</td>\n",
       "      <td>english</td>\n",
       "      <td>2017-10-30</td>\n",
       "      <td>240</td>\n",
       "      <td>2018-02-25</td>\n",
       "      <td>119.0</td>\n",
       "      <td>39.750000</td>\n",
       "      <td>-8.750000</td>\n",
       "    </tr>\n",
       "    <tr>\n",
       "      <th>1244</th>\n",
       "      <td>92</td>\n",
       "      <td>2018-02-27</td>\n",
       "      <td>35</td>\n",
       "      <td>NaN</td>\n",
       "      <td>26</td>\n",
       "      <td>english</td>\n",
       "      <td>2017-10-30</td>\n",
       "      <td>240</td>\n",
       "      <td>2018-02-25</td>\n",
       "      <td>120.0</td>\n",
       "      <td>39.750000</td>\n",
       "      <td>-4.750000</td>\n",
       "    </tr>\n",
       "  </tbody>\n",
       "</table>\n",
       "<p>11903 rows × 12 columns</p>\n",
       "</div>"
      ],
      "text/plain": [
       "       video_id       date  count  CLASS  video_length video_language  \\\n",
       "6974         70 2017-09-03     80    NaN            18        english   \n",
       "11345        16 2017-09-09    137    NaN            24        spanish   \n",
       "10177        70 2017-09-05    112    NaN            18        english   \n",
       "2897         32 2017-09-08     50    NaN            29        english   \n",
       "9627         73 2017-09-03    105    NaN            25       chineese   \n",
       "...         ...        ...    ...    ...           ...            ...   \n",
       "1702         36 2018-02-25     40    NaN            21       chineese   \n",
       "3189         23 2018-02-26     52    NaN            26        spanish   \n",
       "1152         92 2018-02-25     34    NaN            26        english   \n",
       "878          92 2018-02-26     31    NaN            26        english   \n",
       "1244         92 2018-02-27     35    NaN            26        english   \n",
       "\n",
       "      video_upload_date video_quality week_start_date  days_from_upload  \\\n",
       "6974         2017-03-09           480      2017-09-03             178.0   \n",
       "11345        2017-08-09          1080      2017-09-03              31.0   \n",
       "10177        2017-03-09           480      2017-09-03             180.0   \n",
       "2897         2017-07-09           240      2017-09-03              61.0   \n",
       "9627         2017-03-09           480      2017-09-03             178.0   \n",
       "...                 ...           ...             ...               ...   \n",
       "1702         2017-10-30           480      2018-02-25             118.0   \n",
       "3189         2017-10-29           720      2018-02-25             120.0   \n",
       "1152         2017-10-30           240      2018-02-25             118.0   \n",
       "878          2017-10-30           240      2018-02-25             119.0   \n",
       "1244         2017-10-30           240      2018-02-25             120.0   \n",
       "\n",
       "       count_week_AVG  Avg_Offset  \n",
       "6974       101.064516  -21.064516  \n",
       "11345      101.064516   35.935484  \n",
       "10177      101.064516   10.935484  \n",
       "2897       101.064516  -51.064516  \n",
       "9627       101.064516    3.935484  \n",
       "...               ...         ...  \n",
       "1702        39.750000    0.250000  \n",
       "3189        39.750000   12.250000  \n",
       "1152        39.750000   -5.750000  \n",
       "878         39.750000   -8.750000  \n",
       "1244        39.750000   -4.750000  \n",
       "\n",
       "[11903 rows x 12 columns]"
      ]
     },
     "execution_count": 330,
     "metadata": {},
     "output_type": "execute_result"
    }
   ],
   "source": [
    "df_joined_with_avg = df_joined.join(df_wk_avg, on='week_start_date', rsuffix='_week_AVG')\n",
    "df_joined_with_avg['Avg_Offset'] = df_joined_with_avg['count'] - df_joined_with_avg.count_week_AVG\n",
    "df_joined_with_avg.sort_values('week_start_date')"
   ]
  },
  {
   "cell_type": "code",
   "execution_count": null,
   "metadata": {},
   "outputs": [],
   "source": [
    "\n"
   ]
  },
  {
   "cell_type": "code",
   "execution_count": 331,
   "metadata": {},
   "outputs": [
    {
     "data": {
      "text/plain": [
       "video_language\n",
       "chineese    4169\n",
       "english     3929\n",
       "spanish     3805\n",
       "dtype: int64"
      ]
     },
     "execution_count": 331,
     "metadata": {},
     "output_type": "execute_result"
    }
   ],
   "source": [
    "df_joined.groupby('video_language').size()"
   ]
  },
  {
   "cell_type": "code",
   "execution_count": 332,
   "metadata": {},
   "outputs": [
    {
     "data": {
      "image/png": "[encoded data removed]",
      "text/plain": [
       "<Figure size 432x288 with 9 Axes>"
      ]
     },
     "metadata": {
      "needs_background": "light"
     },
     "output_type": "display_data"
    }
   ],
   "source": [
    "df_joined_with_avg.plot(kind='box', subplots=True, layout=(3,3), sharex=False, sharey=False)\n",
    "pyplot.show()"
   ]
  },
  {
   "cell_type": "code",
   "execution_count": 333,
   "metadata": {},
   "outputs": [],
   "source": [
    "encode = ['video_language']\n",
    "\n",
    "for col in encode:\n",
    "    dummy = pd.get_dummies(df_joined_with_avg[col], prefix=col)\n",
    "    df_joined_with_avg = pd.concat([df_joined_with_avg,dummy], axis=1)\n",
    "    del df_joined_with_avg[col]\n",
    "    \n",
    "cols = ['count', 'video_length', 'video_quality', 'Avg_Offset', 'days_from_upload', 'CLASS', 'video_language_chineese', 'video_language_english', 'video_language_spanish']\n",
    "df_test = df_joined_with_avg[df_joined_with_avg['CLASS'] > -2][cols]\n"
   ]
  },
  {
   "cell_type": "code",
   "execution_count": 334,
   "metadata": {},
   "outputs": [
    {
     "data": {
      "text/plain": [
       "count                           25\n",
       "video_length                    30\n",
       "video_quality                  360\n",
       "Avg_Offset                -34.9146\n",
       "days_from_upload               186\n",
       "CLASS                          NaN\n",
       "video_language_chineese          1\n",
       "video_language_english           0\n",
       "video_language_spanish           0\n",
       "Name: 500, dtype: object"
      ]
     },
     "execution_count": 334,
     "metadata": {},
     "output_type": "execute_result"
    }
   ],
   "source": [
    "\n",
    "\n",
    "df_joined_with_avg[cols].loc[500]"
   ]
  },
  {
   "cell_type": "code",
   "execution_count": null,
   "metadata": {},
   "outputs": [],
   "source": []
  },
  {
   "cell_type": "code",
   "execution_count": null,
   "metadata": {},
   "outputs": [],
   "source": []
  },
  {
   "cell_type": "code",
   "execution_count": 335,
   "metadata": {},
   "outputs": [],
   "source": [
    "# Split-out validation dataset\n",
    "\n",
    "array = df_test.drop(columns='CLASS').values\n",
    "X = array[:,0:]\n",
    "y = df_test['CLASS'].values\n",
    "X_train, X_validation, Y_train, Y_validation = train_test_split(X, y, test_size=0.20, random_state=1)"
   ]
  },
  {
   "cell_type": "code",
   "execution_count": 336,
   "metadata": {},
   "outputs": [
    {
     "data": {
      "text/plain": [
       "array([72, 28, '1080', -0.39942112879884917, 87.0, 0, 1, 0], dtype=object)"
      ]
     },
     "execution_count": 336,
     "metadata": {},
     "output_type": "execute_result"
    }
   ],
   "source": [
    "X_train[1]"
   ]
  },
  {
   "cell_type": "code",
   "execution_count": 337,
   "metadata": {},
   "outputs": [
    {
     "data": {
      "text/plain": [
       "RandomForestClassifier()"
      ]
     },
     "execution_count": 337,
     "metadata": {},
     "output_type": "execute_result"
    }
   ],
   "source": [
    "from sklearn.ensemble import RandomForestClassifier\n",
    "clf = RandomForestClassifier()\n",
    "clf.fit(X_train, Y_train)"
   ]
  },
  {
   "cell_type": "code",
   "execution_count": 338,
   "metadata": {},
   "outputs": [],
   "source": [
    "import random as rd"
   ]
  },
  {
   "cell_type": "code",
   "execution_count": 412,
   "metadata": {},
   "outputs": [
    {
     "name": "stdout",
     "output_type": "stream",
     "text": [
      "[[76 20 '360' 4.954941860465112 60.0 1 0 0]] 6457\n"
     ]
    },
    {
     "data": {
      "text/plain": [
       "array([0.])"
      ]
     },
     "execution_count": 412,
     "metadata": {},
     "output_type": "execute_result"
    }
   ],
   "source": [
    "ind = rd.randint(0, 11000)\n",
    "data = df_joined_with_avg[cols].drop(columns='CLASS').sort_values('count').loc[ind].values.reshape(1,-1)\n",
    "print(data, ind)\n",
    "prediction = clf.predict(data)\n",
    "prediction"
   ]
  },
  {
   "cell_type": "code",
   "execution_count": 432,
   "metadata": {},
   "outputs": [
    {
     "name": "stdout",
     "output_type": "stream",
     "text": [
      "2021-05-16 17:49:35.792717\n",
      "2021-05-16 17:51:43.481791\n"
     ]
    }
   ],
   "source": [
    "print(dt.datetime.now())\n",
    "data = df_joined_with_avg[cols].drop(columns='CLASS').sort_values('count').values\n",
    "data\n",
    "\n",
    "df_joined_with_avg['Prediction'] = [clf.predict(x.reshape(1, -1)) for x in data]\n",
    "print(dt.datetime.now())"
   ]
  },
  {
   "cell_type": "code",
   "execution_count": 428,
   "metadata": {},
   "outputs": [],
   "source": [
    "df_joined_with_avg.to_excel(path_folder+'final_df.xlsx')"
   ]
  },
  {
   "cell_type": "code",
   "execution_count": null,
   "metadata": {},
   "outputs": [],
   "source": []
  },
  {
   "cell_type": "code",
   "execution_count": 435,
   "metadata": {},
   "outputs": [
    {
     "name": "stdout",
     "output_type": "stream",
     "text": [
      "[[128 21 '1080' 42.04970760233918 34.0 0 1 0]] 6457\n"
     ]
    }
   ],
   "source": [
    "data = df_joined_with_avg[cols].drop(columns='CLASS').sort_values('count').loc[11031].values.reshape(1,-1)\n",
    "print(data, ind)\n",
    "prediction = clf.predict(data)"
   ]
  },
  {
   "cell_type": "code",
   "execution_count": 436,
   "metadata": {},
   "outputs": [
    {
     "data": {
      "text/plain": [
       "array([1.])"
      ]
     },
     "execution_count": 436,
     "metadata": {},
     "output_type": "execute_result"
    }
   ],
   "source": [
    "prediction"
   ]
  },
  {
   "cell_type": "code",
   "execution_count": null,
   "metadata": {},
   "outputs": [],
   "source": []
  },
  {
   "cell_type": "code",
   "execution_count": null,
   "metadata": {},
   "outputs": [],
   "source": []
  }
 ],
 "metadata": {
  "kernelspec": {
   "display_name": "Python 3",
   "language": "python",
   "name": "python3"
  },
  "language_info": {
   "codemirror_mode": {
    "name": "ipython",
    "version": 3
   },
   "file_extension": ".py",
   "mimetype": "text/x-python",
   "name": "python",
   "nbconvert_exporter": "python",
   "pygments_lexer": "ipython3",
   "version": "3.8.3"
  }
 },
 "nbformat": 4,
 "nbformat_minor": 4
}
