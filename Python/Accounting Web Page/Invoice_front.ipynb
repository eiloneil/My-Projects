{
 "cells": [
  {
   "cell_type": "code",
   "execution_count": 15,
   "metadata": {},
   "outputs": [
    {
     "data": {
      "text/plain": [
       "{('AID', 'single_regular'): 119.34,\n",
       " ('AID', 'son_no_bag'): 15.21,\n",
       " ('AID', 'son_with_bag'): 17.55,\n",
       " ('AID', 'Father_pooling'): 119.34,\n",
       " ('Ilex', 'single_regular'): 119.34,\n",
       " ('Ilex', 'son_no_bag'): 29.25,\n",
       " ('Ilex', 'son_with_bag'): 17.55,\n",
       " ('Ilex', 'Father_pooling'): 159.12,\n",
       " ('Electra', 'single_regular'): 89.622,\n",
       " ('Electra', 'son_no_bag'): 25.74,\n",
       " ('Electra', 'son_with_bag'): 23.985,\n",
       " ('Electra', 'Father_pooling'): 114.66,\n",
       " ('Electra', 'single_pooling'): 71.6976,\n",
       " ('MH', 'single_regular'): 116.5203,\n",
       " ('MH', 'son_no_bag'): 28.08,\n",
       " ('MH', 'son_with_bag'): 17.55,\n",
       " ('MH', 'Father_pooling'): 116.5203}"
      ]
     },
     "execution_count": 15,
     "metadata": {},
     "output_type": "execute_result"
    }
   ],
   "source": [
    "import pandas as pd\n",
    "import numpy as np\n",
    "import pyodbc\n",
    "import datetime\n",
    "pd.set_option('display.float_format', lambda x: '%.3f' % x)\n",
    "\n",
    "labs = ['AID','Ilex','Electra','MH']\n",
    "bill_types = ['Sampler','Lab']\n",
    "\n",
    "class Price:\n",
    "    def __init__(self,lab,test_type,price):\n",
    "        self.lab = lab\n",
    "        self.test_type = test_type\n",
    "        self.price = price\n",
    "\n",
    "    def to_dict(self):\n",
    "        return {(self.lab ,self.test_type):self.price}\n",
    "\n",
    "\n",
    "lab_prices = {}\n",
    "#AID\n",
    "lab_prices.update(Price(lab = 'AID',test_type='single_regular', price = 119.34).to_dict())\n",
    "lab_prices.update(Price(lab = 'AID',test_type='son_no_bag', price = 15.21).to_dict())\n",
    "lab_prices.update(Price(lab = 'AID',test_type='son_with_bag', price = 17.55).to_dict())\n",
    "lab_prices.update(Price(lab = 'AID',test_type='Father_pooling', price = 119.34).to_dict())\n",
    "#Ilex\n",
    "lab_prices.update(Price(lab = 'Ilex',test_type='single_regular', price = 119.34).to_dict())\n",
    "lab_prices.update(Price(lab = 'Ilex',test_type='son_no_bag', price = 29.25).to_dict())\n",
    "lab_prices.update(Price(lab = 'Ilex',test_type='son_with_bag', price = 17.55).to_dict())\n",
    "lab_prices.update(Price(lab = 'Ilex',test_type='Father_pooling',price = 159.12).to_dict())\n",
    "#Electra\n",
    "lab_prices.update(Price(lab = 'Electra',test_type='single_regular', price = 89.622).to_dict())\n",
    "lab_prices.update(Price(lab = 'Electra',test_type='son_no_bag', price = 25.74).to_dict())\n",
    "lab_prices.update(Price(lab = 'Electra',test_type='son_with_bag', price = 23.985).to_dict())\n",
    "lab_prices.update(Price(lab = 'Electra',test_type='Father_pooling', price = 114.66).to_dict())\n",
    "lab_prices.update(Price(lab = 'Electra',test_type='single_pooling', price = 71.6976).to_dict())\n",
    "#MH\n",
    "lab_prices.update(Price(lab = 'MH',test_type='single_regular', price = 116.5203).to_dict())\n",
    "lab_prices.update(Price(lab = 'MH',test_type='son_no_bag', price = 28.08).to_dict())\n",
    "lab_prices.update(Price(lab = 'MH',test_type='son_with_bag', price = 17.55).to_dict())\n",
    "lab_prices.update(Price(lab = 'MH',test_type='Father_pooling', price = 116.5203).to_dict())\n",
    "\n",
    "def get_lab_price(lab,test_type):\n",
    "    if (lab,test_type) in lab_prices.keys():\n",
    "        return lab_prices[(lab,test_type)]\n",
    "    else:\n",
    "        return -10000000\n",
    "    \n",
    "lab_prices\n",
    "\n"
   ]
  },
  {
   "cell_type": "code",
   "execution_count": 20,
   "metadata": {},
   "outputs": [
    {
     "data": {
      "text/html": [
       "<div>\n",
       "<style scoped>\n",
       "    .dataframe tbody tr th:only-of-type {\n",
       "        vertical-align: middle;\n",
       "    }\n",
       "\n",
       "    .dataframe tbody tr th {\n",
       "        vertical-align: top;\n",
       "    }\n",
       "\n",
       "    .dataframe thead th {\n",
       "        text-align: right;\n",
       "    }\n",
       "</style>\n",
       "<table border=\"1\" class=\"dataframe\">\n",
       "  <thead>\n",
       "    <tr style=\"text-align: right;\">\n",
       "      <th></th>\n",
       "      <th>barcode</th>\n",
       "      <th>arrival_date</th>\n",
       "      <th>result_date</th>\n",
       "      <th>result</th>\n",
       "      <th>??? ?????</th>\n",
       "      <th>type</th>\n",
       "    </tr>\n",
       "  </thead>\n",
       "  <tbody>\n",
       "    <tr>\n",
       "      <th>0</th>\n",
       "      <td>65871994.000</td>\n",
       "      <td>2021-07-29 00:17:19</td>\n",
       "      <td>2021-07-29 08:00:52</td>\n",
       "      <td>Negative</td>\n",
       "      <td>????</td>\n",
       "      <td>singel_regular</td>\n",
       "    </tr>\n",
       "    <tr>\n",
       "      <th>1</th>\n",
       "      <td>65873876.000</td>\n",
       "      <td>2021-07-29 14:26:17</td>\n",
       "      <td>2021-07-29 18:58:27</td>\n",
       "      <td>Negative</td>\n",
       "      <td>????</td>\n",
       "      <td>singel_regular</td>\n",
       "    </tr>\n",
       "  </tbody>\n",
       "</table>\n",
       "</div>"
      ],
      "text/plain": [
       "       barcode         arrival_date          result_date    result ??? ?????  \\\n",
       "0 65871994.000  2021-07-29 00:17:19  2021-07-29 08:00:52  Negative      ????   \n",
       "1 65873876.000  2021-07-29 14:26:17  2021-07-29 18:58:27  Negative      ????   \n",
       "\n",
       "             type  \n",
       "0  singel_regular  \n",
       "1  singel_regular  "
      ]
     },
     "execution_count": 20,
     "metadata": {},
     "output_type": "execute_result"
    }
   ],
   "source": [
    "import pandas as pd\n",
    "df = pd.read_csv(r\"C:\\Users\\eilon.eilstein\\Downloads\\AID raw.csv\")\n",
    "df.head(2)"
   ]
  },
  {
   "cell_type": "code",
   "execution_count": 22,
   "metadata": {},
   "outputs": [
    {
     "name": "stdout",
     "output_type": "stream",
     "text": [
      "             type  barcode\n",
      "0  Father_pooling        1\n",
      "1  singel_regular        1\n",
      "2      son_no_bag        1\n"
     ]
    },
    {
     "data": {
      "text/html": [
       "<div>\n",
       "<style scoped>\n",
       "    .dataframe tbody tr th:only-of-type {\n",
       "        vertical-align: middle;\n",
       "    }\n",
       "\n",
       "    .dataframe tbody tr th {\n",
       "        vertical-align: top;\n",
       "    }\n",
       "\n",
       "    .dataframe thead th {\n",
       "        text-align: right;\n",
       "    }\n",
       "</style>\n",
       "<table border=\"1\" class=\"dataframe\">\n",
       "  <thead>\n",
       "    <tr style=\"text-align: right;\">\n",
       "      <th></th>\n",
       "      <th>type</th>\n",
       "      <th>barcode</th>\n",
       "      <th>Price</th>\n",
       "    </tr>\n",
       "  </thead>\n",
       "  <tbody>\n",
       "    <tr>\n",
       "      <th>0</th>\n",
       "      <td>Father_pooling</td>\n",
       "      <td>1</td>\n",
       "      <td>119.34</td>\n",
       "    </tr>\n",
       "    <tr>\n",
       "      <th>1</th>\n",
       "      <td>singel_regular</td>\n",
       "      <td>1</td>\n",
       "      <td>-10,000,000.00</td>\n",
       "    </tr>\n",
       "    <tr>\n",
       "      <th>2</th>\n",
       "      <td>son_no_bag</td>\n",
       "      <td>1</td>\n",
       "      <td>15.21</td>\n",
       "    </tr>\n",
       "  </tbody>\n",
       "</table>\n",
       "</div>"
      ],
      "text/plain": [
       "             type  barcode          Price\n",
       "0  Father_pooling        1         119.34\n",
       "1  singel_regular        1 -10,000,000.00\n",
       "2      son_no_bag        1          15.21"
      ]
     },
     "execution_count": 22,
     "metadata": {},
     "output_type": "execute_result"
    }
   ],
   "source": [
    "pd.options.display.float_format = '{:,.2f}'.format\n",
    "\n",
    "def get_Count_df(df):\n",
    "    df = df.copy(deep=True)\n",
    "    df = df.groupby('type').count().reset_index()[['type', 'barcode']]\n",
    "    return df\n",
    "\n",
    "\n",
    "def main(df):\n",
    "    return get_Count_df(df)\n",
    "\n",
    "df = main(df)\n",
    "print(df)\n",
    "\n",
    "df['Price'] = df.apply(lambda row: get_lab_price('AID', row['type']), axis=1)\n",
    "df"
   ]
  },
  {
   "cell_type": "code",
   "execution_count": 24,
   "metadata": {},
   "outputs": [
    {
     "data": {
      "text/plain": [
       "{('AID', 'single_regular'): 119.34,\n",
       " ('AID', 'son_no_bag'): 15.21,\n",
       " ('AID', 'son_with_bag'): 17.55,\n",
       " ('AID', 'Father_pooling'): 119.34,\n",
       " ('Ilex', 'single_regular'): 119.34,\n",
       " ('Ilex', 'son_no_bag'): 29.25,\n",
       " ('Ilex', 'son_with_bag'): 17.55,\n",
       " ('Ilex', 'Father_pooling'): 159.12,\n",
       " ('Electra', 'single_regular'): 89.622,\n",
       " ('Electra', 'son_no_bag'): 25.74,\n",
       " ('Electra', 'son_with_bag'): 23.985,\n",
       " ('Electra', 'Father_pooling'): 114.66,\n",
       " ('Electra', 'single_pooling'): 71.6976,\n",
       " ('MH', 'single_regular'): 116.5203,\n",
       " ('MH', 'son_no_bag'): 28.08,\n",
       " ('MH', 'son_with_bag'): 17.55,\n",
       " ('MH', 'Father_pooling'): 116.5203}"
      ]
     },
     "execution_count": 24,
     "metadata": {},
     "output_type": "execute_result"
    }
   ],
   "source": [
    "lab_prices\n"
   ]
  },
  {
   "cell_type": "markdown",
   "metadata": {},
   "source": [
    "# Lab Functions"
   ]
  },
  {
   "cell_type": "code",
   "execution_count": 16,
   "metadata": {},
   "outputs": [],
   "source": [
    "def drop_labs_tests(df,operator_name):\n",
    "    df = df.sort_values(by=['type']).drop_duplicates(subset=['barcode'])\n",
    "    df['freq'] = df.groupby('barcode')['barcode'].transform('count')\n",
    "    return df\n",
    "\n",
    "def get_receipt(df):\n",
    "    receipt = df.groupby('type').sum()\n",
    "    return receipt"
   ]
  },
  {
   "cell_type": "markdown",
   "metadata": {},
   "source": [
    "# Main Part "
   ]
  },
  {
   "cell_type": "code",
   "execution_count": 17,
   "metadata": {},
   "outputs": [
    {
     "name": "stdout",
     "output_type": "stream",
     "text": [
      "     barcode        arrival_date         result_date         result  \\\n",
      "0  309031186 2021-07-14 20:37:51 2021-07-15 01:38:52       Negative   \n",
      "1  309026886 2021-07-09 04:06:01 2021-07-09 11:06:15       Negative   \n",
      "2  309026885 2021-07-08 19:48:55 2021-07-09 01:55:23       Negative   \n",
      "3  309026884 2021-07-07 09:09:56 2021-07-07 17:04:53       Negative   \n",
      "4  309026883 2021-07-07 09:11:16 2021-07-07 17:04:57  Weak Positive   \n",
      "\n",
      "     סוג מבחנה            type  freq   Price  \n",
      "0  מבחנת איגום  Father_pooling     1 119.340  \n",
      "1  מבחנת איגום  Father_pooling     1 119.340  \n",
      "2  מבחנת איגום  Father_pooling     1 119.340  \n",
      "3  מבחנת איגום  Father_pooling     1 119.340  \n",
      "4  מבחנת איגום  Father_pooling     1 119.340  \n"
     ]
    },
    {
     "data": {
      "text/html": [
       "<div>\n",
       "<style scoped>\n",
       "    .dataframe tbody tr th:only-of-type {\n",
       "        vertical-align: middle;\n",
       "    }\n",
       "\n",
       "    .dataframe tbody tr th {\n",
       "        vertical-align: top;\n",
       "    }\n",
       "\n",
       "    .dataframe thead th {\n",
       "        text-align: right;\n",
       "    }\n",
       "</style>\n",
       "<table border=\"1\" class=\"dataframe\">\n",
       "  <thead>\n",
       "    <tr style=\"text-align: right;\">\n",
       "      <th></th>\n",
       "      <th>barcode</th>\n",
       "      <th>arrival_date</th>\n",
       "      <th>result_date</th>\n",
       "      <th>result</th>\n",
       "      <th>סוג מבחנה</th>\n",
       "      <th>type</th>\n",
       "      <th>freq</th>\n",
       "      <th>Price</th>\n",
       "    </tr>\n",
       "  </thead>\n",
       "  <tbody>\n",
       "    <tr>\n",
       "      <th>0</th>\n",
       "      <td>309031186</td>\n",
       "      <td>2021-07-14 20:37:51</td>\n",
       "      <td>2021-07-15 01:38:52</td>\n",
       "      <td>Negative</td>\n",
       "      <td>מבחנת איגום</td>\n",
       "      <td>Father_pooling</td>\n",
       "      <td>1</td>\n",
       "      <td>119.340</td>\n",
       "    </tr>\n",
       "    <tr>\n",
       "      <th>1</th>\n",
       "      <td>309026886</td>\n",
       "      <td>2021-07-09 04:06:01</td>\n",
       "      <td>2021-07-09 11:06:15</td>\n",
       "      <td>Negative</td>\n",
       "      <td>מבחנת איגום</td>\n",
       "      <td>Father_pooling</td>\n",
       "      <td>1</td>\n",
       "      <td>119.340</td>\n",
       "    </tr>\n",
       "    <tr>\n",
       "      <th>2</th>\n",
       "      <td>309026885</td>\n",
       "      <td>2021-07-08 19:48:55</td>\n",
       "      <td>2021-07-09 01:55:23</td>\n",
       "      <td>Negative</td>\n",
       "      <td>מבחנת איגום</td>\n",
       "      <td>Father_pooling</td>\n",
       "      <td>1</td>\n",
       "      <td>119.340</td>\n",
       "    </tr>\n",
       "    <tr>\n",
       "      <th>3</th>\n",
       "      <td>309026884</td>\n",
       "      <td>2021-07-07 09:09:56</td>\n",
       "      <td>2021-07-07 17:04:53</td>\n",
       "      <td>Negative</td>\n",
       "      <td>מבחנת איגום</td>\n",
       "      <td>Father_pooling</td>\n",
       "      <td>1</td>\n",
       "      <td>119.340</td>\n",
       "    </tr>\n",
       "    <tr>\n",
       "      <th>4</th>\n",
       "      <td>309026883</td>\n",
       "      <td>2021-07-07 09:11:16</td>\n",
       "      <td>2021-07-07 17:04:57</td>\n",
       "      <td>Weak Positive</td>\n",
       "      <td>מבחנת איגום</td>\n",
       "      <td>Father_pooling</td>\n",
       "      <td>1</td>\n",
       "      <td>119.340</td>\n",
       "    </tr>\n",
       "  </tbody>\n",
       "</table>\n",
       "</div>"
      ],
      "text/plain": [
       "     barcode        arrival_date         result_date         result  \\\n",
       "0  309031186 2021-07-14 20:37:51 2021-07-15 01:38:52       Negative   \n",
       "1  309026886 2021-07-09 04:06:01 2021-07-09 11:06:15       Negative   \n",
       "2  309026885 2021-07-08 19:48:55 2021-07-09 01:55:23       Negative   \n",
       "3  309026884 2021-07-07 09:09:56 2021-07-07 17:04:53       Negative   \n",
       "4  309026883 2021-07-07 09:11:16 2021-07-07 17:04:57  Weak Positive   \n",
       "\n",
       "     סוג מבחנה            type  freq   Price  \n",
       "0  מבחנת איגום  Father_pooling     1 119.340  \n",
       "1  מבחנת איגום  Father_pooling     1 119.340  \n",
       "2  מבחנת איגום  Father_pooling     1 119.340  \n",
       "3  מבחנת איגום  Father_pooling     1 119.340  \n",
       "4  מבחנת איגום  Father_pooling     1 119.340  "
      ]
     },
     "execution_count": 17,
     "metadata": {},
     "output_type": "execute_result"
    }
   ],
   "source": [
    "bill_type = 'Lab' ## Sampler/Lab\n",
    "operator_name = 'AID'\n",
    "# file_name = 'july files\\AID\\AID raw.xlsx'\n",
    "file_name = 'bills_sample.xlsx'\n",
    "global df\n",
    "\n",
    "def the_main():\n",
    "    df = pd.read_excel(file_name)\n",
    "    df = drop_tests(df, bill_type, operator_name)  \n",
    "    df = get_Price_column(df, bill_type, operator_name)\n",
    "    df = get_sla_column(df, bill_type, operator_name)\n",
    "    df = found_on_bi(df, bill_type, operator_name)\n",
    "    return df\n",
    "\n",
    "    return 0\n",
    "\n",
    "\n",
    "def drop_tests(df,bill_type,operator_name):\n",
    "    df = df.copy(deep=True)\n",
    "    if bill_type == 'Lab':\n",
    "        df = drop_labs_tests(df,operator_name)\n",
    "#         print(df)\n",
    "        return df\n",
    "    elif bill_type == 'Sampler':\n",
    "        return df\n",
    "    else:\n",
    "        return -100\n",
    "        \n",
    "def get_Price_column(df,bill_type,operator_name):\n",
    "    df = df.copy(deep=True)\n",
    "    if bill_type == 'Lab':\n",
    "        df['result_date'].fillna(df['arrival_date'], inplace = True)\n",
    "        df['Price'] = df.apply(lambda row: get_lab_price(operator_name,row['type']), axis=1)\n",
    "        print(df)\n",
    "        return df\n",
    "    elif bill_type == 'Sampler':\n",
    "        return df\n",
    "    else:\n",
    "        return -100\n",
    "        \n",
    "def get_sla_column(df,bill_type,operator_name):\n",
    "    df = df.copy(deep=True)\n",
    "    if bill_type == 'Lab':\n",
    "        return df\n",
    "    elif bill_type == 'Sampler':\n",
    "        return df\n",
    "    else:\n",
    "        return -100\n",
    "\n",
    "def found_on_bi(df,bill_type,operator_name):\n",
    "    df = df.copy(deep=True)\n",
    "    if bill_type == 'Lab':\n",
    "        return df\n",
    "    elif bill_type == 'Sampler':\n",
    "        return df\n",
    "    else:\n",
    "        return -100\n",
    "\n",
    "df = the_main()\n",
    "df"
   ]
  },
  {
   "cell_type": "code",
   "execution_count": 11,
   "metadata": {
    "scrolled": true
   },
   "outputs": [
    {
     "data": {
      "text/html": [
       "<div>\n",
       "<style scoped>\n",
       "    .dataframe tbody tr th:only-of-type {\n",
       "        vertical-align: middle;\n",
       "    }\n",
       "\n",
       "    .dataframe tbody tr th {\n",
       "        vertical-align: top;\n",
       "    }\n",
       "\n",
       "    .dataframe thead th {\n",
       "        text-align: right;\n",
       "    }\n",
       "</style>\n",
       "<table border=\"1\" class=\"dataframe\">\n",
       "  <thead>\n",
       "    <tr style=\"text-align: right;\">\n",
       "      <th></th>\n",
       "      <th>barcode</th>\n",
       "      <th>arrival_date</th>\n",
       "      <th>result_date</th>\n",
       "      <th>result</th>\n",
       "      <th>סוג מבחנה</th>\n",
       "      <th>type</th>\n",
       "      <th>freq</th>\n",
       "      <th>Price</th>\n",
       "    </tr>\n",
       "  </thead>\n",
       "  <tbody>\n",
       "  </tbody>\n",
       "</table>\n",
       "</div>"
      ],
      "text/plain": [
       "Empty DataFrame\n",
       "Columns: [barcode, arrival_date, result_date, result, סוג מבחנה, type, freq, Price]\n",
       "Index: []"
      ]
     },
     "execution_count": 11,
     "metadata": {},
     "output_type": "execute_result"
    }
   ],
   "source": [
    "df[df['freq']>1].sort_values(by=['type']).drop_duplicates(subset=['barcode'])"
   ]
  },
  {
   "cell_type": "code",
   "execution_count": 77,
   "metadata": {},
   "outputs": [
    {
     "data": {
      "text/html": [
       "<div>\n",
       "<style scoped>\n",
       "    .dataframe tbody tr th:only-of-type {\n",
       "        vertical-align: middle;\n",
       "    }\n",
       "\n",
       "    .dataframe tbody tr th {\n",
       "        vertical-align: top;\n",
       "    }\n",
       "\n",
       "    .dataframe thead th {\n",
       "        text-align: right;\n",
       "    }\n",
       "</style>\n",
       "<table border=\"1\" class=\"dataframe\">\n",
       "  <thead>\n",
       "    <tr style=\"text-align: right;\">\n",
       "      <th></th>\n",
       "      <th>barcode</th>\n",
       "      <th>arrival_date</th>\n",
       "      <th>result_date</th>\n",
       "      <th>result</th>\n",
       "      <th>סוג מבחנה</th>\n",
       "      <th>type</th>\n",
       "      <th>freq</th>\n",
       "      <th>Price</th>\n",
       "    </tr>\n",
       "  </thead>\n",
       "  <tbody>\n",
       "    <tr>\n",
       "      <th>195458</th>\n",
       "      <td>309031186</td>\n",
       "      <td>2021-07-14 20:37:51</td>\n",
       "      <td>2021-07-15 01:38:52</td>\n",
       "      <td>Negative</td>\n",
       "      <td>מבחנת איגום</td>\n",
       "      <td>Father_pooling</td>\n",
       "      <td>1</td>\n",
       "      <td>119.340</td>\n",
       "    </tr>\n",
       "    <tr>\n",
       "      <th>194429</th>\n",
       "      <td>309026886</td>\n",
       "      <td>2021-07-09 04:06:01</td>\n",
       "      <td>2021-07-09 11:06:15</td>\n",
       "      <td>Negative</td>\n",
       "      <td>מבחנת איגום</td>\n",
       "      <td>Father_pooling</td>\n",
       "      <td>1</td>\n",
       "      <td>119.340</td>\n",
       "    </tr>\n",
       "    <tr>\n",
       "      <th>194428</th>\n",
       "      <td>309026885</td>\n",
       "      <td>2021-07-08 19:48:55</td>\n",
       "      <td>2021-07-09 01:55:23</td>\n",
       "      <td>Negative</td>\n",
       "      <td>מבחנת איגום</td>\n",
       "      <td>Father_pooling</td>\n",
       "      <td>1</td>\n",
       "      <td>119.340</td>\n",
       "    </tr>\n",
       "    <tr>\n",
       "      <th>194427</th>\n",
       "      <td>309026884</td>\n",
       "      <td>2021-07-07 09:09:56</td>\n",
       "      <td>2021-07-07 17:04:53</td>\n",
       "      <td>Negative</td>\n",
       "      <td>מבחנת איגום</td>\n",
       "      <td>Father_pooling</td>\n",
       "      <td>1</td>\n",
       "      <td>119.340</td>\n",
       "    </tr>\n",
       "    <tr>\n",
       "      <th>194426</th>\n",
       "      <td>309026883</td>\n",
       "      <td>2021-07-07 09:11:16</td>\n",
       "      <td>2021-07-07 17:04:57</td>\n",
       "      <td>Weak Positive</td>\n",
       "      <td>מבחנת איגום</td>\n",
       "      <td>Father_pooling</td>\n",
       "      <td>1</td>\n",
       "      <td>119.340</td>\n",
       "    </tr>\n",
       "  </tbody>\n",
       "</table>\n",
       "</div>"
      ],
      "text/plain": [
       "          barcode         arrival_date          result_date         result  \\\n",
       "195458  309031186  2021-07-14 20:37:51  2021-07-15 01:38:52       Negative   \n",
       "194429  309026886  2021-07-09 04:06:01  2021-07-09 11:06:15       Negative   \n",
       "194428  309026885  2021-07-08 19:48:55  2021-07-09 01:55:23       Negative   \n",
       "194427  309026884  2021-07-07 09:09:56  2021-07-07 17:04:53       Negative   \n",
       "194426  309026883  2021-07-07 09:11:16  2021-07-07 17:04:57  Weak Positive   \n",
       "\n",
       "          סוג מבחנה            type  freq   Price  \n",
       "195458  מבחנת איגום  Father_pooling     1 119.340  \n",
       "194429  מבחנת איגום  Father_pooling     1 119.340  \n",
       "194428  מבחנת איגום  Father_pooling     1 119.340  \n",
       "194427  מבחנת איגום  Father_pooling     1 119.340  \n",
       "194426  מבחנת איגום  Father_pooling     1 119.340  "
      ]
     },
     "execution_count": 77,
     "metadata": {},
     "output_type": "execute_result"
    }
   ],
   "source": [
    "df.head()"
   ]
  },
  {
   "cell_type": "code",
   "execution_count": 81,
   "metadata": {
    "scrolled": false
   },
   "outputs": [
    {
     "data": {
      "text/html": [
       "<div>\n",
       "<style scoped>\n",
       "    .dataframe tbody tr th:only-of-type {\n",
       "        vertical-align: middle;\n",
       "    }\n",
       "\n",
       "    .dataframe tbody tr th {\n",
       "        vertical-align: top;\n",
       "    }\n",
       "\n",
       "    .dataframe thead th {\n",
       "        text-align: right;\n",
       "    }\n",
       "</style>\n",
       "<table border=\"1\" class=\"dataframe\">\n",
       "  <thead>\n",
       "    <tr style=\"text-align: right;\">\n",
       "      <th></th>\n",
       "      <th>freq</th>\n",
       "      <th>Price</th>\n",
       "    </tr>\n",
       "    <tr>\n",
       "      <th>type</th>\n",
       "      <th></th>\n",
       "      <th></th>\n",
       "    </tr>\n",
       "  </thead>\n",
       "  <tbody>\n",
       "    <tr>\n",
       "      <th>Father_pooling</th>\n",
       "      <td>11653</td>\n",
       "      <td>1390669.020</td>\n",
       "    </tr>\n",
       "    <tr>\n",
       "      <th>singel_regular</th>\n",
       "      <td>145131</td>\n",
       "      <td>17319933.540</td>\n",
       "    </tr>\n",
       "    <tr>\n",
       "      <th>son_no_bag</th>\n",
       "      <td>186021</td>\n",
       "      <td>2829379.410</td>\n",
       "    </tr>\n",
       "  </tbody>\n",
       "</table>\n",
       "</div>"
      ],
      "text/plain": [
       "                  freq        Price\n",
       "type                               \n",
       "Father_pooling   11653  1390669.020\n",
       "singel_regular  145131 17319933.540\n",
       "son_no_bag      186021  2829379.410"
      ]
     },
     "execution_count": 81,
     "metadata": {},
     "output_type": "execute_result"
    }
   ],
   "source": [
    "get_recipt(df)[['freq','Price']]"
   ]
  },
  {
   "cell_type": "code",
   "execution_count": 8,
   "metadata": {},
   "outputs": [
    {
     "ename": "NameError",
     "evalue": "name 'df' is not defined",
     "output_type": "error",
     "traceback": [
      "\u001b[1;31m---------------------------------------------------------------------------\u001b[0m",
      "\u001b[1;31mNameError\u001b[0m                                 Traceback (most recent call last)",
      "\u001b[1;32m<ipython-input-8-00cf07b74dcd>\u001b[0m in \u001b[0;36m<module>\u001b[1;34m()\u001b[0m\n\u001b[1;32m----> 1\u001b[1;33m \u001b[0mdf\u001b[0m\u001b[1;33m\u001b[0m\u001b[0m\n\u001b[0m",
      "\u001b[1;31mNameError\u001b[0m: name 'df' is not defined"
     ]
    }
   ],
   "source": [
    "df"
   ]
  },
  {
   "cell_type": "code",
   "execution_count": null,
   "metadata": {},
   "outputs": [],
   "source": []
  },
  {
   "cell_type": "code",
   "execution_count": null,
   "metadata": {},
   "outputs": [],
   "source": []
  },
  {
   "cell_type": "code",
   "execution_count": null,
   "metadata": {},
   "outputs": [],
   "source": []
  },
  {
   "cell_type": "code",
   "execution_count": null,
   "metadata": {},
   "outputs": [],
   "source": []
  },
  {
   "cell_type": "code",
   "execution_count": null,
   "metadata": {},
   "outputs": [],
   "source": []
  },
  {
   "cell_type": "code",
   "execution_count": null,
   "metadata": {},
   "outputs": [],
   "source": []
  },
  {
   "cell_type": "code",
   "execution_count": 11,
   "metadata": {},
   "outputs": [
    {
     "data": {
      "text/plain": [
       "(342805, 7)"
      ]
     },
     "execution_count": 11,
     "metadata": {},
     "output_type": "execute_result"
    }
   ],
   "source": []
  },
  {
   "cell_type": "code",
   "execution_count": 12,
   "metadata": {},
   "outputs": [],
   "source": [
    "#הוספת שדה כפילויות\n",
    "df['freq'] = df.groupby('ברקוד')['ברקוד'].transform('count')"
   ]
  },
  {
   "cell_type": "code",
   "execution_count": 19,
   "metadata": {},
   "outputs": [
    {
     "data": {
      "text/html": [
       "<div>\n",
       "<style scoped>\n",
       "    .dataframe tbody tr th:only-of-type {\n",
       "        vertical-align: middle;\n",
       "    }\n",
       "\n",
       "    .dataframe tbody tr th {\n",
       "        vertical-align: top;\n",
       "    }\n",
       "\n",
       "    .dataframe thead th {\n",
       "        text-align: right;\n",
       "    }\n",
       "</style>\n",
       "<table border=\"1\" class=\"dataframe\">\n",
       "  <thead>\n",
       "    <tr style=\"text-align: right;\">\n",
       "      <th></th>\n",
       "      <th>ברקוד</th>\n",
       "      <th>קוד AID</th>\n",
       "      <th>גורם שולח</th>\n",
       "      <th>מועד קליטה</th>\n",
       "      <th>מועד תשובה</th>\n",
       "      <th>סוג מבחנה</th>\n",
       "      <th>freq</th>\n",
       "    </tr>\n",
       "    <tr>\n",
       "      <th>תוצאה</th>\n",
       "      <th></th>\n",
       "      <th></th>\n",
       "      <th></th>\n",
       "      <th></th>\n",
       "      <th></th>\n",
       "      <th></th>\n",
       "      <th></th>\n",
       "    </tr>\n",
       "  </thead>\n",
       "  <tbody>\n",
       "    <tr>\n",
       "      <th>Negative</th>\n",
       "      <td>19031</td>\n",
       "      <td>19031</td>\n",
       "      <td>19031</td>\n",
       "      <td>19031</td>\n",
       "      <td>19031</td>\n",
       "      <td>19031</td>\n",
       "      <td>19031</td>\n",
       "    </tr>\n",
       "    <tr>\n",
       "      <th>Performed Inconclusive</th>\n",
       "      <td>120</td>\n",
       "      <td>120</td>\n",
       "      <td>120</td>\n",
       "      <td>120</td>\n",
       "      <td>120</td>\n",
       "      <td>120</td>\n",
       "      <td>120</td>\n",
       "    </tr>\n",
       "    <tr>\n",
       "      <th>Positive</th>\n",
       "      <td>870</td>\n",
       "      <td>870</td>\n",
       "      <td>870</td>\n",
       "      <td>870</td>\n",
       "      <td>870</td>\n",
       "      <td>870</td>\n",
       "      <td>870</td>\n",
       "    </tr>\n",
       "    <tr>\n",
       "      <th>Weak Positive</th>\n",
       "      <td>57</td>\n",
       "      <td>57</td>\n",
       "      <td>57</td>\n",
       "      <td>57</td>\n",
       "      <td>57</td>\n",
       "      <td>57</td>\n",
       "      <td>57</td>\n",
       "    </tr>\n",
       "  </tbody>\n",
       "</table>\n",
       "</div>"
      ],
      "text/plain": [
       "                        ברקוד  קוד AID  גורם שולח  מועד קליטה  מועד תשובה  \\\n",
       "תוצאה                                                                       \n",
       "Negative                19031    19031      19031       19031       19031   \n",
       "Performed Inconclusive    120      120        120         120         120   \n",
       "Positive                  870      870        870         870         870   \n",
       "Weak Positive              57       57         57          57          57   \n",
       "\n",
       "                        סוג מבחנה   freq  \n",
       "תוצאה                                     \n",
       "Negative                    19031  19031  \n",
       "Performed Inconclusive        120    120  \n",
       "Positive                      870    870  \n",
       "Weak Positive                  57     57  "
      ]
     },
     "execution_count": 19,
     "metadata": {},
     "output_type": "execute_result"
    }
   ],
   "source": [
    "df[df['freq']>1].groupby(['תוצאה']).count()"
   ]
  },
  {
   "cell_type": "code",
   "execution_count": 20,
   "metadata": {},
   "outputs": [
    {
     "ename": "ModuleNotFoundError",
     "evalue": "No module named 'pandas_to_sql'",
     "output_type": "error",
     "traceback": [
      "\u001b[1;31m---------------------------------------------------------------------------\u001b[0m",
      "\u001b[1;31mModuleNotFoundError\u001b[0m                       Traceback (most recent call last)",
      "\u001b[1;32m<ipython-input-20-dea55ddf4d1e>\u001b[0m in \u001b[0;36m<module>\u001b[1;34m()\u001b[0m\n\u001b[1;32m----> 1\u001b[1;33m \u001b[1;32mimport\u001b[0m \u001b[0mpandas_to_sql\u001b[0m \u001b[1;32mas\u001b[0m \u001b[0mdm\u001b[0m\u001b[1;33m\u001b[0m\u001b[0m\n\u001b[0m\u001b[0;32m      2\u001b[0m \u001b[0mdf\u001b[0m\u001b[1;33m\u001b[0m\u001b[0m\n",
      "\u001b[1;31mModuleNotFoundError\u001b[0m: No module named 'pandas_to_sql'"
     ]
    }
   ],
   "source": []
  },
  {
   "cell_type": "code",
   "execution_count": 22,
   "metadata": {},
   "outputs": [
    {
     "ename": "ModuleNotFoundError",
     "evalue": "No module named 'streamlit'",
     "output_type": "error",
     "traceback": [
      "\u001b[1;31m---------------------------------------------------------------------------\u001b[0m",
      "\u001b[1;31mModuleNotFoundError\u001b[0m                       Traceback (most recent call last)",
      "\u001b[1;32m<ipython-input-22-12b511d36365>\u001b[0m in \u001b[0;36m<module>\u001b[1;34m()\u001b[0m\n\u001b[1;32m----> 1\u001b[1;33m \u001b[1;32mimport\u001b[0m \u001b[0mstreamlit\u001b[0m\u001b[1;33m\u001b[0m\u001b[0m\n\u001b[0m",
      "\u001b[1;31mModuleNotFoundError\u001b[0m: No module named 'streamlit'"
     ]
    }
   ],
   "source": [
    "import streamlit"
   ]
  },
  {
   "cell_type": "code",
   "execution_count": null,
   "metadata": {},
   "outputs": [],
   "source": []
  },
  {
   "cell_type": "code",
   "execution_count": null,
   "metadata": {},
   "outputs": [],
   "source": []
  },
  {
   "cell_type": "code",
   "execution_count": null,
   "metadata": {},
   "outputs": [],
   "source": []
  }
 ],
 "metadata": {
  "kernelspec": {
   "display_name": "Python 3",
   "language": "python",
   "name": "python3"
  },
  "language_info": {
   "codemirror_mode": {
    "name": "ipython",
    "version": 3
   },
   "file_extension": ".py",
   "mimetype": "text/x-python",
   "name": "python",
   "nbconvert_exporter": "python",
   "pygments_lexer": "ipython3",
   "version": "3.8.8"
  }
 },
 "nbformat": 4,
 "nbformat_minor": 2
}
