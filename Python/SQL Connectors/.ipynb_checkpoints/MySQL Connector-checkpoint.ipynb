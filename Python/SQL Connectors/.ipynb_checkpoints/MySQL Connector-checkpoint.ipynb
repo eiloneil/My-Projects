{
 "cells": [
  {
   "cell_type": "code",
   "execution_count": 38,
   "metadata": {},
   "outputs": [],
   "source": [
    "import pandas as pd\n",
    "import mysql.connector\n",
    "import os\n",
    "import sqlalchemy\n",
    "import datetime"
   ]
  },
  {
   "cell_type": "markdown",
   "metadata": {},
   "source": [
    "# Connection Parameters"
   ]
  },
  {
   "cell_type": "code",
   "execution_count": 18,
   "metadata": {},
   "outputs": [
    {
     "name": "stdout",
     "output_type": "stream",
     "text": [
      "Variables are valid\n"
     ]
    }
   ],
   "source": [
    "DB_HOSTNAME = 'localhost'\n",
    "DB_NAME = 'TestDB'\n",
    "\n",
    "DB_PW = os.environ.get('DB_PW')\n",
    "DB_USERNAME = os.environ.get('DB_USER') # Make sure you have the environmental variables set before using\n",
    "\n",
    "if (DB_PW is None) or (DB_USERNAME is None):\n",
    "    raise Exception('DB_PW or DB_USERNAME are not defined as environmental variables')\n",
    "else:\n",
    "    print('Variables are valid')"
   ]
  },
  {
   "cell_type": "code",
   "execution_count": 19,
   "metadata": {},
   "outputs": [],
   "source": [
    "# Use module: \"sqlalchemy\"\n",
    "def create_con_sqlalchemy():\n",
    "    database_connection = sqlalchemy.create_engine('mysql+mysqlconnector://{0}:{1}@{2}/{3}{4}'.\n",
    "                                                   format(DB_USERNAME, DB_PW, \n",
    "                                                          DB_HOSTNAME, DB_NAME,  \"?charset=utf8mb4\"))\n",
    "    return database_connection\n",
    "\n",
    "## Use module: \"mysql.connector\"\n",
    "# def create_con_mysql():\n",
    "#     con = mysql.connector.connect(\n",
    "#         host=DB_HOSTNAME,\n",
    "#         user=DB_USERNAME,\n",
    "#         password=DB_PW,\n",
    "#         database=DB_NAME)\n",
    "#     return con\n"
   ]
  },
  {
   "cell_type": "markdown",
   "metadata": {},
   "source": [
    "### Create Sample DF"
   ]
  },
  {
   "cell_type": "code",
   "execution_count": 20,
   "metadata": {},
   "outputs": [
    {
     "data": {
      "text/html": [
       "<div>\n",
       "<style scoped>\n",
       "    .dataframe tbody tr th:only-of-type {\n",
       "        vertical-align: middle;\n",
       "    }\n",
       "\n",
       "    .dataframe tbody tr th {\n",
       "        vertical-align: top;\n",
       "    }\n",
       "\n",
       "    .dataframe thead th {\n",
       "        text-align: right;\n",
       "    }\n",
       "</style>\n",
       "<table border=\"1\" class=\"dataframe\">\n",
       "  <thead>\n",
       "    <tr style=\"text-align: right;\">\n",
       "      <th></th>\n",
       "      <th>RowID</th>\n",
       "      <th>Name</th>\n",
       "    </tr>\n",
       "  </thead>\n",
       "  <tbody>\n",
       "    <tr>\n",
       "      <th>0</th>\n",
       "      <td>1</td>\n",
       "      <td>Eilon</td>\n",
       "    </tr>\n",
       "    <tr>\n",
       "      <th>1</th>\n",
       "      <td>2</td>\n",
       "      <td>Shir</td>\n",
       "    </tr>\n",
       "    <tr>\n",
       "      <th>2</th>\n",
       "      <td>3</td>\n",
       "      <td>Ofir</td>\n",
       "    </tr>\n",
       "  </tbody>\n",
       "</table>\n",
       "</div>"
      ],
      "text/plain": [
       "   RowID   Name\n",
       "0      1  Eilon\n",
       "1      2   Shir\n",
       "2      3   Ofir"
      ]
     },
     "execution_count": 20,
     "metadata": {},
     "output_type": "execute_result"
    }
   ],
   "source": [
    "df = pd.DataFrame([[1, 'Eilon']], columns=['RowID', 'Name'])\n",
    "data = [[2, 'Shir'], [3, 'Ofir']]\n",
    "df2 = pd.DataFrame(data, columns=list(df.columns))\n",
    "df = df.append(df2, ignore_index=True)\n",
    "df"
   ]
  },
  {
   "cell_type": "markdown",
   "metadata": {},
   "source": [
    "### Read Hebrew CSV"
   ]
  },
  {
   "cell_type": "code",
   "execution_count": 21,
   "metadata": {},
   "outputs": [
    {
     "data": {
      "text/html": [
       "<div>\n",
       "<style scoped>\n",
       "    .dataframe tbody tr th:only-of-type {\n",
       "        vertical-align: middle;\n",
       "    }\n",
       "\n",
       "    .dataframe tbody tr th {\n",
       "        vertical-align: top;\n",
       "    }\n",
       "\n",
       "    .dataframe thead th {\n",
       "        text-align: right;\n",
       "    }\n",
       "</style>\n",
       "<table border=\"1\" class=\"dataframe\">\n",
       "  <thead>\n",
       "    <tr style=\"text-align: right;\">\n",
       "      <th></th>\n",
       "      <th>שם</th>\n",
       "      <th>שם משפחה</th>\n",
       "      <th>גיל</th>\n",
       "      <th>תאריך לידה</th>\n",
       "    </tr>\n",
       "  </thead>\n",
       "  <tbody>\n",
       "    <tr>\n",
       "      <th>0</th>\n",
       "      <td>אילון</td>\n",
       "      <td>איילשטיין</td>\n",
       "      <td>22</td>\n",
       "      <td>1999-07-20</td>\n",
       "    </tr>\n",
       "    <tr>\n",
       "      <th>1</th>\n",
       "      <td>שיר</td>\n",
       "      <td>ברק</td>\n",
       "      <td>22</td>\n",
       "      <td>1999-06-13</td>\n",
       "    </tr>\n",
       "    <tr>\n",
       "      <th>2</th>\n",
       "      <td>אופיר</td>\n",
       "      <td>ברק</td>\n",
       "      <td>0</td>\n",
       "      <td>2022-05-02</td>\n",
       "    </tr>\n",
       "  </tbody>\n",
       "</table>\n",
       "</div>"
      ],
      "text/plain": [
       "      שם   שם משפחה גיל תאריך לידה\n",
       "0  אילון  איילשטיין  22 1999-07-20\n",
       "1    שיר        ברק  22 1999-06-13\n",
       "2  אופיר        ברק   0 2022-05-02"
      ]
     },
     "execution_count": 21,
     "metadata": {},
     "output_type": "execute_result"
    }
   ],
   "source": [
    "path_csv = r\"C:\\Users\\eilon.eilstein\\Desktop\\Eilon\\Python\\TestData.csv\"\n",
    "heb_df = pd.read_csv(path_csv, encoding='ISO-8859-8', parse_dates=['תאריך לידה'])\n",
    "heb_df.loc[len(heb_df)] = ['אופיר', 'ברק', '0', pd.to_datetime(datetime.datetime.today().date())]\n",
    "heb_df"
   ]
  },
  {
   "cell_type": "markdown",
   "metadata": {},
   "source": [
    "# sql_to_python"
   ]
  },
  {
   "cell_type": "code",
   "execution_count": 34,
   "metadata": {},
   "outputs": [],
   "source": [
    "def sql_to_python(table_name):\n",
    "    con = create_con_sqlalchemy()\n",
    "    qry = f'SELECT * from {table_name}'\n",
    "    df = pd.read_sql_query(qry, con=con)\n",
    "    print(f\"The SQL table '{table_name}' is now saved as Pandas DataFrame\")\n",
    "    return df"
   ]
  },
  {
   "cell_type": "markdown",
   "metadata": {},
   "source": [
    "# python_to_sql"
   ]
  },
  {
   "cell_type": "code",
   "execution_count": 35,
   "metadata": {},
   "outputs": [],
   "source": [
    "def python_to_sql(df, table_name='test'):\n",
    "    df.to_sql(con=create_con_sqlalchemy(),\n",
    "              name=table_name,\n",
    "              if_exists='replace', \n",
    "              index=False) \n",
    "    print(f\"Pandas DataFrame is now saved as '{table_name}' in SQL\")"
   ]
  },
  {
   "cell_type": "code",
   "execution_count": 36,
   "metadata": {},
   "outputs": [
    {
     "name": "stdout",
     "output_type": "stream",
     "text": [
      "Pandas DataFrame is now saved as 'TestTable2' in SQL\n"
     ]
    }
   ],
   "source": [
    "python_to_sql(heb_df, 'TestTable2')"
   ]
  },
  {
   "cell_type": "code",
   "execution_count": 37,
   "metadata": {},
   "outputs": [
    {
     "name": "stdout",
     "output_type": "stream",
     "text": [
      "The SQL table 'TestTable' is now saved as Pandas DataFrame\n"
     ]
    },
    {
     "data": {
      "text/html": [
       "<div>\n",
       "<style scoped>\n",
       "    .dataframe tbody tr th:only-of-type {\n",
       "        vertical-align: middle;\n",
       "    }\n",
       "\n",
       "    .dataframe tbody tr th {\n",
       "        vertical-align: top;\n",
       "    }\n",
       "\n",
       "    .dataframe thead th {\n",
       "        text-align: right;\n",
       "    }\n",
       "</style>\n",
       "<table border=\"1\" class=\"dataframe\">\n",
       "  <thead>\n",
       "    <tr style=\"text-align: right;\">\n",
       "      <th></th>\n",
       "      <th>RowID</th>\n",
       "      <th>Name</th>\n",
       "    </tr>\n",
       "  </thead>\n",
       "  <tbody>\n",
       "    <tr>\n",
       "      <th>0</th>\n",
       "      <td>1</td>\n",
       "      <td>Eilon</td>\n",
       "    </tr>\n",
       "    <tr>\n",
       "      <th>1</th>\n",
       "      <td>2</td>\n",
       "      <td>Shir</td>\n",
       "    </tr>\n",
       "    <tr>\n",
       "      <th>2</th>\n",
       "      <td>3</td>\n",
       "      <td>Ofir</td>\n",
       "    </tr>\n",
       "  </tbody>\n",
       "</table>\n",
       "</div>"
      ],
      "text/plain": [
       "   RowID   Name\n",
       "0      1  Eilon\n",
       "1      2   Shir\n",
       "2      3   Ofir"
      ]
     },
     "execution_count": 37,
     "metadata": {},
     "output_type": "execute_result"
    }
   ],
   "source": [
    "new_df = sql_to_python('TestTable')\n",
    "new_df.head()"
   ]
  },
  {
   "cell_type": "code",
   "execution_count": null,
   "metadata": {},
   "outputs": [],
   "source": []
  }
 ],
 "metadata": {
  "kernelspec": {
   "display_name": "Python 3",
   "language": "python",
   "name": "python3"
  },
  "language_info": {
   "codemirror_mode": {
    "name": "ipython",
    "version": 3
   },
   "file_extension": ".py",
   "mimetype": "text/x-python",
   "name": "python",
   "nbconvert_exporter": "python",
   "pygments_lexer": "ipython3",
   "version": "3.8.3"
  }
 },
 "nbformat": 4,
 "nbformat_minor": 4
}
