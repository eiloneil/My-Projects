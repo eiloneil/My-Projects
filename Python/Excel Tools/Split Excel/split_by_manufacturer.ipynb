{
 "cells": [
  {
   "cell_type": "markdown",
   "metadata": {},
   "source": [
    "### Import stuff"
   ]
  },
  {
   "cell_type": "code",
   "execution_count": 1,
   "metadata": {},
   "outputs": [],
   "source": [
    "import datetime\n",
    "import pandas as pd\n",
    "import time\n",
    "import os"
   ]
  },
  {
   "cell_type": "markdown",
   "metadata": {},
   "source": [
    "### Read SLA Excel"
   ]
  },
  {
   "cell_type": "code",
   "execution_count": 2,
   "metadata": {},
   "outputs": [
    {
     "name": "stdout",
     "output_type": "stream",
     "text": [
      "\n",
      "Insert excel-path here: C:\\Users\\eilon.eilstein\\Python\\Excel Validation for Snir\\split_by_manufacturer\\sla_input.xlsx\"'\n",
      "Invalid path. Try again...\n",
      "\n",
      "Insert excel-path here: C:\\Users\\eilon.eilstein\\Python\\Excel Validation for Snir\\split_by_manufacturer\\sla_input.xlsx\"\n",
      "Invalid path. Try again...\n",
      "\n",
      "Insert excel-path here: C:\\Users\\eilon.eilstein\\Python\\Excel Validation for Snir\\split_by_manufacturer\\sla_input.xlsx\n",
      "Excel Imported Successfully!\n"
     ]
    }
   ],
   "source": [
    "\n",
    "def get_excel():\n",
    "    path = input('\\nInsert excel-path here: ')\n",
    "    # path = r'\"C:\\Users\\eilon.eilstein\\Python\\Excel Validation for Snir\\split_by_manufacturer\\sla_input.xlsx\"'\n",
    "\n",
    "    if path[0] in ['\"', \"'\"]:\n",
    "        path = path[1:-1]\n",
    "        \n",
    "    try:\n",
    "        df_sla = pd.read_excel(path)\n",
    "        print('Excel Imported Successfully!')\n",
    "        return path, df_sla\n",
    "    except Exception as e:\n",
    "        print('Invalid path. Try again...')\n",
    "        return get_excel()\n",
    "\n",
    "path, df_sla = get_excel()"
   ]
  },
  {
   "cell_type": "markdown",
   "metadata": {},
   "source": [
    "### get Excel's Creation Date"
   ]
  },
  {
   "cell_type": "code",
   "execution_count": 3,
   "metadata": {},
   "outputs": [],
   "source": [
    "creation_date = datetime.datetime.fromtimestamp(os.path.getctime(path)).strftime('%Y-%m-%d')"
   ]
  },
  {
   "cell_type": "markdown",
   "metadata": {},
   "source": [
    "### Split and Filter Columns"
   ]
  },
  {
   "cell_type": "code",
   "execution_count": 4,
   "metadata": {},
   "outputs": [
    {
     "data": {
      "text/html": [
       "<div>\n",
       "<style scoped>\n",
       "    .dataframe tbody tr th:only-of-type {\n",
       "        vertical-align: middle;\n",
       "    }\n",
       "\n",
       "    .dataframe tbody tr th {\n",
       "        vertical-align: top;\n",
       "    }\n",
       "\n",
       "    .dataframe thead th {\n",
       "        text-align: right;\n",
       "    }\n",
       "</style>\n",
       "<table border=\"1\" class=\"dataframe\">\n",
       "  <thead>\n",
       "    <tr style=\"text-align: right;\">\n",
       "      <th></th>\n",
       "      <th>שיוך</th>\n",
       "      <th>קוד לקוח</th>\n",
       "      <th>שם לקוח</th>\n",
       "      <th>אזור</th>\n",
       "      <th>חלון זמן</th>\n",
       "    </tr>\n",
       "  </thead>\n",
       "  <tbody>\n",
       "    <tr>\n",
       "      <th>112</th>\n",
       "      <td>מכבי</td>\n",
       "      <td>1048452</td>\n",
       "      <td>הבנאי 6, אריאל</td>\n",
       "      <td>איוש</td>\n",
       "      <td>13:00-16:00</td>\n",
       "    </tr>\n",
       "    <tr>\n",
       "      <th>115</th>\n",
       "      <td>מכבי</td>\n",
       "      <td>חסר4</td>\n",
       "      <td>מכבי מקבל במקום - מדא מ. צפון</td>\n",
       "      <td>מקבל במקום</td>\n",
       "      <td>מקבל במקום</td>\n",
       "    </tr>\n",
       "    <tr>\n",
       "      <th>116</th>\n",
       "      <td>מכבי</td>\n",
       "      <td>1049959</td>\n",
       "      <td>מכבי מקבל במקום - מדא מ. דרום</td>\n",
       "      <td>מקבל במקום</td>\n",
       "      <td>מקבל במקום</td>\n",
       "    </tr>\n",
       "    <tr>\n",
       "      <th>117</th>\n",
       "      <td>מכבי</td>\n",
       "      <td>1049957</td>\n",
       "      <td>מכבי מקבל במקום - מדא מ. שרון</td>\n",
       "      <td>מקבל במקום</td>\n",
       "      <td>מקבל במקום</td>\n",
       "    </tr>\n",
       "    <tr>\n",
       "      <th>118</th>\n",
       "      <td>נובולוג</td>\n",
       "      <td>1048590</td>\n",
       "      <td>סוסנה נובולוג- בימ\"ס סוסנה נובולוג</td>\n",
       "      <td>מקבל במקום</td>\n",
       "      <td>מקבל במקום</td>\n",
       "    </tr>\n",
       "  </tbody>\n",
       "</table>\n",
       "</div>"
      ],
      "text/plain": [
       "        שיוך קוד לקוח                              שם לקוח         אזור  \\\n",
       "112     מכבי  1048452                       הבנאי 6, אריאל         איוש   \n",
       "115     מכבי     חסר4        מכבי מקבל במקום - מדא מ. צפון  מקבל במקום    \n",
       "116     מכבי  1049959        מכבי מקבל במקום - מדא מ. דרום  מקבל במקום    \n",
       "117     מכבי  1049957        מכבי מקבל במקום - מדא מ. שרון  מקבל במקום    \n",
       "118  נובולוג  1048590   סוסנה נובולוג- בימ\"ס סוסנה נובולוג  מקבל במקום    \n",
       "\n",
       "        חלון זמן  \n",
       "112  13:00-16:00  \n",
       "115  מקבל במקום   \n",
       "116  מקבל במקום   \n",
       "117  מקבל במקום   \n",
       "118  מקבל במקום   "
      ]
     },
     "execution_count": 4,
     "metadata": {},
     "output_type": "execute_result"
    }
   ],
   "source": [
    "cols = list(df_sla.columns)[:5]\n",
    "df_m = df_sla[df_sla['מודרנה'] == 'M'][cols]\n",
    "df_p = df_sla[df_sla['פייזר'] == 'p'][cols]\n",
    "df_p.tail()"
   ]
  },
  {
   "cell_type": "markdown",
   "metadata": {},
   "source": [
    "### Export Splitted Excels"
   ]
  },
  {
   "cell_type": "code",
   "execution_count": 5,
   "metadata": {},
   "outputs": [
    {
     "name": "stdout",
     "output_type": "stream",
     "text": [
      "Exported MODERNA (16, 5)\n",
      "Exported Pfizer (104, 5)\n",
      "*** DONE SUCCESSFULLY ***\n"
     ]
    }
   ],
   "source": [
    "df_m.to_excel(f'מודרנה_{creation_date}.xlsx', index=False)\n",
    "print('Exported MODERNA', df_m.shape)\n",
    "df_p.to_excel(f'פייזר_{creation_date}.xlsx', index=False)\n",
    "print('Exported Pfizer', df_p.shape)\n",
    "print('*** DONE SUCCESSFULLY ***')"
   ]
  }
 ],
 "metadata": {
  "kernelspec": {
   "display_name": "Python 3",
   "language": "python",
   "name": "python3"
  },
  "language_info": {
   "codemirror_mode": {
    "name": "ipython",
    "version": 3
   },
   "file_extension": ".py",
   "mimetype": "text/x-python",
   "name": "python",
   "nbconvert_exporter": "python",
   "pygments_lexer": "ipython3",
   "version": "3.6.5"
  }
 },
 "nbformat": 4,
 "nbformat_minor": 2
}
